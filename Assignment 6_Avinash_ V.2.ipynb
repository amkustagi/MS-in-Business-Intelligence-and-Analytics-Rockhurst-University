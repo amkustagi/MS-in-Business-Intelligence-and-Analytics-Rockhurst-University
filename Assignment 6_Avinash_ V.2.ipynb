{
 "cells": [
  {
   "cell_type": "markdown",
   "metadata": {},
   "source": [
    "## I'm scrapping the same text compared to the previous assignment, these are some of the comments on a seafood brand - 'Red Lobster' from Yelp.com"
   ]
  },
  {
   "cell_type": "code",
   "execution_count": 1,
   "metadata": {
    "collapsed": true
   },
   "outputs": [],
   "source": [
    "from urllib import urlopen\n",
    "import pandas as pd\n",
    "import requests\n",
    "from bs4 import BeautifulSoup\n",
    "pd.set_option('display.max_colwidth', 1250) #important for getting all the text"
   ]
  },
  {
   "cell_type": "code",
   "execution_count": 2,
   "metadata": {
    "collapsed": true
   },
   "outputs": [],
   "source": [
    "#Looping\n",
    "def spider(max_pages):\n",
    "    page = 0\n",
    "    html = BeautifulSoup().findAll() # initiate variable as a bs4 result set outside of while loop \n",
    "    while page <= max_pages:\n",
    "        theurl = \"http://www.yelp.com/biz/red-lobster-new-york-2?start=\" + str(page)\n",
    "        source_code = requests.get(theurl)\n",
    "        plain_text = source_code.text\n",
    "        soup = BeautifulSoup(plain_text)\n",
    "        html = html + soup.findAll(\"div\",{\"class\":\"review-content\"} )\n",
    "        page = page + 20\n",
    "    return html"
   ]
  },
  {
   "cell_type": "code",
   "execution_count": 3,
   "metadata": {
    "collapsed": true
   },
   "outputs": [],
   "source": [
    "# function to pick the data\n",
    "def toDataFrame(html):\n",
    "    DataSet = pd.DataFrame()\n",
    "    DataSet['comment'] = [comments.find('p').text for comments in html]\n",
    "    DataSet['date'] = [comments.find('span').text.replace('\\n','').replace(' ','') for comments in html]\n",
    "    return DataSet"
   ]
  },
  {
   "cell_type": "code",
   "execution_count": 5,
   "metadata": {
    "collapsed": false
   },
   "outputs": [],
   "source": [
    "#Pass the list to the above function to create a DataFrame\n",
    "data_frame = toDataFrame(spider(500))"
   ]
  },
  {
   "cell_type": "code",
   "execution_count": 6,
   "metadata": {
    "collapsed": false
   },
   "outputs": [
    {
     "name": "stdout",
     "output_type": "stream",
     "text": [
      "(392, 2)\n"
     ]
    }
   ],
   "source": [
    "print data_frame.shape"
   ]
  },
  {
   "cell_type": "code",
   "execution_count": 7,
   "metadata": {
    "collapsed": true
   },
   "outputs": [],
   "source": [
    "data_frame.head(10)\n",
    "data_frame.to_csv(\"final1.csv\", encoding='utf-8')"
   ]
  },
  {
   "cell_type": "code",
   "execution_count": 8,
   "metadata": {
    "collapsed": false
   },
   "outputs": [
    {
     "name": "stdout",
     "output_type": "stream",
     "text": [
      "(392, 2)\n"
     ]
    },
    {
     "data": {
      "text/html": [
       "<div>\n",
       "<table border=\"1\" class=\"dataframe\">\n",
       "  <thead>\n",
       "    <tr style=\"text-align: right;\">\n",
       "      <th></th>\n",
       "      <th>comment</th>\n",
       "      <th>date</th>\n",
       "    </tr>\n",
       "  </thead>\n",
       "  <tbody>\n",
       "    <tr>\n",
       "      <th>0</th>\n",
       "      <td>Ugh, you guys made me so happy tonight and don't even know it. I wanted to keep it simple tonight and went for Red Lobster in Times Square. It was also one of the restaurants close to Port Authority. If I can give anyone advice, it would be to sit at the bar, you'll get your food faster. But I also visited after hours so there was barely anyone there. Based on the receipt, my waitress was Doly? Girl, thank you! She was so sweet and kind and her partner was also. He (I didn't get his name) actually suggested the mojito for me because I had not tried it before and low and behold! It tasted exactly like my grandma's lemonade. So either they didn't make it right or my grandma has been sneaking in some good stuff and trying to get us tipsy all along. *scratches head* Either way, I loved it. The only thing I'm kinda not happy about was my $45 tab. Like. Really. I was by myself. How did I do that? Trust me when I tell you that I suck at saving and never mind the fact that food is my life.. I will spend my entire paycheck at one restaurant. Trust and believe me! Anyway, thank you Red Lobster.. For being there when I needed you the most and for taking all my money.</td>\n",
       "      <td>5/6/2016</td>\n",
       "    </tr>\n",
       "    <tr>\n",
       "      <th>1</th>\n",
       "      <td>I was here with my friend because we were in the area and needed to kill time before our next move. Long story short, I saw a mouse scurry across the room. I didn't want to make a big deal of it. I told the waiter. Literally nothing was done. He didn't update us saying he'd told the manager about it or ask me any additional questions at all. He just said \"okay\". Like....I am in your restaurant telling you I just saw a mouse. This was in the early evening (4 ish) and was not busy at all. He just really lacked customer service. I definitely will not be returning here.</td>\n",
       "      <td>5/19/2016</td>\n",
       "    </tr>\n",
       "  </tbody>\n",
       "</table>\n",
       "</div>"
      ],
      "text/plain": [
       "                                                                                                                                                                                                                                                                                                                                                                                                                                                                                                                                                                                                                                                                                                                                                                                                                                                                                                                                                                                                                                                                                                                                                                                                                  comment  \\\n",
       "0  Ugh, you guys made me so happy tonight and don't even know it. I wanted to keep it simple tonight and went for Red Lobster in Times Square. It was also one of the restaurants close to Port Authority. If I can give anyone advice, it would be to sit at the bar, you'll get your food faster. But I also visited after hours so there was barely anyone there. Based on the receipt, my waitress was Doly? Girl, thank you! She was so sweet and kind and her partner was also. He (I didn't get his name) actually suggested the mojito for me because I had not tried it before and low and behold! It tasted exactly like my grandma's lemonade. So either they didn't make it right or my grandma has been sneaking in some good stuff and trying to get us tipsy all along. *scratches head* Either way, I loved it. The only thing I'm kinda not happy about was my $45 tab. Like. Really. I was by myself. How did I do that? Trust me when I tell you that I suck at saving and never mind the fact that food is my life.. I will spend my entire paycheck at one restaurant. Trust and believe me! Anyway, thank you Red Lobster.. For being there when I needed you the most and for taking all my money.   \n",
       "1                                                                                                                                                                                                                                                                                                                                                                                                                                                                                                                                                                                                                            I was here with my friend because we were in the area and needed to kill time before our next move. Long story short, I saw a mouse scurry across the room. I didn't want to make a big deal of it. I told the waiter. Literally nothing was done. He didn't update us saying he'd told the manager about it or ask me any additional questions at all. He just said \"okay\". Like....I am in your restaurant telling you I just saw a mouse. This was in the early evening (4 ish) and was not busy at all. He just really lacked customer service. I definitely will not be returning here.   \n",
       "\n",
       "        date  \n",
       "0   5/6/2016  \n",
       "1  5/19/2016  "
      ]
     },
     "execution_count": 8,
     "metadata": {},
     "output_type": "execute_result"
    }
   ],
   "source": [
    "pathname = \"C:/Anaconda2/AText Mining/Week 6/Assignment 6/\"\n",
    "filename = pathname+\"final1.csv\"\n",
    "reviewdf = pd.read_csv(filename, index_col = 0) \n",
    "print reviewdf.shape\n",
    "reviewdf.head(2)"
   ]
  },
  {
   "cell_type": "markdown",
   "metadata": {},
   "source": [
    "### Preprocessing the Yelp text with Redlobster Customized dictionary"
   ]
  },
  {
   "cell_type": "code",
   "execution_count": 9,
   "metadata": {
    "collapsed": true
   },
   "outputs": [],
   "source": [
    "# replace contractions\n",
    "import re\n",
    "\n",
    "# using dictionaries\n",
    "\n",
    "RLobster_dict = { 'chilled jumbo shrimp cocktail':'cjshrimp','parrot isle jumbo coconut shrimp':'pijcoco',\n",
    "                  'crispy shrimp lettuce wraps':'cslr', 'blueberry balsamic dressing':'bbdressing', \n",
    "                  'brown butter scampi':'bbscampi', 'cheddar bay biscuits': 'cbiscuits', 'jumbo coconut shrimp':'coco-shrimp',\n",
    "                  'bubba gump shrimp':'shrimp','red lobster':'rlob' ,\n",
    "                  'cheesy biscuits': 'cbiscuits', 'cheddar biscuits': 'cbiscuits', 'main course': 'mcourse', \n",
    "                  'endless shrimp':'eshrimp', 'coconut shrimp':'coco-shrimp', 'lobster pizza':'lpizza' , \n",
    "                  'shrimp linguini':'shrimp-linguini', 'crab linguini':'shrimp-linguini', 'shrimp scampi' : 'shrimp', \n",
    "                  'fried shrimp':'shrimp', 'shrimp alfredo':'shrimp','stuffed mushrooms':'mashroom', \n",
    "                 'shrimp cocktail':'cocktail', \n",
    "                  'caesar salad':'salad','pina colada':'pcolada','crab legs':'crab', 'new yorker': 'NYC', \n",
    "                 'ice cream':'ice-cream',  \n",
    "                  'lobster tacos':'tocos', 'lobster tails':'ltails','mozzarella sticks':'mozzsticks', \n",
    "                 'mahi tacos':'tocos',\n",
    "                  'lobster spinach dip':'lobspindip',  'jumbo fried shrimp':'jfshrimp','stuffed lobster tail':'slobtail', \n",
    "                  'sunset pina colada':'spcolada', 'shrimp alfredo pasta':'sapasta', 'crab cakes':'CC',\n",
    "                 'Crowne Plaza hotel':'cphotel',\n",
    "                 'grilled lobster':'glob', 'the ultimate feast':'Ultfest', 'meatier crab legs':'mcleg', \n",
    "                 'maine lobster tails': 'mltail', 'whipped cream':'wcream', 'Baked potato':'bakedpot', \n",
    "                 'garden salad':'gsalad', \n",
    "                 'chopped tomato':'ctomato', 'malibu hurricane':'mhurri' , 'iceberg lettuce':'icelettuce', \n",
    "                 'fried shrimp':'shrimp',\n",
    "                 'times square':'tsqr', 'times sq':'tsqr', 'new yorker':'nyc','new york':'nyc',\n",
    "                 'ruby tuesday':'rtues', 'olive garden':'oliveG', 'outback steakhouse':'obsteak', \n",
    "                 'strawberry pina colada': 'spcolada', 'endless shrimp promotion':'espromation', \n",
    "                 'lobster + sirloin combo':'lscombo', '10':\"\", '15':\"\", '18':\"\", '20':\"\", '30':\"\",}\n",
    "\n",
    "\n",
    "def multiple_replace(dict, text): \n",
    "\n",
    "  \"\"\" Replace in 'text' all occurences of any key in the given\n",
    "  dictionary by its corresponding value.  Returns the new tring.\"\"\" \n",
    "  text = str(text).lower()\n",
    "\n",
    "  # Create a regular expression  from the dictionary keys\n",
    "  regex = re.compile(\"(%s)\" % \"|\".join(map(re.escape, dict.keys())))\n",
    "\n",
    "  # For each match, look-up corresponding value in dictionary\n",
    "  return regex.sub(lambda mo: dict[mo.string[mo.start():mo.end()]], text)"
   ]
  },
  {
   "cell_type": "code",
   "execution_count": 10,
   "metadata": {
    "collapsed": false
   },
   "outputs": [
    {
     "data": {
      "text/html": [
       "<div>\n",
       "<table border=\"1\" class=\"dataframe\">\n",
       "  <thead>\n",
       "    <tr style=\"text-align: right;\">\n",
       "      <th></th>\n",
       "      <th>comment</th>\n",
       "      <th>date</th>\n",
       "      <th>cleantext</th>\n",
       "    </tr>\n",
       "  </thead>\n",
       "  <tbody>\n",
       "    <tr>\n",
       "      <th>7</th>\n",
       "      <td>Went for an early lunch. Service was great, food amazing. The cheesy biscuits were to die for. Had the lobster mac &amp; cheese starter.....incredible!!! All the food was well presented, fresh and delicious. Would go back in a heartbeat!</td>\n",
       "      <td>4/5/2016</td>\n",
       "      <td>went for an early lunch. service was great, food amazing. the cbiscuits were to die for. had the lobster mac &amp; cheese starter.....incredible!!! all the food was well presented, fresh and delicious. would go back in a heartbeat!</td>\n",
       "    </tr>\n",
       "  </tbody>\n",
       "</table>\n",
       "</div>"
      ],
      "text/plain": [
       "                                                                                                                                                                                                                                     comment  \\\n",
       "7  Went for an early lunch. Service was great, food amazing. The cheesy biscuits were to die for. Had the lobster mac & cheese starter.....incredible!!! All the food was well presented, fresh and delicious. Would go back in a heartbeat!   \n",
       "\n",
       "       date  \\\n",
       "7  4/5/2016   \n",
       "\n",
       "                                                                                                                                                                                                                             cleantext  \n",
       "7  went for an early lunch. service was great, food amazing. the cbiscuits were to die for. had the lobster mac & cheese starter.....incredible!!! all the food was well presented, fresh and delicious. would go back in a heartbeat!  "
      ]
     },
     "execution_count": 10,
     "metadata": {},
     "output_type": "execute_result"
    }
   ],
   "source": [
    "reviewdf['cleantext'] = map(lambda x: multiple_replace(RLobster_dict, x), reviewdf['comment'])\n",
    "reviewdf[7:8] "
   ]
  },
  {
   "cell_type": "markdown",
   "metadata": {},
   "source": [
    "### T1. Write a function that can be used to measure the similarity/dissimilarity of a given document to each document in a collection of other documents (like within the rest of the dataframe). Have the function return the “best match” for the specified document. Show one example either on your dataset or an example dataset."
   ]
  },
  {
   "cell_type": "code",
   "execution_count": 11,
   "metadata": {
    "collapsed": true
   },
   "outputs": [],
   "source": [
    "# set up the environment\n",
    "import pandas as pd\n",
    "import numpy as np\n",
    "from sklearn.feature_extraction.text import CountVectorizer, TfidfVectorizer\n",
    "import nltk"
   ]
  },
  {
   "cell_type": "markdown",
   "metadata": {},
   "source": [
    "### Initiating CountVectorizer"
   ]
  },
  {
   "cell_type": "code",
   "execution_count": 12,
   "metadata": {
    "collapsed": false
   },
   "outputs": [
    {
     "name": "stdout",
     "output_type": "stream",
     "text": [
      "<class 'scipy.sparse.csr.csr_matrix'>\n",
      "(392, 166)\n",
      "[u'actually', u'amazing', u'area', u'ask', u'asked', u'ate', u'away', u'awesome', u'bad', u'bar', u'best', u'better', u'big', u'birthday', u'biscuits', u'bit', u'busy', u'butter', u'came', u'cbiscuits', u'chain', u'chain restaurant', u'check', u'cheese', u'city', u'come', u'coming', u'cooked', u'course', u'crab', u'day', u'decent', u'definitely', u'delicious', u'dessert', u'did', u'didn', u'dining', u'dinner', u'don', u'drink', u'drinks', u'eat', u'eating', u'expect', u'expensive', u'experience', u'extremely', u'feel', u'finally', u'fish', u'food', u'food good', u'free', u'fresh', u'fried', u'friend', u'friendly', u'friends', u'gave', u'getting', u'going', u'good', u'got', u'gratuity', u'great', u'high', u'home', u'hour', u'just', u'kind', u'know', u'left', u'let', u'like', u'little', u'll', u'lobster', u'location', u'long', u'lot', u'love', u'lunch', u'make', u'maybe', u'meal', u'menu', u'minutes', u'money', u'nice', u'night', u'nyc', u'oh', u'ok', u'okay', u'order', u'ordered', u'overall', u'party', u'pay', u'people', u'place', u'places', u'plate', u'pretty', u'price', u'prices', u'probably', u'quality', u'quite', u'really', u'recommend', u'restaurant', u'restaurants', u'right', u'rlob', u'said', u'salad', u'salty', u'sauce', u'say', u'seafood', u'seated', u'second', u'served', u'server', u'service', u'shrimp', u'small', u'special', u'staff', u'star', u'stars', u'sure', u'table', u'taste', u'tasted', u'tasty', u'thing', u'think', u'time', u'times', u'tip', u'told', u'took', u'tourist', u'tourists', u'try', u'tsqruare', u'upstairs', u'usually', u've', u'visit', u'wait', u'waited', u'waiter', u'waiting', u'waitress', u'want', u'wanted', u'wasn', u'way', u'went', u'work', u'worth', u'yes']\n",
      "[[ 0.03448276  0.          0.         ...,  0.          0.          0.        ]\n",
      " [ 0.          0.          0.04166667 ...,  0.          0.          0.        ]\n",
      " [ 0.          0.          0.         ...,  0.05263158  0.          0.        ]\n",
      " ..., \n",
      " [ 0.          0.          0.         ...,  0.          0.          0.        ]\n",
      " [ 0.          0.          0.         ...,  0.          0.          0.        ]\n",
      " [ 0.          0.          0.         ...,  0.          0.          0.        ]]\n"
     ]
    }
   ],
   "source": [
    "#just like CountVectorizer\n",
    "cvdrive = TfidfVectorizer(binary=False, stop_words='english', use_idf = False, norm = 'l1', lowercase=True, \n",
    "                         max_df=0.95, min_df=0.05, ngram_range = (1,2)) \n",
    "cv_drive = cvdrive.fit_transform(reviewdf['cleantext'])\n",
    "print type(cv_drive)\n",
    "print cv_drive.shape\n",
    "print cvdrive.get_feature_names()\n",
    "print cv_drive.toarray()"
   ]
  },
  {
   "cell_type": "markdown",
   "metadata": {},
   "source": [
    "### \"Cosine similarities\" & \"Euclidean distances\" Matrix for RL comments dataframe"
   ]
  },
  {
   "cell_type": "code",
   "execution_count": 14,
   "metadata": {
    "collapsed": false
   },
   "outputs": [
    {
     "name": "stdout",
     "output_type": "stream",
     "text": [
      "Cosine similarities:\n",
      "[[ 1.          0.25374774  0.1898316  ...,  0.2847474   0.35049982\n",
      "   0.21919865]\n",
      " [ 0.25374774  1.          0.06600984 ...,  0.          0.03656362\n",
      "   0.0571662 ]\n",
      " [ 0.1898316   0.06600984  1.         ...,  0.05555556  0.12309149\n",
      "   0.06415003]\n",
      " ..., \n",
      " [ 0.20549873  0.08574929  0.24056261 ...,  0.14433757  0.2665009   0.25      ]\n",
      " [ 0.2847474   0.14852213  0.16666667 ...,  0.16666667  0.30772873\n",
      "   0.09622504]\n",
      " [ 0.2847474   0.          0.05555556 ...,  1.          0.30772873\n",
      "   0.09622504]]\n",
      "Euclidean distances:\n",
      "[[ 0.          0.2777786   0.31146252 ...,  0.35016558  0.32707653\n",
      "   0.43388921]\n",
      " [ 0.2777786   0.          0.3536214  ...,  0.42311674  0.40659598\n",
      "   0.48041283]\n",
      " [ 0.31146252  0.3536214   0.         ...,  0.42926207  0.40556226\n",
      "   0.49338435]\n",
      " ..., \n",
      " [ 0.31780081  0.3588254   0.3447186  ...,  0.41600628  0.37796447\n",
      "   0.45175395]\n",
      " [ 0.30470612  0.34860834  0.36305618 ...,  0.41231056  0.36885556\n",
      "   0.49315036]\n",
      " [ 0.35016558  0.42311674  0.42926207 ...,  0.          0.40101911\n",
      "   0.52450171]]\n"
     ]
    }
   ],
   "source": [
    "#handy way to compare things in one line of code\n",
    "from sklearn.metrics.pairwise import euclidean_distances, cosine_similarity\n",
    "print \"Cosine similarities:\"\n",
    "print cosine_similarity(cv_drive[0:390], cv_drive)\n",
    "\n",
    "print \"Euclidean distances:\"\n",
    "print euclidean_distances(cv_drive[0:390], cv_drive)"
   ]
  },
  {
   "cell_type": "markdown",
   "metadata": {},
   "source": [
    "### A fuction to return the “best match” for the specific document (used some text as an example to illustrate)"
   ]
  },
  {
   "cell_type": "code",
   "execution_count": 15,
   "metadata": {
    "collapsed": false
   },
   "outputs": [
    {
     "name": "stdout",
     "output_type": "stream",
     "text": [
      "primary:  Human machine interface for lab abc computer applications\n",
      "   compare:  A survey of user opinion of computer system response time  cos: [[ 0.10660036]]  euc: [[ 1.33671212]]\n",
      "   compare:  The EPS user interface management system  cos: [[ 0.14433757]]  euc: [[ 1.30817616]]\n",
      "   compare:  System and human system engineering testing of EPS  cos: [[ 0.1118034]]  euc: [[ 1.33281402]]\n",
      "   compare:  Relation of user perceived response time to error measurement  cos: [[ 0.]]  euc: [[ 1.41421356]]\n",
      "   compare:  The generation of random binary unordered trees  cos: [[ 0.]]  euc: [[ 1.41421356]]\n",
      "   compare:  The intersection graph of paths in trees  cos: [[ 0.]]  euc: [[ 1.41421356]]\n",
      "   compare:  Graph minors IV Widths of trees and well quasi ordering  cos: [[ 0.]]  euc: [[ 1.41421356]]\n",
      "   compare:  Graph minors A survey  cos: [[ 0.]]  euc: [[ 1.41421356]]\n",
      "primary:  A survey of user opinion of computer system response time\n",
      "   compare:  Human machine interface for lab abc computer applications  cos: [[ 0.10660036]]  euc: [[ 1.33671212]]\n",
      "   compare:  The EPS user interface management system  cos: [[ 0.24618298]]  euc: [[ 1.2278575]]\n",
      "   compare:  System and human system engineering testing of EPS  cos: [[ 0.38138504]]  euc: [[ 1.11230838]]\n",
      "   compare:  Relation of user perceived response time to error measurement  cos: [[ 0.50251891]]  euc: [[ 0.99747791]]\n",
      "   compare:  The generation of random binary unordered trees  cos: [[ 0.22792115]]  euc: [[ 1.24264142]]\n",
      "   compare:  The intersection graph of paths in trees  cos: [[ 0.22792115]]  euc: [[ 1.24264142]]\n",
      "   compare:  Graph minors IV Widths of trees and well quasi ordering  cos: [[ 0.19069252]]  euc: [[ 1.272248]]\n",
      "   compare:  Graph minors A survey  cos: [[ 0.17407766]]  euc: [[ 1.2852411]]\n",
      "primary:  The EPS user interface management system\n",
      "   compare:  Human machine interface for lab abc computer applications  cos: [[ 0.14433757]]  euc: [[ 1.30817616]]\n",
      "   compare:  A survey of user opinion of computer system response time  cos: [[ 0.24618298]]  euc: [[ 1.2278575]]\n",
      "   compare:  System and human system engineering testing of EPS  cos: [[ 0.38729833]]  euc: [[ 1.10697937]]\n",
      "   compare:  Relation of user perceived response time to error measurement  cos: [[ 0.13608276]]  euc: [[ 1.31447118]]\n",
      "   compare:  The generation of random binary unordered trees  cos: [[ 0.15430335]]  euc: [[ 1.30053577]]\n",
      "   compare:  The intersection graph of paths in trees  cos: [[ 0.15430335]]  euc: [[ 1.30053577]]\n",
      "   compare:  Graph minors IV Widths of trees and well quasi ordering  cos: [[ 0.]]  euc: [[ 1.41421356]]\n",
      "   compare:  Graph minors A survey  cos: [[ 0.]]  euc: [[ 1.41421356]]\n",
      "primary:  System and human system engineering testing of EPS\n",
      "   compare:  Human machine interface for lab abc computer applications  cos: [[ 0.1118034]]  euc: [[ 1.33281402]]\n",
      "   compare:  A survey of user opinion of computer system response time  cos: [[ 0.38138504]]  euc: [[ 1.11230838]]\n",
      "   compare:  The EPS user interface management system  cos: [[ 0.38729833]]  euc: [[ 1.10697937]]\n",
      "   compare:  Relation of user perceived response time to error measurement  cos: [[ 0.10540926]]  euc: [[ 1.33760289]]\n",
      "   compare:  The generation of random binary unordered trees  cos: [[ 0.11952286]]  euc: [[ 1.32700952]]\n",
      "   compare:  The intersection graph of paths in trees  cos: [[ 0.11952286]]  euc: [[ 1.32700952]]\n",
      "   compare:  Graph minors IV Widths of trees and well quasi ordering  cos: [[ 0.2]]  euc: [[ 1.26491106]]\n",
      "   compare:  Graph minors A survey  cos: [[ 0.]]  euc: [[ 1.41421356]]\n",
      "primary:  Relation of user perceived response time to error measurement\n",
      "   compare:  Human machine interface for lab abc computer applications  cos: [[ 0.]]  euc: [[ 1.41421356]]\n",
      "   compare:  A survey of user opinion of computer system response time  cos: [[ 0.50251891]]  euc: [[ 0.99747791]]\n",
      "   compare:  The EPS user interface management system  cos: [[ 0.13608276]]  euc: [[ 1.31447118]]\n",
      "   compare:  System and human system engineering testing of EPS  cos: [[ 0.10540926]]  euc: [[ 1.33760289]]\n",
      "   compare:  The generation of random binary unordered trees  cos: [[ 0.12598816]]  euc: [[ 1.32212847]]\n",
      "   compare:  The intersection graph of paths in trees  cos: [[ 0.12598816]]  euc: [[ 1.32212847]]\n",
      "   compare:  Graph minors IV Widths of trees and well quasi ordering  cos: [[ 0.10540926]]  euc: [[ 1.33760289]]\n",
      "   compare:  Graph minors A survey  cos: [[ 0.]]  euc: [[ 1.41421356]]\n",
      "primary:  The generation of random binary unordered trees\n",
      "   compare:  Human machine interface for lab abc computer applications  cos: [[ 0.]]  euc: [[ 1.41421356]]\n",
      "   compare:  A survey of user opinion of computer system response time  cos: [[ 0.22792115]]  euc: [[ 1.24264142]]\n",
      "   compare:  The EPS user interface management system  cos: [[ 0.15430335]]  euc: [[ 1.30053577]]\n",
      "   compare:  System and human system engineering testing of EPS  cos: [[ 0.11952286]]  euc: [[ 1.32700952]]\n",
      "   compare:  Relation of user perceived response time to error measurement  cos: [[ 0.12598816]]  euc: [[ 1.32212847]]\n",
      "   compare:  The intersection graph of paths in trees  cos: [[ 0.42857143]]  euc: [[ 1.06904497]]\n",
      "   compare:  Graph minors IV Widths of trees and well quasi ordering  cos: [[ 0.23904572]]  euc: [[ 1.23365658]]\n",
      "   compare:  Graph minors A survey  cos: [[ 0.]]  euc: [[ 1.41421356]]\n",
      "primary:  The intersection graph of paths in trees\n",
      "   compare:  Human machine interface for lab abc computer applications  cos: [[ 0.]]  euc: [[ 1.41421356]]\n",
      "   compare:  A survey of user opinion of computer system response time  cos: [[ 0.22792115]]  euc: [[ 1.24264142]]\n",
      "   compare:  The EPS user interface management system  cos: [[ 0.15430335]]  euc: [[ 1.30053577]]\n",
      "   compare:  System and human system engineering testing of EPS  cos: [[ 0.11952286]]  euc: [[ 1.32700952]]\n",
      "   compare:  Relation of user perceived response time to error measurement  cos: [[ 0.12598816]]  euc: [[ 1.32212847]]\n",
      "   compare:  The generation of random binary unordered trees  cos: [[ 0.42857143]]  euc: [[ 1.06904497]]\n",
      "   compare:  Graph minors IV Widths of trees and well quasi ordering  cos: [[ 0.35856858]]  euc: [[ 1.13263535]]\n",
      "   compare:  Graph minors A survey  cos: [[ 0.21821789]]  euc: [[ 1.25042562]]\n",
      "primary:  Graph minors IV Widths of trees and well quasi ordering\n",
      "   compare:  Human machine interface for lab abc computer applications  cos: [[ 0.]]  euc: [[ 1.41421356]]\n",
      "   compare:  A survey of user opinion of computer system response time  cos: [[ 0.19069252]]  euc: [[ 1.272248]]\n",
      "   compare:  The EPS user interface management system  cos: [[ 0.]]  euc: [[ 1.41421356]]\n",
      "   compare:  System and human system engineering testing of EPS  cos: [[ 0.2]]  euc: [[ 1.26491106]]\n",
      "   compare:  Relation of user perceived response time to error measurement  cos: [[ 0.10540926]]  euc: [[ 1.33760289]]\n",
      "   compare:  The generation of random binary unordered trees  cos: [[ 0.23904572]]  euc: [[ 1.23365658]]\n",
      "   compare:  The intersection graph of paths in trees  cos: [[ 0.35856858]]  euc: [[ 1.13263535]]\n",
      "   compare:  Graph minors A survey  cos: [[ 0.36514837]]  euc: [[ 1.1268111]]\n",
      "primary:  Graph minors A survey\n",
      "   compare:  Human machine interface for lab abc computer applications  cos: [[ 0.]]  euc: [[ 1.41421356]]\n",
      "   compare:  A survey of user opinion of computer system response time  cos: [[ 0.17407766]]  euc: [[ 1.2852411]]\n",
      "   compare:  The EPS user interface management system  cos: [[ 0.]]  euc: [[ 1.41421356]]\n",
      "   compare:  System and human system engineering testing of EPS  cos: [[ 0.]]  euc: [[ 1.41421356]]\n",
      "   compare:  Relation of user perceived response time to error measurement  cos: [[ 0.]]  euc: [[ 1.41421356]]\n",
      "   compare:  The generation of random binary unordered trees  cos: [[ 0.]]  euc: [[ 1.41421356]]\n",
      "   compare:  The intersection graph of paths in trees  cos: [[ 0.21821789]]  euc: [[ 1.25042562]]\n",
      "   compare:  Graph minors IV Widths of trees and well quasi ordering  cos: [[ 0.36514837]]  euc: [[ 1.1268111]]\n",
      "\n",
      "Most similar lines with cosine similarity of:  [[ 0.50251891]]\n",
      "=> A survey of user opinion of computer system response time\n",
      "=> Relation of user perceived response time to error measurement\n",
      "\n",
      "Most similar lines with euclidean distance of:  [[ 0.99747791]]\n",
      "=> A survey of user opinion of computer system response time\n",
      "=> Relation of user perceived response time to error measurement\n"
     ]
    },
    {
     "name": "stderr",
     "output_type": "stream",
     "text": [
      "C:\\Anaconda2\\lib\\site-packages\\sklearn\\utils\\validation.py:386: DeprecationWarning: Passing 1d arrays as data is deprecated in 0.17 and willraise ValueError in 0.19. Reshape your data either using X.reshape(-1, 1) if your data has a single feature or X.reshape(1, -1) if it contains a single sample.\n",
      "  DeprecationWarning)\n",
      "C:\\Anaconda2\\lib\\site-packages\\sklearn\\utils\\validation.py:386: DeprecationWarning: Passing 1d arrays as data is deprecated in 0.17 and willraise ValueError in 0.19. Reshape your data either using X.reshape(-1, 1) if your data has a single feature or X.reshape(1, -1) if it contains a single sample.\n",
      "  DeprecationWarning)\n",
      "C:\\Anaconda2\\lib\\site-packages\\sklearn\\utils\\validation.py:386: DeprecationWarning: Passing 1d arrays as data is deprecated in 0.17 and willraise ValueError in 0.19. Reshape your data either using X.reshape(-1, 1) if your data has a single feature or X.reshape(1, -1) if it contains a single sample.\n",
      "  DeprecationWarning)\n",
      "C:\\Anaconda2\\lib\\site-packages\\sklearn\\utils\\validation.py:386: DeprecationWarning: Passing 1d arrays as data is deprecated in 0.17 and willraise ValueError in 0.19. Reshape your data either using X.reshape(-1, 1) if your data has a single feature or X.reshape(1, -1) if it contains a single sample.\n",
      "  DeprecationWarning)\n",
      "C:\\Anaconda2\\lib\\site-packages\\sklearn\\utils\\validation.py:386: DeprecationWarning: Passing 1d arrays as data is deprecated in 0.17 and willraise ValueError in 0.19. Reshape your data either using X.reshape(-1, 1) if your data has a single feature or X.reshape(1, -1) if it contains a single sample.\n",
      "  DeprecationWarning)\n",
      "C:\\Anaconda2\\lib\\site-packages\\sklearn\\utils\\validation.py:386: DeprecationWarning: Passing 1d arrays as data is deprecated in 0.17 and willraise ValueError in 0.19. Reshape your data either using X.reshape(-1, 1) if your data has a single feature or X.reshape(1, -1) if it contains a single sample.\n",
      "  DeprecationWarning)\n",
      "C:\\Anaconda2\\lib\\site-packages\\sklearn\\utils\\validation.py:386: DeprecationWarning: Passing 1d arrays as data is deprecated in 0.17 and willraise ValueError in 0.19. Reshape your data either using X.reshape(-1, 1) if your data has a single feature or X.reshape(1, -1) if it contains a single sample.\n",
      "  DeprecationWarning)\n",
      "C:\\Anaconda2\\lib\\site-packages\\sklearn\\utils\\validation.py:386: DeprecationWarning: Passing 1d arrays as data is deprecated in 0.17 and willraise ValueError in 0.19. Reshape your data either using X.reshape(-1, 1) if your data has a single feature or X.reshape(1, -1) if it contains a single sample.\n",
      "  DeprecationWarning)\n",
      "C:\\Anaconda2\\lib\\site-packages\\sklearn\\utils\\validation.py:386: DeprecationWarning: Passing 1d arrays as data is deprecated in 0.17 and willraise ValueError in 0.19. Reshape your data either using X.reshape(-1, 1) if your data has a single feature or X.reshape(1, -1) if it contains a single sample.\n",
      "  DeprecationWarning)\n",
      "C:\\Anaconda2\\lib\\site-packages\\sklearn\\utils\\validation.py:386: DeprecationWarning: Passing 1d arrays as data is deprecated in 0.17 and willraise ValueError in 0.19. Reshape your data either using X.reshape(-1, 1) if your data has a single feature or X.reshape(1, -1) if it contains a single sample.\n",
      "  DeprecationWarning)\n",
      "C:\\Anaconda2\\lib\\site-packages\\sklearn\\utils\\validation.py:386: DeprecationWarning: Passing 1d arrays as data is deprecated in 0.17 and willraise ValueError in 0.19. Reshape your data either using X.reshape(-1, 1) if your data has a single feature or X.reshape(1, -1) if it contains a single sample.\n",
      "  DeprecationWarning)\n",
      "C:\\Anaconda2\\lib\\site-packages\\sklearn\\utils\\validation.py:386: DeprecationWarning: Passing 1d arrays as data is deprecated in 0.17 and willraise ValueError in 0.19. Reshape your data either using X.reshape(-1, 1) if your data has a single feature or X.reshape(1, -1) if it contains a single sample.\n",
      "  DeprecationWarning)\n",
      "C:\\Anaconda2\\lib\\site-packages\\sklearn\\utils\\validation.py:386: DeprecationWarning: Passing 1d arrays as data is deprecated in 0.17 and willraise ValueError in 0.19. Reshape your data either using X.reshape(-1, 1) if your data has a single feature or X.reshape(1, -1) if it contains a single sample.\n",
      "  DeprecationWarning)\n",
      "C:\\Anaconda2\\lib\\site-packages\\sklearn\\utils\\validation.py:386: DeprecationWarning: Passing 1d arrays as data is deprecated in 0.17 and willraise ValueError in 0.19. Reshape your data either using X.reshape(-1, 1) if your data has a single feature or X.reshape(1, -1) if it contains a single sample.\n",
      "  DeprecationWarning)\n",
      "C:\\Anaconda2\\lib\\site-packages\\sklearn\\utils\\validation.py:386: DeprecationWarning: Passing 1d arrays as data is deprecated in 0.17 and willraise ValueError in 0.19. Reshape your data either using X.reshape(-1, 1) if your data has a single feature or X.reshape(1, -1) if it contains a single sample.\n",
      "  DeprecationWarning)\n",
      "C:\\Anaconda2\\lib\\site-packages\\sklearn\\utils\\validation.py:386: DeprecationWarning: Passing 1d arrays as data is deprecated in 0.17 and willraise ValueError in 0.19. Reshape your data either using X.reshape(-1, 1) if your data has a single feature or X.reshape(1, -1) if it contains a single sample.\n",
      "  DeprecationWarning)\n",
      "C:\\Anaconda2\\lib\\site-packages\\sklearn\\utils\\validation.py:386: DeprecationWarning: Passing 1d arrays as data is deprecated in 0.17 and willraise ValueError in 0.19. Reshape your data either using X.reshape(-1, 1) if your data has a single feature or X.reshape(1, -1) if it contains a single sample.\n",
      "  DeprecationWarning)\n",
      "C:\\Anaconda2\\lib\\site-packages\\sklearn\\utils\\validation.py:386: DeprecationWarning: Passing 1d arrays as data is deprecated in 0.17 and willraise ValueError in 0.19. Reshape your data either using X.reshape(-1, 1) if your data has a single feature or X.reshape(1, -1) if it contains a single sample.\n",
      "  DeprecationWarning)\n",
      "C:\\Anaconda2\\lib\\site-packages\\sklearn\\utils\\validation.py:386: DeprecationWarning: Passing 1d arrays as data is deprecated in 0.17 and willraise ValueError in 0.19. Reshape your data either using X.reshape(-1, 1) if your data has a single feature or X.reshape(1, -1) if it contains a single sample.\n",
      "  DeprecationWarning)\n",
      "C:\\Anaconda2\\lib\\site-packages\\sklearn\\utils\\validation.py:386: DeprecationWarning: Passing 1d arrays as data is deprecated in 0.17 and willraise ValueError in 0.19. Reshape your data either using X.reshape(-1, 1) if your data has a single feature or X.reshape(1, -1) if it contains a single sample.\n",
      "  DeprecationWarning)\n",
      "C:\\Anaconda2\\lib\\site-packages\\sklearn\\utils\\validation.py:386: DeprecationWarning: Passing 1d arrays as data is deprecated in 0.17 and willraise ValueError in 0.19. Reshape your data either using X.reshape(-1, 1) if your data has a single feature or X.reshape(1, -1) if it contains a single sample.\n",
      "  DeprecationWarning)\n",
      "C:\\Anaconda2\\lib\\site-packages\\sklearn\\utils\\validation.py:386: DeprecationWarning: Passing 1d arrays as data is deprecated in 0.17 and willraise ValueError in 0.19. Reshape your data either using X.reshape(-1, 1) if your data has a single feature or X.reshape(1, -1) if it contains a single sample.\n",
      "  DeprecationWarning)\n",
      "C:\\Anaconda2\\lib\\site-packages\\sklearn\\utils\\validation.py:386: DeprecationWarning: Passing 1d arrays as data is deprecated in 0.17 and willraise ValueError in 0.19. Reshape your data either using X.reshape(-1, 1) if your data has a single feature or X.reshape(1, -1) if it contains a single sample.\n",
      "  DeprecationWarning)\n",
      "C:\\Anaconda2\\lib\\site-packages\\sklearn\\utils\\validation.py:386: DeprecationWarning: Passing 1d arrays as data is deprecated in 0.17 and willraise ValueError in 0.19. Reshape your data either using X.reshape(-1, 1) if your data has a single feature or X.reshape(1, -1) if it contains a single sample.\n",
      "  DeprecationWarning)\n",
      "C:\\Anaconda2\\lib\\site-packages\\sklearn\\utils\\validation.py:386: DeprecationWarning: Passing 1d arrays as data is deprecated in 0.17 and willraise ValueError in 0.19. Reshape your data either using X.reshape(-1, 1) if your data has a single feature or X.reshape(1, -1) if it contains a single sample.\n",
      "  DeprecationWarning)\n",
      "C:\\Anaconda2\\lib\\site-packages\\sklearn\\utils\\validation.py:386: DeprecationWarning: Passing 1d arrays as data is deprecated in 0.17 and willraise ValueError in 0.19. Reshape your data either using X.reshape(-1, 1) if your data has a single feature or X.reshape(1, -1) if it contains a single sample.\n",
      "  DeprecationWarning)\n",
      "C:\\Anaconda2\\lib\\site-packages\\sklearn\\utils\\validation.py:386: DeprecationWarning: Passing 1d arrays as data is deprecated in 0.17 and willraise ValueError in 0.19. Reshape your data either using X.reshape(-1, 1) if your data has a single feature or X.reshape(1, -1) if it contains a single sample.\n",
      "  DeprecationWarning)\n",
      "C:\\Anaconda2\\lib\\site-packages\\sklearn\\utils\\validation.py:386: DeprecationWarning: Passing 1d arrays as data is deprecated in 0.17 and willraise ValueError in 0.19. Reshape your data either using X.reshape(-1, 1) if your data has a single feature or X.reshape(1, -1) if it contains a single sample.\n",
      "  DeprecationWarning)\n",
      "C:\\Anaconda2\\lib\\site-packages\\sklearn\\utils\\validation.py:386: DeprecationWarning: Passing 1d arrays as data is deprecated in 0.17 and willraise ValueError in 0.19. Reshape your data either using X.reshape(-1, 1) if your data has a single feature or X.reshape(1, -1) if it contains a single sample.\n",
      "  DeprecationWarning)\n",
      "C:\\Anaconda2\\lib\\site-packages\\sklearn\\utils\\validation.py:386: DeprecationWarning: Passing 1d arrays as data is deprecated in 0.17 and willraise ValueError in 0.19. Reshape your data either using X.reshape(-1, 1) if your data has a single feature or X.reshape(1, -1) if it contains a single sample.\n",
      "  DeprecationWarning)\n",
      "C:\\Anaconda2\\lib\\site-packages\\sklearn\\utils\\validation.py:386: DeprecationWarning: Passing 1d arrays as data is deprecated in 0.17 and willraise ValueError in 0.19. Reshape your data either using X.reshape(-1, 1) if your data has a single feature or X.reshape(1, -1) if it contains a single sample.\n",
      "  DeprecationWarning)\n",
      "C:\\Anaconda2\\lib\\site-packages\\sklearn\\utils\\validation.py:386: DeprecationWarning: Passing 1d arrays as data is deprecated in 0.17 and willraise ValueError in 0.19. Reshape your data either using X.reshape(-1, 1) if your data has a single feature or X.reshape(1, -1) if it contains a single sample.\n",
      "  DeprecationWarning)\n",
      "C:\\Anaconda2\\lib\\site-packages\\sklearn\\utils\\validation.py:386: DeprecationWarning: Passing 1d arrays as data is deprecated in 0.17 and willraise ValueError in 0.19. Reshape your data either using X.reshape(-1, 1) if your data has a single feature or X.reshape(1, -1) if it contains a single sample.\n",
      "  DeprecationWarning)\n",
      "C:\\Anaconda2\\lib\\site-packages\\sklearn\\utils\\validation.py:386: DeprecationWarning: Passing 1d arrays as data is deprecated in 0.17 and willraise ValueError in 0.19. Reshape your data either using X.reshape(-1, 1) if your data has a single feature or X.reshape(1, -1) if it contains a single sample.\n",
      "  DeprecationWarning)\n",
      "C:\\Anaconda2\\lib\\site-packages\\sklearn\\utils\\validation.py:386: DeprecationWarning: Passing 1d arrays as data is deprecated in 0.17 and willraise ValueError in 0.19. Reshape your data either using X.reshape(-1, 1) if your data has a single feature or X.reshape(1, -1) if it contains a single sample.\n",
      "  DeprecationWarning)\n",
      "C:\\Anaconda2\\lib\\site-packages\\sklearn\\utils\\validation.py:386: DeprecationWarning: Passing 1d arrays as data is deprecated in 0.17 and willraise ValueError in 0.19. Reshape your data either using X.reshape(-1, 1) if your data has a single feature or X.reshape(1, -1) if it contains a single sample.\n",
      "  DeprecationWarning)\n",
      "C:\\Anaconda2\\lib\\site-packages\\sklearn\\utils\\validation.py:386: DeprecationWarning: Passing 1d arrays as data is deprecated in 0.17 and willraise ValueError in 0.19. Reshape your data either using X.reshape(-1, 1) if your data has a single feature or X.reshape(1, -1) if it contains a single sample.\n",
      "  DeprecationWarning)\n",
      "C:\\Anaconda2\\lib\\site-packages\\sklearn\\utils\\validation.py:386: DeprecationWarning: Passing 1d arrays as data is deprecated in 0.17 and willraise ValueError in 0.19. Reshape your data either using X.reshape(-1, 1) if your data has a single feature or X.reshape(1, -1) if it contains a single sample.\n",
      "  DeprecationWarning)\n",
      "C:\\Anaconda2\\lib\\site-packages\\sklearn\\utils\\validation.py:386: DeprecationWarning: Passing 1d arrays as data is deprecated in 0.17 and willraise ValueError in 0.19. Reshape your data either using X.reshape(-1, 1) if your data has a single feature or X.reshape(1, -1) if it contains a single sample.\n",
      "  DeprecationWarning)\n",
      "C:\\Anaconda2\\lib\\site-packages\\sklearn\\utils\\validation.py:386: DeprecationWarning: Passing 1d arrays as data is deprecated in 0.17 and willraise ValueError in 0.19. Reshape your data either using X.reshape(-1, 1) if your data has a single feature or X.reshape(1, -1) if it contains a single sample.\n",
      "  DeprecationWarning)\n",
      "C:\\Anaconda2\\lib\\site-packages\\sklearn\\utils\\validation.py:386: DeprecationWarning: Passing 1d arrays as data is deprecated in 0.17 and willraise ValueError in 0.19. Reshape your data either using X.reshape(-1, 1) if your data has a single feature or X.reshape(1, -1) if it contains a single sample.\n",
      "  DeprecationWarning)\n",
      "C:\\Anaconda2\\lib\\site-packages\\sklearn\\utils\\validation.py:386: DeprecationWarning: Passing 1d arrays as data is deprecated in 0.17 and willraise ValueError in 0.19. Reshape your data either using X.reshape(-1, 1) if your data has a single feature or X.reshape(1, -1) if it contains a single sample.\n",
      "  DeprecationWarning)\n",
      "C:\\Anaconda2\\lib\\site-packages\\sklearn\\utils\\validation.py:386: DeprecationWarning: Passing 1d arrays as data is deprecated in 0.17 and willraise ValueError in 0.19. Reshape your data either using X.reshape(-1, 1) if your data has a single feature or X.reshape(1, -1) if it contains a single sample.\n",
      "  DeprecationWarning)\n",
      "C:\\Anaconda2\\lib\\site-packages\\sklearn\\utils\\validation.py:386: DeprecationWarning: Passing 1d arrays as data is deprecated in 0.17 and willraise ValueError in 0.19. Reshape your data either using X.reshape(-1, 1) if your data has a single feature or X.reshape(1, -1) if it contains a single sample.\n",
      "  DeprecationWarning)\n",
      "C:\\Anaconda2\\lib\\site-packages\\sklearn\\utils\\validation.py:386: DeprecationWarning: Passing 1d arrays as data is deprecated in 0.17 and willraise ValueError in 0.19. Reshape your data either using X.reshape(-1, 1) if your data has a single feature or X.reshape(1, -1) if it contains a single sample.\n",
      "  DeprecationWarning)\n",
      "C:\\Anaconda2\\lib\\site-packages\\sklearn\\utils\\validation.py:386: DeprecationWarning: Passing 1d arrays as data is deprecated in 0.17 and willraise ValueError in 0.19. Reshape your data either using X.reshape(-1, 1) if your data has a single feature or X.reshape(1, -1) if it contains a single sample.\n",
      "  DeprecationWarning)\n",
      "C:\\Anaconda2\\lib\\site-packages\\sklearn\\utils\\validation.py:386: DeprecationWarning: Passing 1d arrays as data is deprecated in 0.17 and willraise ValueError in 0.19. Reshape your data either using X.reshape(-1, 1) if your data has a single feature or X.reshape(1, -1) if it contains a single sample.\n",
      "  DeprecationWarning)\n",
      "C:\\Anaconda2\\lib\\site-packages\\sklearn\\utils\\validation.py:386: DeprecationWarning: Passing 1d arrays as data is deprecated in 0.17 and willraise ValueError in 0.19. Reshape your data either using X.reshape(-1, 1) if your data has a single feature or X.reshape(1, -1) if it contains a single sample.\n",
      "  DeprecationWarning)\n",
      "C:\\Anaconda2\\lib\\site-packages\\sklearn\\utils\\validation.py:386: DeprecationWarning: Passing 1d arrays as data is deprecated in 0.17 and willraise ValueError in 0.19. Reshape your data either using X.reshape(-1, 1) if your data has a single feature or X.reshape(1, -1) if it contains a single sample.\n",
      "  DeprecationWarning)\n",
      "C:\\Anaconda2\\lib\\site-packages\\sklearn\\utils\\validation.py:386: DeprecationWarning: Passing 1d arrays as data is deprecated in 0.17 and willraise ValueError in 0.19. Reshape your data either using X.reshape(-1, 1) if your data has a single feature or X.reshape(1, -1) if it contains a single sample.\n",
      "  DeprecationWarning)\n",
      "C:\\Anaconda2\\lib\\site-packages\\sklearn\\utils\\validation.py:386: DeprecationWarning: Passing 1d arrays as data is deprecated in 0.17 and willraise ValueError in 0.19. Reshape your data either using X.reshape(-1, 1) if your data has a single feature or X.reshape(1, -1) if it contains a single sample.\n",
      "  DeprecationWarning)\n",
      "C:\\Anaconda2\\lib\\site-packages\\sklearn\\utils\\validation.py:386: DeprecationWarning: Passing 1d arrays as data is deprecated in 0.17 and willraise ValueError in 0.19. Reshape your data either using X.reshape(-1, 1) if your data has a single feature or X.reshape(1, -1) if it contains a single sample.\n",
      "  DeprecationWarning)\n",
      "C:\\Anaconda2\\lib\\site-packages\\sklearn\\utils\\validation.py:386: DeprecationWarning: Passing 1d arrays as data is deprecated in 0.17 and willraise ValueError in 0.19. Reshape your data either using X.reshape(-1, 1) if your data has a single feature or X.reshape(1, -1) if it contains a single sample.\n",
      "  DeprecationWarning)\n",
      "C:\\Anaconda2\\lib\\site-packages\\sklearn\\utils\\validation.py:386: DeprecationWarning: Passing 1d arrays as data is deprecated in 0.17 and willraise ValueError in 0.19. Reshape your data either using X.reshape(-1, 1) if your data has a single feature or X.reshape(1, -1) if it contains a single sample.\n",
      "  DeprecationWarning)\n",
      "C:\\Anaconda2\\lib\\site-packages\\sklearn\\utils\\validation.py:386: DeprecationWarning: Passing 1d arrays as data is deprecated in 0.17 and willraise ValueError in 0.19. Reshape your data either using X.reshape(-1, 1) if your data has a single feature or X.reshape(1, -1) if it contains a single sample.\n",
      "  DeprecationWarning)\n",
      "C:\\Anaconda2\\lib\\site-packages\\sklearn\\utils\\validation.py:386: DeprecationWarning: Passing 1d arrays as data is deprecated in 0.17 and willraise ValueError in 0.19. Reshape your data either using X.reshape(-1, 1) if your data has a single feature or X.reshape(1, -1) if it contains a single sample.\n",
      "  DeprecationWarning)\n",
      "C:\\Anaconda2\\lib\\site-packages\\sklearn\\utils\\validation.py:386: DeprecationWarning: Passing 1d arrays as data is deprecated in 0.17 and willraise ValueError in 0.19. Reshape your data either using X.reshape(-1, 1) if your data has a single feature or X.reshape(1, -1) if it contains a single sample.\n",
      "  DeprecationWarning)\n",
      "C:\\Anaconda2\\lib\\site-packages\\sklearn\\utils\\validation.py:386: DeprecationWarning: Passing 1d arrays as data is deprecated in 0.17 and willraise ValueError in 0.19. Reshape your data either using X.reshape(-1, 1) if your data has a single feature or X.reshape(1, -1) if it contains a single sample.\n",
      "  DeprecationWarning)\n",
      "C:\\Anaconda2\\lib\\site-packages\\sklearn\\utils\\validation.py:386: DeprecationWarning: Passing 1d arrays as data is deprecated in 0.17 and willraise ValueError in 0.19. Reshape your data either using X.reshape(-1, 1) if your data has a single feature or X.reshape(1, -1) if it contains a single sample.\n",
      "  DeprecationWarning)\n",
      "C:\\Anaconda2\\lib\\site-packages\\sklearn\\utils\\validation.py:386: DeprecationWarning: Passing 1d arrays as data is deprecated in 0.17 and willraise ValueError in 0.19. Reshape your data either using X.reshape(-1, 1) if your data has a single feature or X.reshape(1, -1) if it contains a single sample.\n",
      "  DeprecationWarning)\n",
      "C:\\Anaconda2\\lib\\site-packages\\sklearn\\utils\\validation.py:386: DeprecationWarning: Passing 1d arrays as data is deprecated in 0.17 and willraise ValueError in 0.19. Reshape your data either using X.reshape(-1, 1) if your data has a single feature or X.reshape(1, -1) if it contains a single sample.\n",
      "  DeprecationWarning)\n",
      "C:\\Anaconda2\\lib\\site-packages\\sklearn\\utils\\validation.py:386: DeprecationWarning: Passing 1d arrays as data is deprecated in 0.17 and willraise ValueError in 0.19. Reshape your data either using X.reshape(-1, 1) if your data has a single feature or X.reshape(1, -1) if it contains a single sample.\n",
      "  DeprecationWarning)\n",
      "C:\\Anaconda2\\lib\\site-packages\\sklearn\\utils\\validation.py:386: DeprecationWarning: Passing 1d arrays as data is deprecated in 0.17 and willraise ValueError in 0.19. Reshape your data either using X.reshape(-1, 1) if your data has a single feature or X.reshape(1, -1) if it contains a single sample.\n",
      "  DeprecationWarning)\n",
      "C:\\Anaconda2\\lib\\site-packages\\sklearn\\utils\\validation.py:386: DeprecationWarning: Passing 1d arrays as data is deprecated in 0.17 and willraise ValueError in 0.19. Reshape your data either using X.reshape(-1, 1) if your data has a single feature or X.reshape(1, -1) if it contains a single sample.\n",
      "  DeprecationWarning)\n",
      "C:\\Anaconda2\\lib\\site-packages\\sklearn\\utils\\validation.py:386: DeprecationWarning: Passing 1d arrays as data is deprecated in 0.17 and willraise ValueError in 0.19. Reshape your data either using X.reshape(-1, 1) if your data has a single feature or X.reshape(1, -1) if it contains a single sample.\n",
      "  DeprecationWarning)\n",
      "C:\\Anaconda2\\lib\\site-packages\\sklearn\\utils\\validation.py:386: DeprecationWarning: Passing 1d arrays as data is deprecated in 0.17 and willraise ValueError in 0.19. Reshape your data either using X.reshape(-1, 1) if your data has a single feature or X.reshape(1, -1) if it contains a single sample.\n",
      "  DeprecationWarning)\n",
      "C:\\Anaconda2\\lib\\site-packages\\sklearn\\utils\\validation.py:386: DeprecationWarning: Passing 1d arrays as data is deprecated in 0.17 and willraise ValueError in 0.19. Reshape your data either using X.reshape(-1, 1) if your data has a single feature or X.reshape(1, -1) if it contains a single sample.\n",
      "  DeprecationWarning)\n",
      "C:\\Anaconda2\\lib\\site-packages\\sklearn\\utils\\validation.py:386: DeprecationWarning: Passing 1d arrays as data is deprecated in 0.17 and willraise ValueError in 0.19. Reshape your data either using X.reshape(-1, 1) if your data has a single feature or X.reshape(1, -1) if it contains a single sample.\n",
      "  DeprecationWarning)\n",
      "C:\\Anaconda2\\lib\\site-packages\\sklearn\\utils\\validation.py:386: DeprecationWarning: Passing 1d arrays as data is deprecated in 0.17 and willraise ValueError in 0.19. Reshape your data either using X.reshape(-1, 1) if your data has a single feature or X.reshape(1, -1) if it contains a single sample.\n",
      "  DeprecationWarning)\n",
      "C:\\Anaconda2\\lib\\site-packages\\sklearn\\utils\\validation.py:386: DeprecationWarning: Passing 1d arrays as data is deprecated in 0.17 and willraise ValueError in 0.19. Reshape your data either using X.reshape(-1, 1) if your data has a single feature or X.reshape(1, -1) if it contains a single sample.\n",
      "  DeprecationWarning)\n",
      "C:\\Anaconda2\\lib\\site-packages\\sklearn\\utils\\validation.py:386: DeprecationWarning: Passing 1d arrays as data is deprecated in 0.17 and willraise ValueError in 0.19. Reshape your data either using X.reshape(-1, 1) if your data has a single feature or X.reshape(1, -1) if it contains a single sample.\n",
      "  DeprecationWarning)\n",
      "C:\\Anaconda2\\lib\\site-packages\\sklearn\\utils\\validation.py:386: DeprecationWarning: Passing 1d arrays as data is deprecated in 0.17 and willraise ValueError in 0.19. Reshape your data either using X.reshape(-1, 1) if your data has a single feature or X.reshape(1, -1) if it contains a single sample.\n",
      "  DeprecationWarning)\n",
      "C:\\Anaconda2\\lib\\site-packages\\sklearn\\utils\\validation.py:386: DeprecationWarning: Passing 1d arrays as data is deprecated in 0.17 and willraise ValueError in 0.19. Reshape your data either using X.reshape(-1, 1) if your data has a single feature or X.reshape(1, -1) if it contains a single sample.\n",
      "  DeprecationWarning)\n",
      "C:\\Anaconda2\\lib\\site-packages\\sklearn\\utils\\validation.py:386: DeprecationWarning: Passing 1d arrays as data is deprecated in 0.17 and willraise ValueError in 0.19. Reshape your data either using X.reshape(-1, 1) if your data has a single feature or X.reshape(1, -1) if it contains a single sample.\n",
      "  DeprecationWarning)\n",
      "C:\\Anaconda2\\lib\\site-packages\\sklearn\\utils\\validation.py:386: DeprecationWarning: Passing 1d arrays as data is deprecated in 0.17 and willraise ValueError in 0.19. Reshape your data either using X.reshape(-1, 1) if your data has a single feature or X.reshape(1, -1) if it contains a single sample.\n",
      "  DeprecationWarning)\n",
      "C:\\Anaconda2\\lib\\site-packages\\sklearn\\utils\\validation.py:386: DeprecationWarning: Passing 1d arrays as data is deprecated in 0.17 and willraise ValueError in 0.19. Reshape your data either using X.reshape(-1, 1) if your data has a single feature or X.reshape(1, -1) if it contains a single sample.\n",
      "  DeprecationWarning)\n",
      "C:\\Anaconda2\\lib\\site-packages\\sklearn\\utils\\validation.py:386: DeprecationWarning: Passing 1d arrays as data is deprecated in 0.17 and willraise ValueError in 0.19. Reshape your data either using X.reshape(-1, 1) if your data has a single feature or X.reshape(1, -1) if it contains a single sample.\n",
      "  DeprecationWarning)\n",
      "C:\\Anaconda2\\lib\\site-packages\\sklearn\\utils\\validation.py:386: DeprecationWarning: Passing 1d arrays as data is deprecated in 0.17 and willraise ValueError in 0.19. Reshape your data either using X.reshape(-1, 1) if your data has a single feature or X.reshape(1, -1) if it contains a single sample.\n",
      "  DeprecationWarning)\n",
      "C:\\Anaconda2\\lib\\site-packages\\sklearn\\utils\\validation.py:386: DeprecationWarning: Passing 1d arrays as data is deprecated in 0.17 and willraise ValueError in 0.19. Reshape your data either using X.reshape(-1, 1) if your data has a single feature or X.reshape(1, -1) if it contains a single sample.\n",
      "  DeprecationWarning)\n",
      "C:\\Anaconda2\\lib\\site-packages\\sklearn\\utils\\validation.py:386: DeprecationWarning: Passing 1d arrays as data is deprecated in 0.17 and willraise ValueError in 0.19. Reshape your data either using X.reshape(-1, 1) if your data has a single feature or X.reshape(1, -1) if it contains a single sample.\n",
      "  DeprecationWarning)\n",
      "C:\\Anaconda2\\lib\\site-packages\\sklearn\\utils\\validation.py:386: DeprecationWarning: Passing 1d arrays as data is deprecated in 0.17 and willraise ValueError in 0.19. Reshape your data either using X.reshape(-1, 1) if your data has a single feature or X.reshape(1, -1) if it contains a single sample.\n",
      "  DeprecationWarning)\n",
      "C:\\Anaconda2\\lib\\site-packages\\sklearn\\utils\\validation.py:386: DeprecationWarning: Passing 1d arrays as data is deprecated in 0.17 and willraise ValueError in 0.19. Reshape your data either using X.reshape(-1, 1) if your data has a single feature or X.reshape(1, -1) if it contains a single sample.\n",
      "  DeprecationWarning)\n",
      "C:\\Anaconda2\\lib\\site-packages\\sklearn\\utils\\validation.py:386: DeprecationWarning: Passing 1d arrays as data is deprecated in 0.17 and willraise ValueError in 0.19. Reshape your data either using X.reshape(-1, 1) if your data has a single feature or X.reshape(1, -1) if it contains a single sample.\n",
      "  DeprecationWarning)\n",
      "C:\\Anaconda2\\lib\\site-packages\\sklearn\\utils\\validation.py:386: DeprecationWarning: Passing 1d arrays as data is deprecated in 0.17 and willraise ValueError in 0.19. Reshape your data either using X.reshape(-1, 1) if your data has a single feature or X.reshape(1, -1) if it contains a single sample.\n",
      "  DeprecationWarning)\n",
      "C:\\Anaconda2\\lib\\site-packages\\sklearn\\utils\\validation.py:386: DeprecationWarning: Passing 1d arrays as data is deprecated in 0.17 and willraise ValueError in 0.19. Reshape your data either using X.reshape(-1, 1) if your data has a single feature or X.reshape(1, -1) if it contains a single sample.\n",
      "  DeprecationWarning)\n",
      "C:\\Anaconda2\\lib\\site-packages\\sklearn\\utils\\validation.py:386: DeprecationWarning: Passing 1d arrays as data is deprecated in 0.17 and willraise ValueError in 0.19. Reshape your data either using X.reshape(-1, 1) if your data has a single feature or X.reshape(1, -1) if it contains a single sample.\n",
      "  DeprecationWarning)\n",
      "C:\\Anaconda2\\lib\\site-packages\\sklearn\\utils\\validation.py:386: DeprecationWarning: Passing 1d arrays as data is deprecated in 0.17 and willraise ValueError in 0.19. Reshape your data either using X.reshape(-1, 1) if your data has a single feature or X.reshape(1, -1) if it contains a single sample.\n",
      "  DeprecationWarning)\n",
      "C:\\Anaconda2\\lib\\site-packages\\sklearn\\utils\\validation.py:386: DeprecationWarning: Passing 1d arrays as data is deprecated in 0.17 and willraise ValueError in 0.19. Reshape your data either using X.reshape(-1, 1) if your data has a single feature or X.reshape(1, -1) if it contains a single sample.\n",
      "  DeprecationWarning)\n",
      "C:\\Anaconda2\\lib\\site-packages\\sklearn\\utils\\validation.py:386: DeprecationWarning: Passing 1d arrays as data is deprecated in 0.17 and willraise ValueError in 0.19. Reshape your data either using X.reshape(-1, 1) if your data has a single feature or X.reshape(1, -1) if it contains a single sample.\n",
      "  DeprecationWarning)\n",
      "C:\\Anaconda2\\lib\\site-packages\\sklearn\\utils\\validation.py:386: DeprecationWarning: Passing 1d arrays as data is deprecated in 0.17 and willraise ValueError in 0.19. Reshape your data either using X.reshape(-1, 1) if your data has a single feature or X.reshape(1, -1) if it contains a single sample.\n",
      "  DeprecationWarning)\n",
      "C:\\Anaconda2\\lib\\site-packages\\sklearn\\utils\\validation.py:386: DeprecationWarning: Passing 1d arrays as data is deprecated in 0.17 and willraise ValueError in 0.19. Reshape your data either using X.reshape(-1, 1) if your data has a single feature or X.reshape(1, -1) if it contains a single sample.\n",
      "  DeprecationWarning)\n",
      "C:\\Anaconda2\\lib\\site-packages\\sklearn\\utils\\validation.py:386: DeprecationWarning: Passing 1d arrays as data is deprecated in 0.17 and willraise ValueError in 0.19. Reshape your data either using X.reshape(-1, 1) if your data has a single feature or X.reshape(1, -1) if it contains a single sample.\n",
      "  DeprecationWarning)\n",
      "C:\\Anaconda2\\lib\\site-packages\\sklearn\\utils\\validation.py:386: DeprecationWarning: Passing 1d arrays as data is deprecated in 0.17 and willraise ValueError in 0.19. Reshape your data either using X.reshape(-1, 1) if your data has a single feature or X.reshape(1, -1) if it contains a single sample.\n",
      "  DeprecationWarning)\n",
      "C:\\Anaconda2\\lib\\site-packages\\sklearn\\utils\\validation.py:386: DeprecationWarning: Passing 1d arrays as data is deprecated in 0.17 and willraise ValueError in 0.19. Reshape your data either using X.reshape(-1, 1) if your data has a single feature or X.reshape(1, -1) if it contains a single sample.\n",
      "  DeprecationWarning)\n",
      "C:\\Anaconda2\\lib\\site-packages\\sklearn\\utils\\validation.py:386: DeprecationWarning: Passing 1d arrays as data is deprecated in 0.17 and willraise ValueError in 0.19. Reshape your data either using X.reshape(-1, 1) if your data has a single feature or X.reshape(1, -1) if it contains a single sample.\n",
      "  DeprecationWarning)\n",
      "C:\\Anaconda2\\lib\\site-packages\\sklearn\\utils\\validation.py:386: DeprecationWarning: Passing 1d arrays as data is deprecated in 0.17 and willraise ValueError in 0.19. Reshape your data either using X.reshape(-1, 1) if your data has a single feature or X.reshape(1, -1) if it contains a single sample.\n",
      "  DeprecationWarning)\n",
      "C:\\Anaconda2\\lib\\site-packages\\sklearn\\utils\\validation.py:386: DeprecationWarning: Passing 1d arrays as data is deprecated in 0.17 and willraise ValueError in 0.19. Reshape your data either using X.reshape(-1, 1) if your data has a single feature or X.reshape(1, -1) if it contains a single sample.\n",
      "  DeprecationWarning)\n",
      "C:\\Anaconda2\\lib\\site-packages\\sklearn\\utils\\validation.py:386: DeprecationWarning: Passing 1d arrays as data is deprecated in 0.17 and willraise ValueError in 0.19. Reshape your data either using X.reshape(-1, 1) if your data has a single feature or X.reshape(1, -1) if it contains a single sample.\n",
      "  DeprecationWarning)\n",
      "C:\\Anaconda2\\lib\\site-packages\\sklearn\\utils\\validation.py:386: DeprecationWarning: Passing 1d arrays as data is deprecated in 0.17 and willraise ValueError in 0.19. Reshape your data either using X.reshape(-1, 1) if your data has a single feature or X.reshape(1, -1) if it contains a single sample.\n",
      "  DeprecationWarning)\n",
      "C:\\Anaconda2\\lib\\site-packages\\sklearn\\utils\\validation.py:386: DeprecationWarning: Passing 1d arrays as data is deprecated in 0.17 and willraise ValueError in 0.19. Reshape your data either using X.reshape(-1, 1) if your data has a single feature or X.reshape(1, -1) if it contains a single sample.\n",
      "  DeprecationWarning)\n",
      "C:\\Anaconda2\\lib\\site-packages\\sklearn\\utils\\validation.py:386: DeprecationWarning: Passing 1d arrays as data is deprecated in 0.17 and willraise ValueError in 0.19. Reshape your data either using X.reshape(-1, 1) if your data has a single feature or X.reshape(1, -1) if it contains a single sample.\n",
      "  DeprecationWarning)\n",
      "C:\\Anaconda2\\lib\\site-packages\\sklearn\\utils\\validation.py:386: DeprecationWarning: Passing 1d arrays as data is deprecated in 0.17 and willraise ValueError in 0.19. Reshape your data either using X.reshape(-1, 1) if your data has a single feature or X.reshape(1, -1) if it contains a single sample.\n",
      "  DeprecationWarning)\n",
      "C:\\Anaconda2\\lib\\site-packages\\sklearn\\utils\\validation.py:386: DeprecationWarning: Passing 1d arrays as data is deprecated in 0.17 and willraise ValueError in 0.19. Reshape your data either using X.reshape(-1, 1) if your data has a single feature or X.reshape(1, -1) if it contains a single sample.\n",
      "  DeprecationWarning)\n",
      "C:\\Anaconda2\\lib\\site-packages\\sklearn\\utils\\validation.py:386: DeprecationWarning: Passing 1d arrays as data is deprecated in 0.17 and willraise ValueError in 0.19. Reshape your data either using X.reshape(-1, 1) if your data has a single feature or X.reshape(1, -1) if it contains a single sample.\n",
      "  DeprecationWarning)\n",
      "C:\\Anaconda2\\lib\\site-packages\\sklearn\\utils\\validation.py:386: DeprecationWarning: Passing 1d arrays as data is deprecated in 0.17 and willraise ValueError in 0.19. Reshape your data either using X.reshape(-1, 1) if your data has a single feature or X.reshape(1, -1) if it contains a single sample.\n",
      "  DeprecationWarning)\n",
      "C:\\Anaconda2\\lib\\site-packages\\sklearn\\utils\\validation.py:386: DeprecationWarning: Passing 1d arrays as data is deprecated in 0.17 and willraise ValueError in 0.19. Reshape your data either using X.reshape(-1, 1) if your data has a single feature or X.reshape(1, -1) if it contains a single sample.\n",
      "  DeprecationWarning)\n",
      "C:\\Anaconda2\\lib\\site-packages\\sklearn\\utils\\validation.py:386: DeprecationWarning: Passing 1d arrays as data is deprecated in 0.17 and willraise ValueError in 0.19. Reshape your data either using X.reshape(-1, 1) if your data has a single feature or X.reshape(1, -1) if it contains a single sample.\n",
      "  DeprecationWarning)\n",
      "C:\\Anaconda2\\lib\\site-packages\\sklearn\\utils\\validation.py:386: DeprecationWarning: Passing 1d arrays as data is deprecated in 0.17 and willraise ValueError in 0.19. Reshape your data either using X.reshape(-1, 1) if your data has a single feature or X.reshape(1, -1) if it contains a single sample.\n",
      "  DeprecationWarning)\n",
      "C:\\Anaconda2\\lib\\site-packages\\sklearn\\utils\\validation.py:386: DeprecationWarning: Passing 1d arrays as data is deprecated in 0.17 and willraise ValueError in 0.19. Reshape your data either using X.reshape(-1, 1) if your data has a single feature or X.reshape(1, -1) if it contains a single sample.\n",
      "  DeprecationWarning)\n",
      "C:\\Anaconda2\\lib\\site-packages\\sklearn\\utils\\validation.py:386: DeprecationWarning: Passing 1d arrays as data is deprecated in 0.17 and willraise ValueError in 0.19. Reshape your data either using X.reshape(-1, 1) if your data has a single feature or X.reshape(1, -1) if it contains a single sample.\n",
      "  DeprecationWarning)\n",
      "C:\\Anaconda2\\lib\\site-packages\\sklearn\\utils\\validation.py:386: DeprecationWarning: Passing 1d arrays as data is deprecated in 0.17 and willraise ValueError in 0.19. Reshape your data either using X.reshape(-1, 1) if your data has a single feature or X.reshape(1, -1) if it contains a single sample.\n",
      "  DeprecationWarning)\n",
      "C:\\Anaconda2\\lib\\site-packages\\sklearn\\utils\\validation.py:386: DeprecationWarning: Passing 1d arrays as data is deprecated in 0.17 and willraise ValueError in 0.19. Reshape your data either using X.reshape(-1, 1) if your data has a single feature or X.reshape(1, -1) if it contains a single sample.\n",
      "  DeprecationWarning)\n",
      "C:\\Anaconda2\\lib\\site-packages\\sklearn\\utils\\validation.py:386: DeprecationWarning: Passing 1d arrays as data is deprecated in 0.17 and willraise ValueError in 0.19. Reshape your data either using X.reshape(-1, 1) if your data has a single feature or X.reshape(1, -1) if it contains a single sample.\n",
      "  DeprecationWarning)\n",
      "C:\\Anaconda2\\lib\\site-packages\\sklearn\\utils\\validation.py:386: DeprecationWarning: Passing 1d arrays as data is deprecated in 0.17 and willraise ValueError in 0.19. Reshape your data either using X.reshape(-1, 1) if your data has a single feature or X.reshape(1, -1) if it contains a single sample.\n",
      "  DeprecationWarning)\n",
      "C:\\Anaconda2\\lib\\site-packages\\sklearn\\utils\\validation.py:386: DeprecationWarning: Passing 1d arrays as data is deprecated in 0.17 and willraise ValueError in 0.19. Reshape your data either using X.reshape(-1, 1) if your data has a single feature or X.reshape(1, -1) if it contains a single sample.\n",
      "  DeprecationWarning)\n",
      "C:\\Anaconda2\\lib\\site-packages\\sklearn\\utils\\validation.py:386: DeprecationWarning: Passing 1d arrays as data is deprecated in 0.17 and willraise ValueError in 0.19. Reshape your data either using X.reshape(-1, 1) if your data has a single feature or X.reshape(1, -1) if it contains a single sample.\n",
      "  DeprecationWarning)\n",
      "C:\\Anaconda2\\lib\\site-packages\\sklearn\\utils\\validation.py:386: DeprecationWarning: Passing 1d arrays as data is deprecated in 0.17 and willraise ValueError in 0.19. Reshape your data either using X.reshape(-1, 1) if your data has a single feature or X.reshape(1, -1) if it contains a single sample.\n",
      "  DeprecationWarning)\n",
      "C:\\Anaconda2\\lib\\site-packages\\sklearn\\utils\\validation.py:386: DeprecationWarning: Passing 1d arrays as data is deprecated in 0.17 and willraise ValueError in 0.19. Reshape your data either using X.reshape(-1, 1) if your data has a single feature or X.reshape(1, -1) if it contains a single sample.\n",
      "  DeprecationWarning)\n",
      "C:\\Anaconda2\\lib\\site-packages\\sklearn\\utils\\validation.py:386: DeprecationWarning: Passing 1d arrays as data is deprecated in 0.17 and willraise ValueError in 0.19. Reshape your data either using X.reshape(-1, 1) if your data has a single feature or X.reshape(1, -1) if it contains a single sample.\n",
      "  DeprecationWarning)\n",
      "C:\\Anaconda2\\lib\\site-packages\\sklearn\\utils\\validation.py:386: DeprecationWarning: Passing 1d arrays as data is deprecated in 0.17 and willraise ValueError in 0.19. Reshape your data either using X.reshape(-1, 1) if your data has a single feature or X.reshape(1, -1) if it contains a single sample.\n",
      "  DeprecationWarning)\n",
      "C:\\Anaconda2\\lib\\site-packages\\sklearn\\utils\\validation.py:386: DeprecationWarning: Passing 1d arrays as data is deprecated in 0.17 and willraise ValueError in 0.19. Reshape your data either using X.reshape(-1, 1) if your data has a single feature or X.reshape(1, -1) if it contains a single sample.\n",
      "  DeprecationWarning)\n",
      "C:\\Anaconda2\\lib\\site-packages\\sklearn\\utils\\validation.py:386: DeprecationWarning: Passing 1d arrays as data is deprecated in 0.17 and willraise ValueError in 0.19. Reshape your data either using X.reshape(-1, 1) if your data has a single feature or X.reshape(1, -1) if it contains a single sample.\n",
      "  DeprecationWarning)\n",
      "C:\\Anaconda2\\lib\\site-packages\\sklearn\\utils\\validation.py:386: DeprecationWarning: Passing 1d arrays as data is deprecated in 0.17 and willraise ValueError in 0.19. Reshape your data either using X.reshape(-1, 1) if your data has a single feature or X.reshape(1, -1) if it contains a single sample.\n",
      "  DeprecationWarning)\n",
      "C:\\Anaconda2\\lib\\site-packages\\sklearn\\utils\\validation.py:386: DeprecationWarning: Passing 1d arrays as data is deprecated in 0.17 and willraise ValueError in 0.19. Reshape your data either using X.reshape(-1, 1) if your data has a single feature or X.reshape(1, -1) if it contains a single sample.\n",
      "  DeprecationWarning)\n",
      "C:\\Anaconda2\\lib\\site-packages\\sklearn\\utils\\validation.py:386: DeprecationWarning: Passing 1d arrays as data is deprecated in 0.17 and willraise ValueError in 0.19. Reshape your data either using X.reshape(-1, 1) if your data has a single feature or X.reshape(1, -1) if it contains a single sample.\n",
      "  DeprecationWarning)\n",
      "C:\\Anaconda2\\lib\\site-packages\\sklearn\\utils\\validation.py:386: DeprecationWarning: Passing 1d arrays as data is deprecated in 0.17 and willraise ValueError in 0.19. Reshape your data either using X.reshape(-1, 1) if your data has a single feature or X.reshape(1, -1) if it contains a single sample.\n",
      "  DeprecationWarning)\n",
      "C:\\Anaconda2\\lib\\site-packages\\sklearn\\utils\\validation.py:386: DeprecationWarning: Passing 1d arrays as data is deprecated in 0.17 and willraise ValueError in 0.19. Reshape your data either using X.reshape(-1, 1) if your data has a single feature or X.reshape(1, -1) if it contains a single sample.\n",
      "  DeprecationWarning)\n",
      "C:\\Anaconda2\\lib\\site-packages\\sklearn\\utils\\validation.py:386: DeprecationWarning: Passing 1d arrays as data is deprecated in 0.17 and willraise ValueError in 0.19. Reshape your data either using X.reshape(-1, 1) if your data has a single feature or X.reshape(1, -1) if it contains a single sample.\n",
      "  DeprecationWarning)\n",
      "C:\\Anaconda2\\lib\\site-packages\\sklearn\\utils\\validation.py:386: DeprecationWarning: Passing 1d arrays as data is deprecated in 0.17 and willraise ValueError in 0.19. Reshape your data either using X.reshape(-1, 1) if your data has a single feature or X.reshape(1, -1) if it contains a single sample.\n",
      "  DeprecationWarning)\n",
      "C:\\Anaconda2\\lib\\site-packages\\sklearn\\utils\\validation.py:386: DeprecationWarning: Passing 1d arrays as data is deprecated in 0.17 and willraise ValueError in 0.19. Reshape your data either using X.reshape(-1, 1) if your data has a single feature or X.reshape(1, -1) if it contains a single sample.\n",
      "  DeprecationWarning)\n",
      "C:\\Anaconda2\\lib\\site-packages\\sklearn\\utils\\validation.py:386: DeprecationWarning: Passing 1d arrays as data is deprecated in 0.17 and willraise ValueError in 0.19. Reshape your data either using X.reshape(-1, 1) if your data has a single feature or X.reshape(1, -1) if it contains a single sample.\n",
      "  DeprecationWarning)\n",
      "C:\\Anaconda2\\lib\\site-packages\\sklearn\\utils\\validation.py:386: DeprecationWarning: Passing 1d arrays as data is deprecated in 0.17 and willraise ValueError in 0.19. Reshape your data either using X.reshape(-1, 1) if your data has a single feature or X.reshape(1, -1) if it contains a single sample.\n",
      "  DeprecationWarning)\n",
      "C:\\Anaconda2\\lib\\site-packages\\sklearn\\utils\\validation.py:386: DeprecationWarning: Passing 1d arrays as data is deprecated in 0.17 and willraise ValueError in 0.19. Reshape your data either using X.reshape(-1, 1) if your data has a single feature or X.reshape(1, -1) if it contains a single sample.\n",
      "  DeprecationWarning)\n",
      "C:\\Anaconda2\\lib\\site-packages\\sklearn\\utils\\validation.py:386: DeprecationWarning: Passing 1d arrays as data is deprecated in 0.17 and willraise ValueError in 0.19. Reshape your data either using X.reshape(-1, 1) if your data has a single feature or X.reshape(1, -1) if it contains a single sample.\n",
      "  DeprecationWarning)\n",
      "C:\\Anaconda2\\lib\\site-packages\\sklearn\\utils\\validation.py:386: DeprecationWarning: Passing 1d arrays as data is deprecated in 0.17 and willraise ValueError in 0.19. Reshape your data either using X.reshape(-1, 1) if your data has a single feature or X.reshape(1, -1) if it contains a single sample.\n",
      "  DeprecationWarning)\n",
      "C:\\Anaconda2\\lib\\site-packages\\sklearn\\utils\\validation.py:386: DeprecationWarning: Passing 1d arrays as data is deprecated in 0.17 and willraise ValueError in 0.19. Reshape your data either using X.reshape(-1, 1) if your data has a single feature or X.reshape(1, -1) if it contains a single sample.\n",
      "  DeprecationWarning)\n",
      "C:\\Anaconda2\\lib\\site-packages\\sklearn\\utils\\validation.py:386: DeprecationWarning: Passing 1d arrays as data is deprecated in 0.17 and willraise ValueError in 0.19. Reshape your data either using X.reshape(-1, 1) if your data has a single feature or X.reshape(1, -1) if it contains a single sample.\n",
      "  DeprecationWarning)\n",
      "C:\\Anaconda2\\lib\\site-packages\\sklearn\\utils\\validation.py:386: DeprecationWarning: Passing 1d arrays as data is deprecated in 0.17 and willraise ValueError in 0.19. Reshape your data either using X.reshape(-1, 1) if your data has a single feature or X.reshape(1, -1) if it contains a single sample.\n",
      "  DeprecationWarning)\n",
      "C:\\Anaconda2\\lib\\site-packages\\sklearn\\utils\\validation.py:386: DeprecationWarning: Passing 1d arrays as data is deprecated in 0.17 and willraise ValueError in 0.19. Reshape your data either using X.reshape(-1, 1) if your data has a single feature or X.reshape(1, -1) if it contains a single sample.\n",
      "  DeprecationWarning)\n",
      "C:\\Anaconda2\\lib\\site-packages\\sklearn\\utils\\validation.py:386: DeprecationWarning: Passing 1d arrays as data is deprecated in 0.17 and willraise ValueError in 0.19. Reshape your data either using X.reshape(-1, 1) if your data has a single feature or X.reshape(1, -1) if it contains a single sample.\n",
      "  DeprecationWarning)\n",
      "C:\\Anaconda2\\lib\\site-packages\\sklearn\\utils\\validation.py:386: DeprecationWarning: Passing 1d arrays as data is deprecated in 0.17 and willraise ValueError in 0.19. Reshape your data either using X.reshape(-1, 1) if your data has a single feature or X.reshape(1, -1) if it contains a single sample.\n",
      "  DeprecationWarning)\n",
      "C:\\Anaconda2\\lib\\site-packages\\sklearn\\utils\\validation.py:386: DeprecationWarning: Passing 1d arrays as data is deprecated in 0.17 and willraise ValueError in 0.19. Reshape your data either using X.reshape(-1, 1) if your data has a single feature or X.reshape(1, -1) if it contains a single sample.\n",
      "  DeprecationWarning)\n",
      "C:\\Anaconda2\\lib\\site-packages\\sklearn\\utils\\validation.py:386: DeprecationWarning: Passing 1d arrays as data is deprecated in 0.17 and willraise ValueError in 0.19. Reshape your data either using X.reshape(-1, 1) if your data has a single feature or X.reshape(1, -1) if it contains a single sample.\n",
      "  DeprecationWarning)\n",
      "C:\\Anaconda2\\lib\\site-packages\\sklearn\\utils\\validation.py:386: DeprecationWarning: Passing 1d arrays as data is deprecated in 0.17 and willraise ValueError in 0.19. Reshape your data either using X.reshape(-1, 1) if your data has a single feature or X.reshape(1, -1) if it contains a single sample.\n",
      "  DeprecationWarning)\n",
      "C:\\Anaconda2\\lib\\site-packages\\sklearn\\utils\\validation.py:386: DeprecationWarning: Passing 1d arrays as data is deprecated in 0.17 and willraise ValueError in 0.19. Reshape your data either using X.reshape(-1, 1) if your data has a single feature or X.reshape(1, -1) if it contains a single sample.\n",
      "  DeprecationWarning)\n",
      "C:\\Anaconda2\\lib\\site-packages\\sklearn\\utils\\validation.py:386: DeprecationWarning: Passing 1d arrays as data is deprecated in 0.17 and willraise ValueError in 0.19. Reshape your data either using X.reshape(-1, 1) if your data has a single feature or X.reshape(1, -1) if it contains a single sample.\n",
      "  DeprecationWarning)\n",
      "C:\\Anaconda2\\lib\\site-packages\\sklearn\\utils\\validation.py:386: DeprecationWarning: Passing 1d arrays as data is deprecated in 0.17 and willraise ValueError in 0.19. Reshape your data either using X.reshape(-1, 1) if your data has a single feature or X.reshape(1, -1) if it contains a single sample.\n",
      "  DeprecationWarning)\n",
      "C:\\Anaconda2\\lib\\site-packages\\sklearn\\utils\\validation.py:386: DeprecationWarning: Passing 1d arrays as data is deprecated in 0.17 and willraise ValueError in 0.19. Reshape your data either using X.reshape(-1, 1) if your data has a single feature or X.reshape(1, -1) if it contains a single sample.\n",
      "  DeprecationWarning)\n",
      "C:\\Anaconda2\\lib\\site-packages\\sklearn\\utils\\validation.py:386: DeprecationWarning: Passing 1d arrays as data is deprecated in 0.17 and willraise ValueError in 0.19. Reshape your data either using X.reshape(-1, 1) if your data has a single feature or X.reshape(1, -1) if it contains a single sample.\n",
      "  DeprecationWarning)\n",
      "C:\\Anaconda2\\lib\\site-packages\\sklearn\\utils\\validation.py:386: DeprecationWarning: Passing 1d arrays as data is deprecated in 0.17 and willraise ValueError in 0.19. Reshape your data either using X.reshape(-1, 1) if your data has a single feature or X.reshape(1, -1) if it contains a single sample.\n",
      "  DeprecationWarning)\n",
      "C:\\Anaconda2\\lib\\site-packages\\sklearn\\utils\\validation.py:386: DeprecationWarning: Passing 1d arrays as data is deprecated in 0.17 and willraise ValueError in 0.19. Reshape your data either using X.reshape(-1, 1) if your data has a single feature or X.reshape(1, -1) if it contains a single sample.\n",
      "  DeprecationWarning)\n",
      "C:\\Anaconda2\\lib\\site-packages\\sklearn\\utils\\validation.py:386: DeprecationWarning: Passing 1d arrays as data is deprecated in 0.17 and willraise ValueError in 0.19. Reshape your data either using X.reshape(-1, 1) if your data has a single feature or X.reshape(1, -1) if it contains a single sample.\n",
      "  DeprecationWarning)\n",
      "C:\\Anaconda2\\lib\\site-packages\\sklearn\\utils\\validation.py:386: DeprecationWarning: Passing 1d arrays as data is deprecated in 0.17 and willraise ValueError in 0.19. Reshape your data either using X.reshape(-1, 1) if your data has a single feature or X.reshape(1, -1) if it contains a single sample.\n",
      "  DeprecationWarning)\n",
      "C:\\Anaconda2\\lib\\site-packages\\sklearn\\utils\\validation.py:386: DeprecationWarning: Passing 1d arrays as data is deprecated in 0.17 and willraise ValueError in 0.19. Reshape your data either using X.reshape(-1, 1) if your data has a single feature or X.reshape(1, -1) if it contains a single sample.\n",
      "  DeprecationWarning)\n",
      "C:\\Anaconda2\\lib\\site-packages\\sklearn\\utils\\validation.py:386: DeprecationWarning: Passing 1d arrays as data is deprecated in 0.17 and willraise ValueError in 0.19. Reshape your data either using X.reshape(-1, 1) if your data has a single feature or X.reshape(1, -1) if it contains a single sample.\n",
      "  DeprecationWarning)\n",
      "C:\\Anaconda2\\lib\\site-packages\\sklearn\\utils\\validation.py:386: DeprecationWarning: Passing 1d arrays as data is deprecated in 0.17 and willraise ValueError in 0.19. Reshape your data either using X.reshape(-1, 1) if your data has a single feature or X.reshape(1, -1) if it contains a single sample.\n",
      "  DeprecationWarning)\n",
      "C:\\Anaconda2\\lib\\site-packages\\sklearn\\utils\\validation.py:386: DeprecationWarning: Passing 1d arrays as data is deprecated in 0.17 and willraise ValueError in 0.19. Reshape your data either using X.reshape(-1, 1) if your data has a single feature or X.reshape(1, -1) if it contains a single sample.\n",
      "  DeprecationWarning)\n",
      "C:\\Anaconda2\\lib\\site-packages\\sklearn\\utils\\validation.py:386: DeprecationWarning: Passing 1d arrays as data is deprecated in 0.17 and willraise ValueError in 0.19. Reshape your data either using X.reshape(-1, 1) if your data has a single feature or X.reshape(1, -1) if it contains a single sample.\n",
      "  DeprecationWarning)\n",
      "C:\\Anaconda2\\lib\\site-packages\\sklearn\\utils\\validation.py:386: DeprecationWarning: Passing 1d arrays as data is deprecated in 0.17 and willraise ValueError in 0.19. Reshape your data either using X.reshape(-1, 1) if your data has a single feature or X.reshape(1, -1) if it contains a single sample.\n",
      "  DeprecationWarning)\n",
      "C:\\Anaconda2\\lib\\site-packages\\sklearn\\utils\\validation.py:386: DeprecationWarning: Passing 1d arrays as data is deprecated in 0.17 and willraise ValueError in 0.19. Reshape your data either using X.reshape(-1, 1) if your data has a single feature or X.reshape(1, -1) if it contains a single sample.\n",
      "  DeprecationWarning)\n",
      "C:\\Anaconda2\\lib\\site-packages\\sklearn\\utils\\validation.py:386: DeprecationWarning: Passing 1d arrays as data is deprecated in 0.17 and willraise ValueError in 0.19. Reshape your data either using X.reshape(-1, 1) if your data has a single feature or X.reshape(1, -1) if it contains a single sample.\n",
      "  DeprecationWarning)\n",
      "C:\\Anaconda2\\lib\\site-packages\\sklearn\\utils\\validation.py:386: DeprecationWarning: Passing 1d arrays as data is deprecated in 0.17 and willraise ValueError in 0.19. Reshape your data either using X.reshape(-1, 1) if your data has a single feature or X.reshape(1, -1) if it contains a single sample.\n",
      "  DeprecationWarning)\n",
      "C:\\Anaconda2\\lib\\site-packages\\sklearn\\utils\\validation.py:386: DeprecationWarning: Passing 1d arrays as data is deprecated in 0.17 and willraise ValueError in 0.19. Reshape your data either using X.reshape(-1, 1) if your data has a single feature or X.reshape(1, -1) if it contains a single sample.\n",
      "  DeprecationWarning)\n",
      "C:\\Anaconda2\\lib\\site-packages\\sklearn\\utils\\validation.py:386: DeprecationWarning: Passing 1d arrays as data is deprecated in 0.17 and willraise ValueError in 0.19. Reshape your data either using X.reshape(-1, 1) if your data has a single feature or X.reshape(1, -1) if it contains a single sample.\n",
      "  DeprecationWarning)\n",
      "C:\\Anaconda2\\lib\\site-packages\\sklearn\\utils\\validation.py:386: DeprecationWarning: Passing 1d arrays as data is deprecated in 0.17 and willraise ValueError in 0.19. Reshape your data either using X.reshape(-1, 1) if your data has a single feature or X.reshape(1, -1) if it contains a single sample.\n",
      "  DeprecationWarning)\n",
      "C:\\Anaconda2\\lib\\site-packages\\sklearn\\utils\\validation.py:386: DeprecationWarning: Passing 1d arrays as data is deprecated in 0.17 and willraise ValueError in 0.19. Reshape your data either using X.reshape(-1, 1) if your data has a single feature or X.reshape(1, -1) if it contains a single sample.\n",
      "  DeprecationWarning)\n",
      "C:\\Anaconda2\\lib\\site-packages\\sklearn\\utils\\validation.py:386: DeprecationWarning: Passing 1d arrays as data is deprecated in 0.17 and willraise ValueError in 0.19. Reshape your data either using X.reshape(-1, 1) if your data has a single feature or X.reshape(1, -1) if it contains a single sample.\n",
      "  DeprecationWarning)\n",
      "C:\\Anaconda2\\lib\\site-packages\\sklearn\\utils\\validation.py:386: DeprecationWarning: Passing 1d arrays as data is deprecated in 0.17 and willraise ValueError in 0.19. Reshape your data either using X.reshape(-1, 1) if your data has a single feature or X.reshape(1, -1) if it contains a single sample.\n",
      "  DeprecationWarning)\n",
      "C:\\Anaconda2\\lib\\site-packages\\sklearn\\utils\\validation.py:386: DeprecationWarning: Passing 1d arrays as data is deprecated in 0.17 and willraise ValueError in 0.19. Reshape your data either using X.reshape(-1, 1) if your data has a single feature or X.reshape(1, -1) if it contains a single sample.\n",
      "  DeprecationWarning)\n",
      "C:\\Anaconda2\\lib\\site-packages\\sklearn\\utils\\validation.py:386: DeprecationWarning: Passing 1d arrays as data is deprecated in 0.17 and willraise ValueError in 0.19. Reshape your data either using X.reshape(-1, 1) if your data has a single feature or X.reshape(1, -1) if it contains a single sample.\n",
      "  DeprecationWarning)\n",
      "C:\\Anaconda2\\lib\\site-packages\\sklearn\\utils\\validation.py:386: DeprecationWarning: Passing 1d arrays as data is deprecated in 0.17 and willraise ValueError in 0.19. Reshape your data either using X.reshape(-1, 1) if your data has a single feature or X.reshape(1, -1) if it contains a single sample.\n",
      "  DeprecationWarning)\n",
      "C:\\Anaconda2\\lib\\site-packages\\sklearn\\utils\\validation.py:386: DeprecationWarning: Passing 1d arrays as data is deprecated in 0.17 and willraise ValueError in 0.19. Reshape your data either using X.reshape(-1, 1) if your data has a single feature or X.reshape(1, -1) if it contains a single sample.\n",
      "  DeprecationWarning)\n",
      "C:\\Anaconda2\\lib\\site-packages\\sklearn\\utils\\validation.py:386: DeprecationWarning: Passing 1d arrays as data is deprecated in 0.17 and willraise ValueError in 0.19. Reshape your data either using X.reshape(-1, 1) if your data has a single feature or X.reshape(1, -1) if it contains a single sample.\n",
      "  DeprecationWarning)\n",
      "C:\\Anaconda2\\lib\\site-packages\\sklearn\\utils\\validation.py:386: DeprecationWarning: Passing 1d arrays as data is deprecated in 0.17 and willraise ValueError in 0.19. Reshape your data either using X.reshape(-1, 1) if your data has a single feature or X.reshape(1, -1) if it contains a single sample.\n",
      "  DeprecationWarning)\n",
      "C:\\Anaconda2\\lib\\site-packages\\sklearn\\utils\\validation.py:386: DeprecationWarning: Passing 1d arrays as data is deprecated in 0.17 and willraise ValueError in 0.19. Reshape your data either using X.reshape(-1, 1) if your data has a single feature or X.reshape(1, -1) if it contains a single sample.\n",
      "  DeprecationWarning)\n",
      "C:\\Anaconda2\\lib\\site-packages\\sklearn\\utils\\validation.py:386: DeprecationWarning: Passing 1d arrays as data is deprecated in 0.17 and willraise ValueError in 0.19. Reshape your data either using X.reshape(-1, 1) if your data has a single feature or X.reshape(1, -1) if it contains a single sample.\n",
      "  DeprecationWarning)\n",
      "C:\\Anaconda2\\lib\\site-packages\\sklearn\\utils\\validation.py:386: DeprecationWarning: Passing 1d arrays as data is deprecated in 0.17 and willraise ValueError in 0.19. Reshape your data either using X.reshape(-1, 1) if your data has a single feature or X.reshape(1, -1) if it contains a single sample.\n",
      "  DeprecationWarning)\n",
      "C:\\Anaconda2\\lib\\site-packages\\sklearn\\utils\\validation.py:386: DeprecationWarning: Passing 1d arrays as data is deprecated in 0.17 and willraise ValueError in 0.19. Reshape your data either using X.reshape(-1, 1) if your data has a single feature or X.reshape(1, -1) if it contains a single sample.\n",
      "  DeprecationWarning)\n",
      "C:\\Anaconda2\\lib\\site-packages\\sklearn\\utils\\validation.py:386: DeprecationWarning: Passing 1d arrays as data is deprecated in 0.17 and willraise ValueError in 0.19. Reshape your data either using X.reshape(-1, 1) if your data has a single feature or X.reshape(1, -1) if it contains a single sample.\n",
      "  DeprecationWarning)\n",
      "C:\\Anaconda2\\lib\\site-packages\\sklearn\\utils\\validation.py:386: DeprecationWarning: Passing 1d arrays as data is deprecated in 0.17 and willraise ValueError in 0.19. Reshape your data either using X.reshape(-1, 1) if your data has a single feature or X.reshape(1, -1) if it contains a single sample.\n",
      "  DeprecationWarning)\n",
      "C:\\Anaconda2\\lib\\site-packages\\sklearn\\utils\\validation.py:386: DeprecationWarning: Passing 1d arrays as data is deprecated in 0.17 and willraise ValueError in 0.19. Reshape your data either using X.reshape(-1, 1) if your data has a single feature or X.reshape(1, -1) if it contains a single sample.\n",
      "  DeprecationWarning)\n",
      "C:\\Anaconda2\\lib\\site-packages\\sklearn\\utils\\validation.py:386: DeprecationWarning: Passing 1d arrays as data is deprecated in 0.17 and willraise ValueError in 0.19. Reshape your data either using X.reshape(-1, 1) if your data has a single feature or X.reshape(1, -1) if it contains a single sample.\n",
      "  DeprecationWarning)\n",
      "C:\\Anaconda2\\lib\\site-packages\\sklearn\\utils\\validation.py:386: DeprecationWarning: Passing 1d arrays as data is deprecated in 0.17 and willraise ValueError in 0.19. Reshape your data either using X.reshape(-1, 1) if your data has a single feature or X.reshape(1, -1) if it contains a single sample.\n",
      "  DeprecationWarning)\n",
      "C:\\Anaconda2\\lib\\site-packages\\sklearn\\utils\\validation.py:386: DeprecationWarning: Passing 1d arrays as data is deprecated in 0.17 and willraise ValueError in 0.19. Reshape your data either using X.reshape(-1, 1) if your data has a single feature or X.reshape(1, -1) if it contains a single sample.\n",
      "  DeprecationWarning)\n",
      "C:\\Anaconda2\\lib\\site-packages\\sklearn\\utils\\validation.py:386: DeprecationWarning: Passing 1d arrays as data is deprecated in 0.17 and willraise ValueError in 0.19. Reshape your data either using X.reshape(-1, 1) if your data has a single feature or X.reshape(1, -1) if it contains a single sample.\n",
      "  DeprecationWarning)\n",
      "C:\\Anaconda2\\lib\\site-packages\\sklearn\\utils\\validation.py:386: DeprecationWarning: Passing 1d arrays as data is deprecated in 0.17 and willraise ValueError in 0.19. Reshape your data either using X.reshape(-1, 1) if your data has a single feature or X.reshape(1, -1) if it contains a single sample.\n",
      "  DeprecationWarning)\n",
      "C:\\Anaconda2\\lib\\site-packages\\sklearn\\utils\\validation.py:386: DeprecationWarning: Passing 1d arrays as data is deprecated in 0.17 and willraise ValueError in 0.19. Reshape your data either using X.reshape(-1, 1) if your data has a single feature or X.reshape(1, -1) if it contains a single sample.\n",
      "  DeprecationWarning)\n",
      "C:\\Anaconda2\\lib\\site-packages\\sklearn\\utils\\validation.py:386: DeprecationWarning: Passing 1d arrays as data is deprecated in 0.17 and willraise ValueError in 0.19. Reshape your data either using X.reshape(-1, 1) if your data has a single feature or X.reshape(1, -1) if it contains a single sample.\n",
      "  DeprecationWarning)\n",
      "C:\\Anaconda2\\lib\\site-packages\\sklearn\\utils\\validation.py:386: DeprecationWarning: Passing 1d arrays as data is deprecated in 0.17 and willraise ValueError in 0.19. Reshape your data either using X.reshape(-1, 1) if your data has a single feature or X.reshape(1, -1) if it contains a single sample.\n",
      "  DeprecationWarning)\n",
      "C:\\Anaconda2\\lib\\site-packages\\sklearn\\utils\\validation.py:386: DeprecationWarning: Passing 1d arrays as data is deprecated in 0.17 and willraise ValueError in 0.19. Reshape your data either using X.reshape(-1, 1) if your data has a single feature or X.reshape(1, -1) if it contains a single sample.\n",
      "  DeprecationWarning)\n",
      "C:\\Anaconda2\\lib\\site-packages\\sklearn\\utils\\validation.py:386: DeprecationWarning: Passing 1d arrays as data is deprecated in 0.17 and willraise ValueError in 0.19. Reshape your data either using X.reshape(-1, 1) if your data has a single feature or X.reshape(1, -1) if it contains a single sample.\n",
      "  DeprecationWarning)\n",
      "C:\\Anaconda2\\lib\\site-packages\\sklearn\\utils\\validation.py:386: DeprecationWarning: Passing 1d arrays as data is deprecated in 0.17 and willraise ValueError in 0.19. Reshape your data either using X.reshape(-1, 1) if your data has a single feature or X.reshape(1, -1) if it contains a single sample.\n",
      "  DeprecationWarning)\n",
      "C:\\Anaconda2\\lib\\site-packages\\sklearn\\utils\\validation.py:386: DeprecationWarning: Passing 1d arrays as data is deprecated in 0.17 and willraise ValueError in 0.19. Reshape your data either using X.reshape(-1, 1) if your data has a single feature or X.reshape(1, -1) if it contains a single sample.\n",
      "  DeprecationWarning)\n",
      "C:\\Anaconda2\\lib\\site-packages\\sklearn\\utils\\validation.py:386: DeprecationWarning: Passing 1d arrays as data is deprecated in 0.17 and willraise ValueError in 0.19. Reshape your data either using X.reshape(-1, 1) if your data has a single feature or X.reshape(1, -1) if it contains a single sample.\n",
      "  DeprecationWarning)\n",
      "C:\\Anaconda2\\lib\\site-packages\\sklearn\\utils\\validation.py:386: DeprecationWarning: Passing 1d arrays as data is deprecated in 0.17 and willraise ValueError in 0.19. Reshape your data either using X.reshape(-1, 1) if your data has a single feature or X.reshape(1, -1) if it contains a single sample.\n",
      "  DeprecationWarning)\n",
      "C:\\Anaconda2\\lib\\site-packages\\sklearn\\utils\\validation.py:386: DeprecationWarning: Passing 1d arrays as data is deprecated in 0.17 and willraise ValueError in 0.19. Reshape your data either using X.reshape(-1, 1) if your data has a single feature or X.reshape(1, -1) if it contains a single sample.\n",
      "  DeprecationWarning)\n",
      "C:\\Anaconda2\\lib\\site-packages\\sklearn\\utils\\validation.py:386: DeprecationWarning: Passing 1d arrays as data is deprecated in 0.17 and willraise ValueError in 0.19. Reshape your data either using X.reshape(-1, 1) if your data has a single feature or X.reshape(1, -1) if it contains a single sample.\n",
      "  DeprecationWarning)\n",
      "C:\\Anaconda2\\lib\\site-packages\\sklearn\\utils\\validation.py:386: DeprecationWarning: Passing 1d arrays as data is deprecated in 0.17 and willraise ValueError in 0.19. Reshape your data either using X.reshape(-1, 1) if your data has a single feature or X.reshape(1, -1) if it contains a single sample.\n",
      "  DeprecationWarning)\n",
      "C:\\Anaconda2\\lib\\site-packages\\sklearn\\utils\\validation.py:386: DeprecationWarning: Passing 1d arrays as data is deprecated in 0.17 and willraise ValueError in 0.19. Reshape your data either using X.reshape(-1, 1) if your data has a single feature or X.reshape(1, -1) if it contains a single sample.\n",
      "  DeprecationWarning)\n",
      "C:\\Anaconda2\\lib\\site-packages\\sklearn\\utils\\validation.py:386: DeprecationWarning: Passing 1d arrays as data is deprecated in 0.17 and willraise ValueError in 0.19. Reshape your data either using X.reshape(-1, 1) if your data has a single feature or X.reshape(1, -1) if it contains a single sample.\n",
      "  DeprecationWarning)\n",
      "C:\\Anaconda2\\lib\\site-packages\\sklearn\\utils\\validation.py:386: DeprecationWarning: Passing 1d arrays as data is deprecated in 0.17 and willraise ValueError in 0.19. Reshape your data either using X.reshape(-1, 1) if your data has a single feature or X.reshape(1, -1) if it contains a single sample.\n",
      "  DeprecationWarning)\n",
      "C:\\Anaconda2\\lib\\site-packages\\sklearn\\utils\\validation.py:386: DeprecationWarning: Passing 1d arrays as data is deprecated in 0.17 and willraise ValueError in 0.19. Reshape your data either using X.reshape(-1, 1) if your data has a single feature or X.reshape(1, -1) if it contains a single sample.\n",
      "  DeprecationWarning)\n",
      "C:\\Anaconda2\\lib\\site-packages\\sklearn\\utils\\validation.py:386: DeprecationWarning: Passing 1d arrays as data is deprecated in 0.17 and willraise ValueError in 0.19. Reshape your data either using X.reshape(-1, 1) if your data has a single feature or X.reshape(1, -1) if it contains a single sample.\n",
      "  DeprecationWarning)\n",
      "C:\\Anaconda2\\lib\\site-packages\\sklearn\\utils\\validation.py:386: DeprecationWarning: Passing 1d arrays as data is deprecated in 0.17 and willraise ValueError in 0.19. Reshape your data either using X.reshape(-1, 1) if your data has a single feature or X.reshape(1, -1) if it contains a single sample.\n",
      "  DeprecationWarning)\n",
      "C:\\Anaconda2\\lib\\site-packages\\sklearn\\utils\\validation.py:386: DeprecationWarning: Passing 1d arrays as data is deprecated in 0.17 and willraise ValueError in 0.19. Reshape your data either using X.reshape(-1, 1) if your data has a single feature or X.reshape(1, -1) if it contains a single sample.\n",
      "  DeprecationWarning)\n",
      "C:\\Anaconda2\\lib\\site-packages\\sklearn\\utils\\validation.py:386: DeprecationWarning: Passing 1d arrays as data is deprecated in 0.17 and willraise ValueError in 0.19. Reshape your data either using X.reshape(-1, 1) if your data has a single feature or X.reshape(1, -1) if it contains a single sample.\n",
      "  DeprecationWarning)\n",
      "C:\\Anaconda2\\lib\\site-packages\\sklearn\\utils\\validation.py:386: DeprecationWarning: Passing 1d arrays as data is deprecated in 0.17 and willraise ValueError in 0.19. Reshape your data either using X.reshape(-1, 1) if your data has a single feature or X.reshape(1, -1) if it contains a single sample.\n",
      "  DeprecationWarning)\n",
      "C:\\Anaconda2\\lib\\site-packages\\sklearn\\utils\\validation.py:386: DeprecationWarning: Passing 1d arrays as data is deprecated in 0.17 and willraise ValueError in 0.19. Reshape your data either using X.reshape(-1, 1) if your data has a single feature or X.reshape(1, -1) if it contains a single sample.\n",
      "  DeprecationWarning)\n",
      "C:\\Anaconda2\\lib\\site-packages\\sklearn\\utils\\validation.py:386: DeprecationWarning: Passing 1d arrays as data is deprecated in 0.17 and willraise ValueError in 0.19. Reshape your data either using X.reshape(-1, 1) if your data has a single feature or X.reshape(1, -1) if it contains a single sample.\n",
      "  DeprecationWarning)\n",
      "C:\\Anaconda2\\lib\\site-packages\\sklearn\\utils\\validation.py:386: DeprecationWarning: Passing 1d arrays as data is deprecated in 0.17 and willraise ValueError in 0.19. Reshape your data either using X.reshape(-1, 1) if your data has a single feature or X.reshape(1, -1) if it contains a single sample.\n",
      "  DeprecationWarning)\n",
      "C:\\Anaconda2\\lib\\site-packages\\sklearn\\utils\\validation.py:386: DeprecationWarning: Passing 1d arrays as data is deprecated in 0.17 and willraise ValueError in 0.19. Reshape your data either using X.reshape(-1, 1) if your data has a single feature or X.reshape(1, -1) if it contains a single sample.\n",
      "  DeprecationWarning)\n",
      "C:\\Anaconda2\\lib\\site-packages\\sklearn\\utils\\validation.py:386: DeprecationWarning: Passing 1d arrays as data is deprecated in 0.17 and willraise ValueError in 0.19. Reshape your data either using X.reshape(-1, 1) if your data has a single feature or X.reshape(1, -1) if it contains a single sample.\n",
      "  DeprecationWarning)\n",
      "C:\\Anaconda2\\lib\\site-packages\\sklearn\\utils\\validation.py:386: DeprecationWarning: Passing 1d arrays as data is deprecated in 0.17 and willraise ValueError in 0.19. Reshape your data either using X.reshape(-1, 1) if your data has a single feature or X.reshape(1, -1) if it contains a single sample.\n",
      "  DeprecationWarning)\n",
      "C:\\Anaconda2\\lib\\site-packages\\sklearn\\utils\\validation.py:386: DeprecationWarning: Passing 1d arrays as data is deprecated in 0.17 and willraise ValueError in 0.19. Reshape your data either using X.reshape(-1, 1) if your data has a single feature or X.reshape(1, -1) if it contains a single sample.\n",
      "  DeprecationWarning)\n",
      "C:\\Anaconda2\\lib\\site-packages\\sklearn\\utils\\validation.py:386: DeprecationWarning: Passing 1d arrays as data is deprecated in 0.17 and willraise ValueError in 0.19. Reshape your data either using X.reshape(-1, 1) if your data has a single feature or X.reshape(1, -1) if it contains a single sample.\n",
      "  DeprecationWarning)\n",
      "C:\\Anaconda2\\lib\\site-packages\\sklearn\\utils\\validation.py:386: DeprecationWarning: Passing 1d arrays as data is deprecated in 0.17 and willraise ValueError in 0.19. Reshape your data either using X.reshape(-1, 1) if your data has a single feature or X.reshape(1, -1) if it contains a single sample.\n",
      "  DeprecationWarning)\n",
      "C:\\Anaconda2\\lib\\site-packages\\sklearn\\utils\\validation.py:386: DeprecationWarning: Passing 1d arrays as data is deprecated in 0.17 and willraise ValueError in 0.19. Reshape your data either using X.reshape(-1, 1) if your data has a single feature or X.reshape(1, -1) if it contains a single sample.\n",
      "  DeprecationWarning)\n",
      "C:\\Anaconda2\\lib\\site-packages\\sklearn\\utils\\validation.py:386: DeprecationWarning: Passing 1d arrays as data is deprecated in 0.17 and willraise ValueError in 0.19. Reshape your data either using X.reshape(-1, 1) if your data has a single feature or X.reshape(1, -1) if it contains a single sample.\n",
      "  DeprecationWarning)\n",
      "C:\\Anaconda2\\lib\\site-packages\\sklearn\\utils\\validation.py:386: DeprecationWarning: Passing 1d arrays as data is deprecated in 0.17 and willraise ValueError in 0.19. Reshape your data either using X.reshape(-1, 1) if your data has a single feature or X.reshape(1, -1) if it contains a single sample.\n",
      "  DeprecationWarning)\n",
      "C:\\Anaconda2\\lib\\site-packages\\sklearn\\utils\\validation.py:386: DeprecationWarning: Passing 1d arrays as data is deprecated in 0.17 and willraise ValueError in 0.19. Reshape your data either using X.reshape(-1, 1) if your data has a single feature or X.reshape(1, -1) if it contains a single sample.\n",
      "  DeprecationWarning)\n",
      "C:\\Anaconda2\\lib\\site-packages\\sklearn\\utils\\validation.py:386: DeprecationWarning: Passing 1d arrays as data is deprecated in 0.17 and willraise ValueError in 0.19. Reshape your data either using X.reshape(-1, 1) if your data has a single feature or X.reshape(1, -1) if it contains a single sample.\n",
      "  DeprecationWarning)\n",
      "C:\\Anaconda2\\lib\\site-packages\\sklearn\\utils\\validation.py:386: DeprecationWarning: Passing 1d arrays as data is deprecated in 0.17 and willraise ValueError in 0.19. Reshape your data either using X.reshape(-1, 1) if your data has a single feature or X.reshape(1, -1) if it contains a single sample.\n",
      "  DeprecationWarning)\n",
      "C:\\Anaconda2\\lib\\site-packages\\sklearn\\utils\\validation.py:386: DeprecationWarning: Passing 1d arrays as data is deprecated in 0.17 and willraise ValueError in 0.19. Reshape your data either using X.reshape(-1, 1) if your data has a single feature or X.reshape(1, -1) if it contains a single sample.\n",
      "  DeprecationWarning)\n",
      "C:\\Anaconda2\\lib\\site-packages\\sklearn\\utils\\validation.py:386: DeprecationWarning: Passing 1d arrays as data is deprecated in 0.17 and willraise ValueError in 0.19. Reshape your data either using X.reshape(-1, 1) if your data has a single feature or X.reshape(1, -1) if it contains a single sample.\n",
      "  DeprecationWarning)\n",
      "C:\\Anaconda2\\lib\\site-packages\\sklearn\\utils\\validation.py:386: DeprecationWarning: Passing 1d arrays as data is deprecated in 0.17 and willraise ValueError in 0.19. Reshape your data either using X.reshape(-1, 1) if your data has a single feature or X.reshape(1, -1) if it contains a single sample.\n",
      "  DeprecationWarning)\n",
      "C:\\Anaconda2\\lib\\site-packages\\sklearn\\utils\\validation.py:386: DeprecationWarning: Passing 1d arrays as data is deprecated in 0.17 and willraise ValueError in 0.19. Reshape your data either using X.reshape(-1, 1) if your data has a single feature or X.reshape(1, -1) if it contains a single sample.\n",
      "  DeprecationWarning)\n",
      "C:\\Anaconda2\\lib\\site-packages\\sklearn\\utils\\validation.py:386: DeprecationWarning: Passing 1d arrays as data is deprecated in 0.17 and willraise ValueError in 0.19. Reshape your data either using X.reshape(-1, 1) if your data has a single feature or X.reshape(1, -1) if it contains a single sample.\n",
      "  DeprecationWarning)\n",
      "C:\\Anaconda2\\lib\\site-packages\\sklearn\\utils\\validation.py:386: DeprecationWarning: Passing 1d arrays as data is deprecated in 0.17 and willraise ValueError in 0.19. Reshape your data either using X.reshape(-1, 1) if your data has a single feature or X.reshape(1, -1) if it contains a single sample.\n",
      "  DeprecationWarning)\n",
      "C:\\Anaconda2\\lib\\site-packages\\sklearn\\utils\\validation.py:386: DeprecationWarning: Passing 1d arrays as data is deprecated in 0.17 and willraise ValueError in 0.19. Reshape your data either using X.reshape(-1, 1) if your data has a single feature or X.reshape(1, -1) if it contains a single sample.\n",
      "  DeprecationWarning)\n",
      "C:\\Anaconda2\\lib\\site-packages\\sklearn\\utils\\validation.py:386: DeprecationWarning: Passing 1d arrays as data is deprecated in 0.17 and willraise ValueError in 0.19. Reshape your data either using X.reshape(-1, 1) if your data has a single feature or X.reshape(1, -1) if it contains a single sample.\n",
      "  DeprecationWarning)\n",
      "C:\\Anaconda2\\lib\\site-packages\\sklearn\\utils\\validation.py:386: DeprecationWarning: Passing 1d arrays as data is deprecated in 0.17 and willraise ValueError in 0.19. Reshape your data either using X.reshape(-1, 1) if your data has a single feature or X.reshape(1, -1) if it contains a single sample.\n",
      "  DeprecationWarning)\n",
      "C:\\Anaconda2\\lib\\site-packages\\sklearn\\utils\\validation.py:386: DeprecationWarning: Passing 1d arrays as data is deprecated in 0.17 and willraise ValueError in 0.19. Reshape your data either using X.reshape(-1, 1) if your data has a single feature or X.reshape(1, -1) if it contains a single sample.\n",
      "  DeprecationWarning)\n",
      "C:\\Anaconda2\\lib\\site-packages\\sklearn\\utils\\validation.py:386: DeprecationWarning: Passing 1d arrays as data is deprecated in 0.17 and willraise ValueError in 0.19. Reshape your data either using X.reshape(-1, 1) if your data has a single feature or X.reshape(1, -1) if it contains a single sample.\n",
      "  DeprecationWarning)\n",
      "C:\\Anaconda2\\lib\\site-packages\\sklearn\\utils\\validation.py:386: DeprecationWarning: Passing 1d arrays as data is deprecated in 0.17 and willraise ValueError in 0.19. Reshape your data either using X.reshape(-1, 1) if your data has a single feature or X.reshape(1, -1) if it contains a single sample.\n",
      "  DeprecationWarning)\n",
      "C:\\Anaconda2\\lib\\site-packages\\sklearn\\utils\\validation.py:386: DeprecationWarning: Passing 1d arrays as data is deprecated in 0.17 and willraise ValueError in 0.19. Reshape your data either using X.reshape(-1, 1) if your data has a single feature or X.reshape(1, -1) if it contains a single sample.\n",
      "  DeprecationWarning)\n",
      "C:\\Anaconda2\\lib\\site-packages\\sklearn\\utils\\validation.py:386: DeprecationWarning: Passing 1d arrays as data is deprecated in 0.17 and willraise ValueError in 0.19. Reshape your data either using X.reshape(-1, 1) if your data has a single feature or X.reshape(1, -1) if it contains a single sample.\n",
      "  DeprecationWarning)\n",
      "C:\\Anaconda2\\lib\\site-packages\\sklearn\\utils\\validation.py:386: DeprecationWarning: Passing 1d arrays as data is deprecated in 0.17 and willraise ValueError in 0.19. Reshape your data either using X.reshape(-1, 1) if your data has a single feature or X.reshape(1, -1) if it contains a single sample.\n",
      "  DeprecationWarning)\n",
      "C:\\Anaconda2\\lib\\site-packages\\sklearn\\utils\\validation.py:386: DeprecationWarning: Passing 1d arrays as data is deprecated in 0.17 and willraise ValueError in 0.19. Reshape your data either using X.reshape(-1, 1) if your data has a single feature or X.reshape(1, -1) if it contains a single sample.\n",
      "  DeprecationWarning)\n",
      "C:\\Anaconda2\\lib\\site-packages\\sklearn\\utils\\validation.py:386: DeprecationWarning: Passing 1d arrays as data is deprecated in 0.17 and willraise ValueError in 0.19. Reshape your data either using X.reshape(-1, 1) if your data has a single feature or X.reshape(1, -1) if it contains a single sample.\n",
      "  DeprecationWarning)\n",
      "C:\\Anaconda2\\lib\\site-packages\\sklearn\\utils\\validation.py:386: DeprecationWarning: Passing 1d arrays as data is deprecated in 0.17 and willraise ValueError in 0.19. Reshape your data either using X.reshape(-1, 1) if your data has a single feature or X.reshape(1, -1) if it contains a single sample.\n",
      "  DeprecationWarning)\n",
      "C:\\Anaconda2\\lib\\site-packages\\sklearn\\utils\\validation.py:386: DeprecationWarning: Passing 1d arrays as data is deprecated in 0.17 and willraise ValueError in 0.19. Reshape your data either using X.reshape(-1, 1) if your data has a single feature or X.reshape(1, -1) if it contains a single sample.\n",
      "  DeprecationWarning)\n",
      "C:\\Anaconda2\\lib\\site-packages\\sklearn\\utils\\validation.py:386: DeprecationWarning: Passing 1d arrays as data is deprecated in 0.17 and willraise ValueError in 0.19. Reshape your data either using X.reshape(-1, 1) if your data has a single feature or X.reshape(1, -1) if it contains a single sample.\n",
      "  DeprecationWarning)\n",
      "C:\\Anaconda2\\lib\\site-packages\\sklearn\\utils\\validation.py:386: DeprecationWarning: Passing 1d arrays as data is deprecated in 0.17 and willraise ValueError in 0.19. Reshape your data either using X.reshape(-1, 1) if your data has a single feature or X.reshape(1, -1) if it contains a single sample.\n",
      "  DeprecationWarning)\n",
      "C:\\Anaconda2\\lib\\site-packages\\sklearn\\utils\\validation.py:386: DeprecationWarning: Passing 1d arrays as data is deprecated in 0.17 and willraise ValueError in 0.19. Reshape your data either using X.reshape(-1, 1) if your data has a single feature or X.reshape(1, -1) if it contains a single sample.\n",
      "  DeprecationWarning)\n",
      "C:\\Anaconda2\\lib\\site-packages\\sklearn\\utils\\validation.py:386: DeprecationWarning: Passing 1d arrays as data is deprecated in 0.17 and willraise ValueError in 0.19. Reshape your data either using X.reshape(-1, 1) if your data has a single feature or X.reshape(1, -1) if it contains a single sample.\n",
      "  DeprecationWarning)\n",
      "C:\\Anaconda2\\lib\\site-packages\\sklearn\\utils\\validation.py:386: DeprecationWarning: Passing 1d arrays as data is deprecated in 0.17 and willraise ValueError in 0.19. Reshape your data either using X.reshape(-1, 1) if your data has a single feature or X.reshape(1, -1) if it contains a single sample.\n",
      "  DeprecationWarning)\n",
      "C:\\Anaconda2\\lib\\site-packages\\sklearn\\utils\\validation.py:386: DeprecationWarning: Passing 1d arrays as data is deprecated in 0.17 and willraise ValueError in 0.19. Reshape your data either using X.reshape(-1, 1) if your data has a single feature or X.reshape(1, -1) if it contains a single sample.\n",
      "  DeprecationWarning)\n",
      "C:\\Anaconda2\\lib\\site-packages\\sklearn\\utils\\validation.py:386: DeprecationWarning: Passing 1d arrays as data is deprecated in 0.17 and willraise ValueError in 0.19. Reshape your data either using X.reshape(-1, 1) if your data has a single feature or X.reshape(1, -1) if it contains a single sample.\n",
      "  DeprecationWarning)\n",
      "C:\\Anaconda2\\lib\\site-packages\\sklearn\\utils\\validation.py:386: DeprecationWarning: Passing 1d arrays as data is deprecated in 0.17 and willraise ValueError in 0.19. Reshape your data either using X.reshape(-1, 1) if your data has a single feature or X.reshape(1, -1) if it contains a single sample.\n",
      "  DeprecationWarning)\n",
      "C:\\Anaconda2\\lib\\site-packages\\sklearn\\utils\\validation.py:386: DeprecationWarning: Passing 1d arrays as data is deprecated in 0.17 and willraise ValueError in 0.19. Reshape your data either using X.reshape(-1, 1) if your data has a single feature or X.reshape(1, -1) if it contains a single sample.\n",
      "  DeprecationWarning)\n",
      "C:\\Anaconda2\\lib\\site-packages\\sklearn\\utils\\validation.py:386: DeprecationWarning: Passing 1d arrays as data is deprecated in 0.17 and willraise ValueError in 0.19. Reshape your data either using X.reshape(-1, 1) if your data has a single feature or X.reshape(1, -1) if it contains a single sample.\n",
      "  DeprecationWarning)\n",
      "C:\\Anaconda2\\lib\\site-packages\\sklearn\\utils\\validation.py:386: DeprecationWarning: Passing 1d arrays as data is deprecated in 0.17 and willraise ValueError in 0.19. Reshape your data either using X.reshape(-1, 1) if your data has a single feature or X.reshape(1, -1) if it contains a single sample.\n",
      "  DeprecationWarning)\n",
      "C:\\Anaconda2\\lib\\site-packages\\sklearn\\utils\\validation.py:386: DeprecationWarning: Passing 1d arrays as data is deprecated in 0.17 and willraise ValueError in 0.19. Reshape your data either using X.reshape(-1, 1) if your data has a single feature or X.reshape(1, -1) if it contains a single sample.\n",
      "  DeprecationWarning)\n",
      "C:\\Anaconda2\\lib\\site-packages\\sklearn\\utils\\validation.py:386: DeprecationWarning: Passing 1d arrays as data is deprecated in 0.17 and willraise ValueError in 0.19. Reshape your data either using X.reshape(-1, 1) if your data has a single feature or X.reshape(1, -1) if it contains a single sample.\n",
      "  DeprecationWarning)\n",
      "C:\\Anaconda2\\lib\\site-packages\\sklearn\\utils\\validation.py:386: DeprecationWarning: Passing 1d arrays as data is deprecated in 0.17 and willraise ValueError in 0.19. Reshape your data either using X.reshape(-1, 1) if your data has a single feature or X.reshape(1, -1) if it contains a single sample.\n",
      "  DeprecationWarning)\n",
      "C:\\Anaconda2\\lib\\site-packages\\sklearn\\utils\\validation.py:386: DeprecationWarning: Passing 1d arrays as data is deprecated in 0.17 and willraise ValueError in 0.19. Reshape your data either using X.reshape(-1, 1) if your data has a single feature or X.reshape(1, -1) if it contains a single sample.\n",
      "  DeprecationWarning)\n",
      "C:\\Anaconda2\\lib\\site-packages\\sklearn\\utils\\validation.py:386: DeprecationWarning: Passing 1d arrays as data is deprecated in 0.17 and willraise ValueError in 0.19. Reshape your data either using X.reshape(-1, 1) if your data has a single feature or X.reshape(1, -1) if it contains a single sample.\n",
      "  DeprecationWarning)\n",
      "C:\\Anaconda2\\lib\\site-packages\\sklearn\\utils\\validation.py:386: DeprecationWarning: Passing 1d arrays as data is deprecated in 0.17 and willraise ValueError in 0.19. Reshape your data either using X.reshape(-1, 1) if your data has a single feature or X.reshape(1, -1) if it contains a single sample.\n",
      "  DeprecationWarning)\n",
      "C:\\Anaconda2\\lib\\site-packages\\sklearn\\utils\\validation.py:386: DeprecationWarning: Passing 1d arrays as data is deprecated in 0.17 and willraise ValueError in 0.19. Reshape your data either using X.reshape(-1, 1) if your data has a single feature or X.reshape(1, -1) if it contains a single sample.\n",
      "  DeprecationWarning)\n",
      "C:\\Anaconda2\\lib\\site-packages\\sklearn\\utils\\validation.py:386: DeprecationWarning: Passing 1d arrays as data is deprecated in 0.17 and willraise ValueError in 0.19. Reshape your data either using X.reshape(-1, 1) if your data has a single feature or X.reshape(1, -1) if it contains a single sample.\n",
      "  DeprecationWarning)\n",
      "C:\\Anaconda2\\lib\\site-packages\\sklearn\\utils\\validation.py:386: DeprecationWarning: Passing 1d arrays as data is deprecated in 0.17 and willraise ValueError in 0.19. Reshape your data either using X.reshape(-1, 1) if your data has a single feature or X.reshape(1, -1) if it contains a single sample.\n",
      "  DeprecationWarning)\n",
      "C:\\Anaconda2\\lib\\site-packages\\sklearn\\utils\\validation.py:386: DeprecationWarning: Passing 1d arrays as data is deprecated in 0.17 and willraise ValueError in 0.19. Reshape your data either using X.reshape(-1, 1) if your data has a single feature or X.reshape(1, -1) if it contains a single sample.\n",
      "  DeprecationWarning)\n",
      "C:\\Anaconda2\\lib\\site-packages\\sklearn\\utils\\validation.py:386: DeprecationWarning: Passing 1d arrays as data is deprecated in 0.17 and willraise ValueError in 0.19. Reshape your data either using X.reshape(-1, 1) if your data has a single feature or X.reshape(1, -1) if it contains a single sample.\n",
      "  DeprecationWarning)\n",
      "C:\\Anaconda2\\lib\\site-packages\\sklearn\\utils\\validation.py:386: DeprecationWarning: Passing 1d arrays as data is deprecated in 0.17 and willraise ValueError in 0.19. Reshape your data either using X.reshape(-1, 1) if your data has a single feature or X.reshape(1, -1) if it contains a single sample.\n",
      "  DeprecationWarning)\n",
      "C:\\Anaconda2\\lib\\site-packages\\sklearn\\utils\\validation.py:386: DeprecationWarning: Passing 1d arrays as data is deprecated in 0.17 and willraise ValueError in 0.19. Reshape your data either using X.reshape(-1, 1) if your data has a single feature or X.reshape(1, -1) if it contains a single sample.\n",
      "  DeprecationWarning)\n",
      "C:\\Anaconda2\\lib\\site-packages\\sklearn\\utils\\validation.py:386: DeprecationWarning: Passing 1d arrays as data is deprecated in 0.17 and willraise ValueError in 0.19. Reshape your data either using X.reshape(-1, 1) if your data has a single feature or X.reshape(1, -1) if it contains a single sample.\n",
      "  DeprecationWarning)\n",
      "C:\\Anaconda2\\lib\\site-packages\\sklearn\\utils\\validation.py:386: DeprecationWarning: Passing 1d arrays as data is deprecated in 0.17 and willraise ValueError in 0.19. Reshape your data either using X.reshape(-1, 1) if your data has a single feature or X.reshape(1, -1) if it contains a single sample.\n",
      "  DeprecationWarning)\n",
      "C:\\Anaconda2\\lib\\site-packages\\sklearn\\utils\\validation.py:386: DeprecationWarning: Passing 1d arrays as data is deprecated in 0.17 and willraise ValueError in 0.19. Reshape your data either using X.reshape(-1, 1) if your data has a single feature or X.reshape(1, -1) if it contains a single sample.\n",
      "  DeprecationWarning)\n",
      "C:\\Anaconda2\\lib\\site-packages\\sklearn\\utils\\validation.py:386: DeprecationWarning: Passing 1d arrays as data is deprecated in 0.17 and willraise ValueError in 0.19. Reshape your data either using X.reshape(-1, 1) if your data has a single feature or X.reshape(1, -1) if it contains a single sample.\n",
      "  DeprecationWarning)\n",
      "C:\\Anaconda2\\lib\\site-packages\\sklearn\\utils\\validation.py:386: DeprecationWarning: Passing 1d arrays as data is deprecated in 0.17 and willraise ValueError in 0.19. Reshape your data either using X.reshape(-1, 1) if your data has a single feature or X.reshape(1, -1) if it contains a single sample.\n",
      "  DeprecationWarning)\n",
      "C:\\Anaconda2\\lib\\site-packages\\sklearn\\utils\\validation.py:386: DeprecationWarning: Passing 1d arrays as data is deprecated in 0.17 and willraise ValueError in 0.19. Reshape your data either using X.reshape(-1, 1) if your data has a single feature or X.reshape(1, -1) if it contains a single sample.\n",
      "  DeprecationWarning)\n",
      "C:\\Anaconda2\\lib\\site-packages\\sklearn\\utils\\validation.py:386: DeprecationWarning: Passing 1d arrays as data is deprecated in 0.17 and willraise ValueError in 0.19. Reshape your data either using X.reshape(-1, 1) if your data has a single feature or X.reshape(1, -1) if it contains a single sample.\n",
      "  DeprecationWarning)\n",
      "C:\\Anaconda2\\lib\\site-packages\\sklearn\\utils\\validation.py:386: DeprecationWarning: Passing 1d arrays as data is deprecated in 0.17 and willraise ValueError in 0.19. Reshape your data either using X.reshape(-1, 1) if your data has a single feature or X.reshape(1, -1) if it contains a single sample.\n",
      "  DeprecationWarning)\n",
      "C:\\Anaconda2\\lib\\site-packages\\sklearn\\utils\\validation.py:386: DeprecationWarning: Passing 1d arrays as data is deprecated in 0.17 and willraise ValueError in 0.19. Reshape your data either using X.reshape(-1, 1) if your data has a single feature or X.reshape(1, -1) if it contains a single sample.\n",
      "  DeprecationWarning)\n",
      "C:\\Anaconda2\\lib\\site-packages\\sklearn\\utils\\validation.py:386: DeprecationWarning: Passing 1d arrays as data is deprecated in 0.17 and willraise ValueError in 0.19. Reshape your data either using X.reshape(-1, 1) if your data has a single feature or X.reshape(1, -1) if it contains a single sample.\n",
      "  DeprecationWarning)\n",
      "C:\\Anaconda2\\lib\\site-packages\\sklearn\\utils\\validation.py:386: DeprecationWarning: Passing 1d arrays as data is deprecated in 0.17 and willraise ValueError in 0.19. Reshape your data either using X.reshape(-1, 1) if your data has a single feature or X.reshape(1, -1) if it contains a single sample.\n",
      "  DeprecationWarning)\n",
      "C:\\Anaconda2\\lib\\site-packages\\sklearn\\utils\\validation.py:386: DeprecationWarning: Passing 1d arrays as data is deprecated in 0.17 and willraise ValueError in 0.19. Reshape your data either using X.reshape(-1, 1) if your data has a single feature or X.reshape(1, -1) if it contains a single sample.\n",
      "  DeprecationWarning)\n",
      "C:\\Anaconda2\\lib\\site-packages\\sklearn\\utils\\validation.py:386: DeprecationWarning: Passing 1d arrays as data is deprecated in 0.17 and willraise ValueError in 0.19. Reshape your data either using X.reshape(-1, 1) if your data has a single feature or X.reshape(1, -1) if it contains a single sample.\n",
      "  DeprecationWarning)\n",
      "C:\\Anaconda2\\lib\\site-packages\\sklearn\\utils\\validation.py:386: DeprecationWarning: Passing 1d arrays as data is deprecated in 0.17 and willraise ValueError in 0.19. Reshape your data either using X.reshape(-1, 1) if your data has a single feature or X.reshape(1, -1) if it contains a single sample.\n",
      "  DeprecationWarning)\n",
      "C:\\Anaconda2\\lib\\site-packages\\sklearn\\utils\\validation.py:386: DeprecationWarning: Passing 1d arrays as data is deprecated in 0.17 and willraise ValueError in 0.19. Reshape your data either using X.reshape(-1, 1) if your data has a single feature or X.reshape(1, -1) if it contains a single sample.\n",
      "  DeprecationWarning)\n",
      "C:\\Anaconda2\\lib\\site-packages\\sklearn\\utils\\validation.py:386: DeprecationWarning: Passing 1d arrays as data is deprecated in 0.17 and willraise ValueError in 0.19. Reshape your data either using X.reshape(-1, 1) if your data has a single feature or X.reshape(1, -1) if it contains a single sample.\n",
      "  DeprecationWarning)\n",
      "C:\\Anaconda2\\lib\\site-packages\\sklearn\\utils\\validation.py:386: DeprecationWarning: Passing 1d arrays as data is deprecated in 0.17 and willraise ValueError in 0.19. Reshape your data either using X.reshape(-1, 1) if your data has a single feature or X.reshape(1, -1) if it contains a single sample.\n",
      "  DeprecationWarning)\n",
      "C:\\Anaconda2\\lib\\site-packages\\sklearn\\utils\\validation.py:386: DeprecationWarning: Passing 1d arrays as data is deprecated in 0.17 and willraise ValueError in 0.19. Reshape your data either using X.reshape(-1, 1) if your data has a single feature or X.reshape(1, -1) if it contains a single sample.\n",
      "  DeprecationWarning)\n",
      "C:\\Anaconda2\\lib\\site-packages\\sklearn\\utils\\validation.py:386: DeprecationWarning: Passing 1d arrays as data is deprecated in 0.17 and willraise ValueError in 0.19. Reshape your data either using X.reshape(-1, 1) if your data has a single feature or X.reshape(1, -1) if it contains a single sample.\n",
      "  DeprecationWarning)\n",
      "C:\\Anaconda2\\lib\\site-packages\\sklearn\\utils\\validation.py:386: DeprecationWarning: Passing 1d arrays as data is deprecated in 0.17 and willraise ValueError in 0.19. Reshape your data either using X.reshape(-1, 1) if your data has a single feature or X.reshape(1, -1) if it contains a single sample.\n",
      "  DeprecationWarning)\n",
      "C:\\Anaconda2\\lib\\site-packages\\sklearn\\utils\\validation.py:386: DeprecationWarning: Passing 1d arrays as data is deprecated in 0.17 and willraise ValueError in 0.19. Reshape your data either using X.reshape(-1, 1) if your data has a single feature or X.reshape(1, -1) if it contains a single sample.\n",
      "  DeprecationWarning)\n",
      "C:\\Anaconda2\\lib\\site-packages\\sklearn\\utils\\validation.py:386: DeprecationWarning: Passing 1d arrays as data is deprecated in 0.17 and willraise ValueError in 0.19. Reshape your data either using X.reshape(-1, 1) if your data has a single feature or X.reshape(1, -1) if it contains a single sample.\n",
      "  DeprecationWarning)\n",
      "C:\\Anaconda2\\lib\\site-packages\\sklearn\\utils\\validation.py:386: DeprecationWarning: Passing 1d arrays as data is deprecated in 0.17 and willraise ValueError in 0.19. Reshape your data either using X.reshape(-1, 1) if your data has a single feature or X.reshape(1, -1) if it contains a single sample.\n",
      "  DeprecationWarning)\n"
     ]
    }
   ],
   "source": [
    "from sklearn.feature_extraction.text import CountVectorizer, TfidfVectorizer\n",
    "from sklearn.metrics.pairwise import euclidean_distances, cosine_similarity\n",
    "lines = [ \"Human machine interface for lab abc computer applications\",\n",
    "             \"A survey of user opinion of computer system response time\",\n",
    "             \"The EPS user interface management system\",\n",
    "             \"System and human system engineering testing of EPS\",\n",
    "             \"Relation of user perceived response time to error measurement\",\n",
    "             \"The generation of random binary unordered trees\",\n",
    "             \"The intersection graph of paths in trees\",\n",
    "             \"Graph minors IV Widths of trees and well quasi ordering\",\n",
    "             \"Graph minors A survey\"]\n",
    "\n",
    "v = TfidfVectorizer(binary=False, use_idf = False)\n",
    "\n",
    "# fit a vector model to text lines\n",
    "v_m = v.fit_transform(lines)                          \n",
    "\n",
    "# convert the vector model to an array for ease of looping below\n",
    "#    the index of the 'lines' list above will refer to to the vector values of the same line\n",
    "#    so the vector for line[x] will be in v_m_array[x]\n",
    "v_m_array = v_m.toarray()\n",
    "\n",
    "# establish save area for most similar lines\n",
    "cos_most_sim_lines = [-999,0,0]\n",
    "euc_most_sim_lines = [999,0,0]\n",
    "    # value 1 = similarity value\n",
    "    # value 2 = line index\n",
    "    # value 3 = compared line index\n",
    "\n",
    "# this code will compare both line1 to line2 and line2 to line1 which in both cases yields the same \n",
    "# so to minimize coding this is okay\n",
    "for i in range(len(v_m_array)):\n",
    "    print 'primary: ', lines[i]\n",
    "    for j in range(len(v_m_array)):\n",
    "        if j != i:      # don't compare a document to itself, skip if so\n",
    "            c = cosine_similarity(v_m_array[i], v_m_array[j])\n",
    "            e = euclidean_distances(v_m_array[i], v_m_array[j])\n",
    "            print '   compare: ', lines[j], ' cos:', c , ' euc:', e\n",
    "            if c > cos_most_sim_lines[0]:\n",
    "                cos_most_sim_lines[0] = c   # save most similar\n",
    "                cos_most_sim_lines[1] = i   # line index\n",
    "                cos_most_sim_lines[2] = j   # 2nd line index\n",
    "            if e < euc_most_sim_lines[0]:\n",
    "                euc_most_sim_lines[0] = e   # retain most similar\n",
    "                euc_most_sim_lines[1] = i   # line index\n",
    "                euc_most_sim_lines[2] = j   # 2nd line index\n",
    "\n",
    "print '\\nMost similar lines with cosine similarity of: ', cos_most_sim_lines[0]\n",
    "print '=>', lines[cos_most_sim_lines[1]]\n",
    "print '=>', lines[cos_most_sim_lines[2]]\n",
    "\n",
    "print '\\nMost similar lines with euclidean distance of: ', euc_most_sim_lines[0]\n",
    "print '=>', lines[euc_most_sim_lines[1]]\n",
    "print '=>', lines[euc_most_sim_lines[2]]"
   ]
  },
  {
   "cell_type": "markdown",
   "metadata": {},
   "source": [
    "### Q1. How could this be useful for the data you are using? What comparison(s) would be meaningful?  What processing choices would/did you make? (20 points)\n",
    "\n",
    "Finding the Cosign Similarity and Euclidean distance, could help us to identify the similar comments. Further it we could find some patter in the similar taste also, but needs extensive research with huge number of comments. \n",
    "Using these vector space matches, we could compart the tone of speech, we could relate their interests, their dining preference, we could also relate their preferred choices in food with uses of extensive research."
   ]
  },
  {
   "cell_type": "markdown",
   "metadata": {},
   "source": [
    "### K-means clustering; running with 3 clusters"
   ]
  },
  {
   "cell_type": "markdown",
   "metadata": {},
   "source": [
    "### T2. Perform K-means clustering on your dataset.  Store the cluster assignments in the dataframe."
   ]
  },
  {
   "cell_type": "code",
   "execution_count": 16,
   "metadata": {
    "collapsed": false
   },
   "outputs": [
    {
     "name": "stdout",
     "output_type": "stream",
     "text": [
      "166\n",
      "1    304\n",
      "0     85\n",
      "2      3\n",
      "Name: clusters, dtype: int64\n"
     ]
    }
   ],
   "source": [
    "from sklearn.cluster import KMeans\n",
    "cv_drive = cvdrive.fit_transform(reviewdf['cleantext'])\n",
    "print len(cvdrive.get_feature_names())\n",
    "\n",
    "review_dm = cv_drive.toarray()\n",
    "My_k = 3\n",
    "km = KMeans(n_clusters=My_k, init='k-means++', max_iter=100, random_state = 50)\n",
    "review_k = km.fit(review_dm)\n",
    "clusters = km.labels_.tolist()\n",
    "reviewdf['clusters'] = clusters\n",
    "print reviewdf['clusters'].value_counts()"
   ]
  },
  {
   "cell_type": "markdown",
   "metadata": {},
   "source": [
    "### Clusters in a dataframe"
   ]
  },
  {
   "cell_type": "code",
   "execution_count": 17,
   "metadata": {
    "collapsed": false
   },
   "outputs": [
    {
     "data": {
      "text/html": [
       "<div>\n",
       "<table border=\"1\" class=\"dataframe\">\n",
       "  <thead>\n",
       "    <tr style=\"text-align: right;\">\n",
       "      <th></th>\n",
       "      <th>comment</th>\n",
       "      <th>date</th>\n",
       "      <th>cleantext</th>\n",
       "      <th>clusters</th>\n",
       "    </tr>\n",
       "  </thead>\n",
       "  <tbody>\n",
       "    <tr>\n",
       "      <th>10</th>\n",
       "      <td>We had booked table half day in advance but were placed in an freezing cold  corner. We refused to give tips, which made waiter very irritating. Sad sad, since lobster and shrimps were fresh and well prepared.</td>\n",
       "      <td>7/5/2016</td>\n",
       "      <td>we had booked table half day in advance but were placed in an freezing cold  corner. we refused to give tips, which made waiter very irritating. sad sad, since lobster and shrimps were fresh and well prepared.</td>\n",
       "      <td>1</td>\n",
       "    </tr>\n",
       "  </tbody>\n",
       "</table>\n",
       "</div>"
      ],
      "text/plain": [
       "                                                                                                                                                                                                              comment  \\\n",
       "10  We had booked table half day in advance but were placed in an freezing cold  corner. We refused to give tips, which made waiter very irritating. Sad sad, since lobster and shrimps were fresh and well prepared.   \n",
       "\n",
       "        date  \\\n",
       "10  7/5/2016   \n",
       "\n",
       "                                                                                                                                                                                                            cleantext  \\\n",
       "10  we had booked table half day in advance but were placed in an freezing cold  corner. we refused to give tips, which made waiter very irritating. sad sad, since lobster and shrimps were fresh and well prepared.   \n",
       "\n",
       "    clusters  \n",
       "10         1  "
      ]
     },
     "execution_count": 17,
     "metadata": {},
     "output_type": "execute_result"
    }
   ],
   "source": [
    "reviewdf[10:11]"
   ]
  },
  {
   "cell_type": "markdown",
   "metadata": {},
   "source": [
    "### Finding the number of clusters using elbow method"
   ]
  },
  {
   "cell_type": "code",
   "execution_count": 18,
   "metadata": {
    "collapsed": false
   },
   "outputs": [],
   "source": [
    "#how many clusters? this takes some time\n",
    "\n",
    "# finding an optimal value for k\n",
    "k_range = range(1,10)\n",
    "k_means_set = [KMeans(n_clusters=k,init='k-means++', max_iter=100, random_state = 50).fit(review_dm) for k in k_range]\n",
    "centroids_list = [km_result.cluster_centers_ for km_result in k_means_set]\n",
    "#print k_means_set\n",
    "#print centroids_list"
   ]
  },
  {
   "cell_type": "code",
   "execution_count": 21,
   "metadata": {
    "collapsed": false
   },
   "outputs": [
    {
     "name": "stdout",
     "output_type": "stream",
     "text": [
      "[34.471877697550909, 33.186847223880747, 31.883340663757849, 30.966095370873447, 30.303146521405424, 29.442005916947302, 29.26849680030363, 28.530439932976631, 28.28421261368166]\n",
      "34.4718776976\n",
      "[  7.10542736e-15   1.28503047e+00   2.58853703e+00   3.50578233e+00\n",
      "   4.16873118e+00   5.02987178e+00   5.20338090e+00   5.94143776e+00\n",
      "   6.18766508e+00]\n"
     ]
    }
   ],
   "source": [
    "# calc euclidean dist from each point to each cluster center\n",
    "from scipy.spatial.distance import cdist, pdist\n",
    "\n",
    "k_euclid = [cdist(review_dm, thing, 'euclidean') for thing in centroids_list]\n",
    "distance_set = [np.min(k_euc, axis=1) for k_euc in k_euclid]\n",
    "\n",
    "# total within-cluster sum of squares\n",
    "wcss = [np.sum(distance**2) for distance in distance_set]\n",
    "print wcss\n",
    "# total sum of squares\n",
    "tss  = np.sum(pdist(review_dm)**2) / review_dm.shape[0]\n",
    "print tss\n",
    "# between cluster sum of squares\n",
    "bss = tss - wcss\n",
    "print bss"
   ]
  },
  {
   "cell_type": "code",
   "execution_count": 25,
   "metadata": {
    "collapsed": false
   },
   "outputs": [
    {
     "data": {
      "text/plain": [
       "<matplotlib.text.Text at 0x1b100a20>"
      ]
     },
     "execution_count": 25,
     "metadata": {},
     "output_type": "execute_result"
    },
    {
     "data": {
      "image/png": "[encoded data removed]",
      "text/plain": [
       "<matplotlib.figure.Figure at 0x1ad520f0>"
      ]
     },
     "metadata": {},
     "output_type": "display_data"
    }
   ],
   "source": [
    "%matplotlib inline\n",
    "import matplotlib as mpl\n",
    "import matplotlib.pyplot as plt\n",
    "\n",
    "from mpl_toolkits.mplot3d import Axes3D\n",
    "from mpl_toolkits.mplot3d import proj3d\n",
    "\n",
    "fig = plt.figure()\n",
    "ax = fig.add_subplot(111)\n",
    "ax.plot(k_range, (bss/tss)*100, '^-')\n",
    "ax.set_ylim((0,40))\n",
    "plt.grid(True)\n",
    "plt.xlabel('K n_clusters')\n",
    "plt.ylabel('% Variance Explained')\n",
    "plt.title('% Var Explained vs K')"
   ]
  },
  {
   "cell_type": "markdown",
   "metadata": {},
   "source": [
    "### Also Using Principal Component to find the appropriate number of clusters"
   ]
  },
  {
   "cell_type": "code",
   "execution_count": 26,
   "metadata": {
    "collapsed": false
   },
   "outputs": [
    {
     "name": "stdout",
     "output_type": "stream",
     "text": [
      "Number of components: 1\n",
      "PCA Explained Variance Ratio: [ 0.04675011]\n",
      "PCA Total Variance Explained: 0.046750106897\n",
      "Number of components: 26\n",
      "PCA Explained Variance Ratio: [ 0.04675011  0.03703764  0.03270342  0.02738155  0.02542959  0.02395928\n",
      "  0.02261329  0.02230481  0.02066333  0.02033943  0.01872531  0.01819891\n",
      "  0.01665098  0.01644928  0.01577016  0.01529097  0.01516059  0.01482531\n",
      "  0.01340474  0.01321599  0.01241089  0.0122159   0.01207005  0.01171903\n",
      "  0.01151572  0.01117883]\n",
      "PCA Total Variance Explained: 0.507985105001\n",
      "Number of components: 51\n",
      "PCA Explained Variance Ratio: [ 0.04675011  0.03703764  0.03270342  0.02738155  0.02542959  0.02395928\n",
      "  0.02261329  0.02230481  0.02066333  0.02033943  0.01872531  0.01819891\n",
      "  0.01665098  0.01644928  0.01577016  0.01529097  0.01516059  0.01482531\n",
      "  0.01340474  0.01321599  0.01241089  0.0122159   0.01207005  0.01171903\n",
      "  0.01151572  0.01117883  0.01094398  0.01070349  0.0104815   0.01004899\n",
      "  0.00970754  0.00964073  0.00945509  0.00931543  0.00914906  0.00901957\n",
      "  0.00865789  0.0085113   0.0083532   0.00811803  0.00789489  0.00783469\n",
      "  0.00757949  0.00737811  0.00714318  0.00708021  0.00684734  0.00683276\n",
      "  0.00666147  0.00654242  0.00632236]\n",
      "PCA Total Variance Explained: 0.718207848756\n",
      "Number of components: 76\n",
      "PCA Explained Variance Ratio: [ 0.04675011  0.03703764  0.03270342  0.02738155  0.02542959  0.02395928\n",
      "  0.02261329  0.02230481  0.02066333  0.02033943  0.01872531  0.01819891\n",
      "  0.01665098  0.01644928  0.01577016  0.01529097  0.01516059  0.01482531\n",
      "  0.01340474  0.01321599  0.01241089  0.0122159   0.01207005  0.01171903\n",
      "  0.01151572  0.01117883  0.01094398  0.01070349  0.0104815   0.01004899\n",
      "  0.00970754  0.00964073  0.00945509  0.00931543  0.00914906  0.00901957\n",
      "  0.00865789  0.0085113   0.0083532   0.00811803  0.00789489  0.00783469\n",
      "  0.00757949  0.00737811  0.00714318  0.00708021  0.00684734  0.00683276\n",
      "  0.00666147  0.00654242  0.00632236  0.00623385  0.00610335  0.00604262\n",
      "  0.00578113  0.00574334  0.00565147  0.00541707  0.00538125  0.00527101\n",
      "  0.00518246  0.00516143  0.00500794  0.00493673  0.0047744   0.00465211\n",
      "  0.00452198  0.00448132  0.00442442  0.0043491   0.00429755  0.00423953\n",
      "  0.00411625  0.00403298  0.00391861  0.00383447]\n",
      "PCA Total Variance Explained: 0.841764214757\n",
      "Number of components: 101\n",
      "PCA Explained Variance Ratio: [ 0.04675011  0.03703764  0.03270342  0.02738155  0.02542959  0.02395928\n",
      "  0.02261329  0.02230481  0.02066333  0.02033943  0.01872531  0.01819891\n",
      "  0.01665098  0.01644928  0.01577016  0.01529097  0.01516059  0.01482531\n",
      "  0.01340474  0.01321599  0.01241089  0.0122159   0.01207005  0.01171903\n",
      "  0.01151572  0.01117883  0.01094398  0.01070349  0.0104815   0.01004899\n",
      "  0.00970754  0.00964073  0.00945509  0.00931543  0.00914906  0.00901957\n",
      "  0.00865789  0.0085113   0.0083532   0.00811803  0.00789489  0.00783469\n",
      "  0.00757949  0.00737811  0.00714318  0.00708021  0.00684734  0.00683276\n",
      "  0.00666147  0.00654242  0.00632236  0.00623385  0.00610335  0.00604262\n",
      "  0.00578113  0.00574334  0.00565147  0.00541707  0.00538125  0.00527101\n",
      "  0.00518246  0.00516143  0.00500794  0.00493673  0.0047744   0.00465211\n",
      "  0.00452198  0.00448132  0.00442442  0.0043491   0.00429755  0.00423953\n",
      "  0.00411625  0.00403298  0.00391861  0.00383447  0.00378356  0.00373927\n",
      "  0.00368574  0.00360963  0.0035911   0.00347     0.00344095  0.0033487\n",
      "  0.00328993  0.00327912  0.00316824  0.00313716  0.00311099  0.00301822\n",
      "  0.0029833   0.00288472  0.00286454  0.00280468  0.00273432  0.00272401\n",
      "  0.00262912  0.00261041  0.00256773  0.00248425  0.00247563]\n",
      "PCA Total Variance Explained: 0.919199527341\n",
      "Number of components: 126\n",
      "PCA Explained Variance Ratio: [ 0.04675011  0.03703764  0.03270342  0.02738155  0.02542959  0.02395928\n",
      "  0.02261329  0.02230481  0.02066333  0.02033943  0.01872531  0.01819891\n",
      "  0.01665098  0.01644928  0.01577016  0.01529097  0.01516059  0.01482531\n",
      "  0.01340474  0.01321599  0.01241089  0.0122159   0.01207005  0.01171903\n",
      "  0.01151572  0.01117883  0.01094398  0.01070349  0.0104815   0.01004899\n",
      "  0.00970754  0.00964073  0.00945509  0.00931543  0.00914906  0.00901957\n",
      "  0.00865789  0.0085113   0.0083532   0.00811803  0.00789489  0.00783469\n",
      "  0.00757949  0.00737811  0.00714318  0.00708021  0.00684734  0.00683276\n",
      "  0.00666147  0.00654242  0.00632236  0.00623385  0.00610335  0.00604262\n",
      "  0.00578113  0.00574334  0.00565147  0.00541707  0.00538125  0.00527101\n",
      "  0.00518246  0.00516143  0.00500794  0.00493673  0.0047744   0.00465211\n",
      "  0.00452198  0.00448132  0.00442442  0.0043491   0.00429755  0.00423953\n",
      "  0.00411625  0.00403298  0.00391861  0.00383447  0.00378356  0.00373927\n",
      "  0.00368574  0.00360963  0.0035911   0.00347     0.00344095  0.0033487\n",
      "  0.00328993  0.00327912  0.00316824  0.00313716  0.00311099  0.00301822\n",
      "  0.0029833   0.00288472  0.00286454  0.00280468  0.00273432  0.00272401\n",
      "  0.00262912  0.00261041  0.00256773  0.00248425  0.00247563  0.00239372\n",
      "  0.00232064  0.00228115  0.00226307  0.00218897  0.00216102  0.00211277\n",
      "  0.00207241  0.00203555  0.00199248  0.00192893  0.00188968  0.00184009\n",
      "  0.00181106  0.00176622  0.0017479   0.00170744  0.00167621  0.0016393\n",
      "  0.00160469  0.00159006  0.00154083  0.00151103  0.00145343  0.00142576]\n",
      "PCA Total Variance Explained: 0.966153946231\n",
      "Number of components: 151\n",
      "PCA Explained Variance Ratio: [ 0.04675011  0.03703764  0.03270342  0.02738155  0.02542959  0.02395928\n",
      "  0.02261329  0.02230481  0.02066333  0.02033943  0.01872531  0.01819891\n",
      "  0.01665098  0.01644928  0.01577016  0.01529097  0.01516059  0.01482531\n",
      "  0.01340474  0.01321599  0.01241089  0.0122159   0.01207005  0.01171903\n",
      "  0.01151572  0.01117883  0.01094398  0.01070349  0.0104815   0.01004899\n",
      "  0.00970754  0.00964073  0.00945509  0.00931543  0.00914906  0.00901957\n",
      "  0.00865789  0.0085113   0.0083532   0.00811803  0.00789489  0.00783469\n",
      "  0.00757949  0.00737811  0.00714318  0.00708021  0.00684734  0.00683276\n",
      "  0.00666147  0.00654242  0.00632236  0.00623385  0.00610335  0.00604262\n",
      "  0.00578113  0.00574334  0.00565147  0.00541707  0.00538125  0.00527101\n",
      "  0.00518246  0.00516143  0.00500794  0.00493673  0.0047744   0.00465211\n",
      "  0.00452198  0.00448132  0.00442442  0.0043491   0.00429755  0.00423953\n",
      "  0.00411625  0.00403298  0.00391861  0.00383447  0.00378356  0.00373927\n",
      "  0.00368574  0.00360963  0.0035911   0.00347     0.00344095  0.0033487\n",
      "  0.00328993  0.00327912  0.00316824  0.00313716  0.00311099  0.00301822\n",
      "  0.0029833   0.00288472  0.00286454  0.00280468  0.00273432  0.00272401\n",
      "  0.00262912  0.00261041  0.00256773  0.00248425  0.00247563  0.00239372\n",
      "  0.00232064  0.00228115  0.00226307  0.00218897  0.00216102  0.00211277\n",
      "  0.00207241  0.00203555  0.00199248  0.00192893  0.00188968  0.00184009\n",
      "  0.00181106  0.00176622  0.0017479   0.00170744  0.00167621  0.0016393\n",
      "  0.00160469  0.00159006  0.00154083  0.00151103  0.00145343  0.00142576\n",
      "  0.00137955  0.00136936  0.00136637  0.00134376  0.0012881   0.00124972\n",
      "  0.00121774  0.00120647  0.00117011  0.00113462  0.00110828  0.00105367\n",
      "  0.00103841  0.00101381  0.00097068  0.00096648  0.00094833  0.00093036\n",
      "  0.00090501  0.00086175  0.0008448   0.00082165  0.00080178  0.00074801\n",
      "  0.00072059]\n",
      "PCA Total Variance Explained: 0.992613361919\n",
      "--- 1.92000007629 seconds ---\n"
     ]
    }
   ],
   "source": [
    "from sklearn.decomposition import PCA, RandomizedPCA\n",
    "import time\n",
    "start_time = time.time()\n",
    "\n",
    "from sklearn.feature_extraction import text \n",
    "\n",
    "tfidf_review = TfidfVectorizer(binary=False, stop_words='english', use_idf = True, norm = 'l1', lowercase=True, \n",
    "                         max_df=0.95, min_df=0.05, ngram_range = (1,2)) \n",
    "\n",
    "\n",
    "# fit and transform text\n",
    "\n",
    "review_dm = tfidf_review.fit_transform(reviewdf['cleantext'])\n",
    "\n",
    "\n",
    "for i in range(1,len(tfidf_review.get_feature_names())-1, 25):\n",
    "\n",
    "    pca = PCA(n_components=i)\n",
    "\n",
    "\n",
    "    X_pca = pca.fit_transform(review_dm.toarray())\n",
    "\n",
    "\n",
    "    print \"Number of components: \" + str(i)\n",
    "    print 'PCA Explained Variance Ratio: '+ str(pca.explained_variance_ratio_)\n",
    "    print 'PCA Total Variance Explained: ' + str(sum(pca.explained_variance_ratio_))\n",
    "    #print X_pca\n",
    "\n",
    "print(\"--- %s seconds ---\" % (time.time() - start_time))"
   ]
  },
  {
   "cell_type": "markdown",
   "metadata": {},
   "source": [
    "### Randomize PCA"
   ]
  },
  {
   "cell_type": "code",
   "execution_count": 27,
   "metadata": {
    "collapsed": false
   },
   "outputs": [
    {
     "name": "stdout",
     "output_type": "stream",
     "text": [
      "Number of components: 1\n",
      "PCA Explained Variance Ratio: [ 0.04665921]\n",
      "PCA Total Variance Explained: 0.0466592134962\n",
      "Number of components: 26\n",
      "PCA Explained Variance Ratio: [ 0.04674982  0.03703676  0.03270045  0.02737823  0.02542005  0.02395121\n",
      "  0.02258178  0.02228886  0.02062437  0.02032087  0.01864497  0.01814526\n",
      "  0.01659527  0.0163397   0.01570053  0.01518366  0.01504501  0.0145782\n",
      "  0.01331132  0.01312098  0.01219931  0.01177677  0.01154576  0.01128628\n",
      "  0.01111343  0.01078359]\n",
      "PCA Total Variance Explained: 0.504422456322\n",
      "Number of components: 51\n",
      "PCA Explained Variance Ratio: [ 0.0467501   0.03703761  0.03270333  0.02738136  0.02542934  0.02395881\n",
      "  0.0226127   0.02230384  0.0206625   0.02033826  0.01872446  0.01819711\n",
      "  0.01664678  0.01644553  0.0157673   0.01528825  0.01515297  0.01482047\n",
      "  0.01339612  0.01320076  0.01238459  0.01220007  0.01205514  0.01169673\n",
      "  0.01149559  0.01115207  0.01092416  0.01067854  0.01045981  0.01000594\n",
      "  0.00962497  0.00959416  0.00942629  0.0092401   0.00901044  0.00893126\n",
      "  0.00854338  0.00842789  0.00828106  0.00803828  0.00779083  0.00771775\n",
      "  0.00751267  0.00712509  0.00687614  0.00686161  0.0065709   0.00654887\n",
      "  0.00635366  0.00618707  0.00588789]\n",
      "PCA Total Variance Explained: 0.71442058138\n",
      "Number of components: 76\n",
      "PCA Explained Variance Ratio: [ 0.04675011  0.03703764  0.03270342  0.02738153  0.02542958  0.02395927\n",
      "  0.02261327  0.02230479  0.02066331  0.0203394   0.0187252   0.01819887\n",
      "  0.01665081  0.01644916  0.01576951  0.01529084  0.01516043  0.01482488\n",
      "  0.01340436  0.01321524  0.0124102   0.01221506  0.0120687   0.01171591\n",
      "  0.01151448  0.01117664  0.01094342  0.01070223  0.01047922  0.01004655\n",
      "  0.00970201  0.00963894  0.00945342  0.00931059  0.0091475   0.00901709\n",
      "  0.00865282  0.00850779  0.00834878  0.0081124   0.00788157  0.0078305\n",
      "  0.00757027  0.00737069  0.00713009  0.00706561  0.00683524  0.00682265\n",
      "  0.00664574  0.00653577  0.00627964  0.00621199  0.00606746  0.00600567\n",
      "  0.00574086  0.00571116  0.00563248  0.00539153  0.00532911  0.00522876\n",
      "  0.00513903  0.00510014  0.00492304  0.00483535  0.00468937  0.00456713\n",
      "  0.00439913  0.00435933  0.00428789  0.00425757  0.00415992  0.00396508\n",
      "  0.00394921  0.00382689  0.00381218  0.00372043]\n",
      "PCA Total Variance Explained: 0.839313832576\n",
      "Number of components: 101\n",
      "PCA Explained Variance Ratio: [ 0.04675011  0.03703764  0.03270342  0.02738154  0.02542959  0.02395928\n",
      "  0.02261329  0.02230481  0.02066332  0.02033943  0.01872531  0.01819891\n",
      "  0.01665097  0.01644927  0.01577016  0.01529096  0.01516058  0.0148253\n",
      "  0.01340473  0.01321597  0.01241087  0.01221587  0.01207     0.011719\n",
      "  0.01151568  0.01117878  0.01094381  0.0107034   0.01048144  0.01004892\n",
      "  0.00970744  0.00964066  0.00945505  0.00931535  0.00914882  0.00901932\n",
      "  0.00865758  0.0085111   0.00835301  0.00811766  0.00789455  0.00783448\n",
      "  0.00757918  0.00737763  0.00714173  0.00707939  0.00684653  0.0068302\n",
      "  0.00666078  0.0065415   0.00632091  0.00623261  0.00610199  0.00604145\n",
      "  0.00577996  0.00574082  0.00564931  0.00541411  0.00537915  0.00526834\n",
      "  0.00517936  0.00516003  0.00500624  0.00493411  0.00476765  0.00464747\n",
      "  0.00450918  0.00447416  0.00441906  0.00433736  0.00428876  0.00422111\n",
      "  0.00411048  0.00401314  0.0039116   0.00382021  0.00377324  0.00372255\n",
      "  0.00366552  0.00359775  0.00356568  0.00344084  0.00339996  0.00328694\n",
      "  0.00327243  0.00325798  0.00314717  0.0031112   0.00307345  0.00298025\n",
      "  0.00288077  0.00284094  0.00278066  0.002745    0.00270055  0.00261463\n",
      "  0.00257489  0.00255867  0.00242894  0.0024151   0.00232153]\n",
      "PCA Total Variance Explained: 0.917759560757\n",
      "Number of components: 126\n",
      "PCA Explained Variance Ratio: [ 0.04675011  0.03703764  0.03270342  0.02738155  0.02542959  0.02395928\n",
      "  0.02261329  0.02230481  0.02066333  0.02033943  0.01872531  0.01819891\n",
      "  0.01665098  0.01644928  0.01577016  0.01529097  0.01516059  0.01482531\n",
      "  0.01340474  0.01321599  0.01241089  0.0122159   0.01207005  0.01171903\n",
      "  0.01151572  0.01117883  0.01094398  0.01070349  0.0104815   0.01004899\n",
      "  0.00970754  0.00964072  0.00945508  0.00931543  0.00914906  0.00901957\n",
      "  0.00865789  0.0085113   0.00835319  0.00811803  0.00789488  0.00783469\n",
      "  0.00757948  0.00737811  0.00714318  0.0070802   0.00684732  0.00683276\n",
      "  0.00666144  0.00654241  0.00632232  0.00623383  0.00610334  0.0060426\n",
      "  0.00578108  0.00574327  0.00565142  0.00541694  0.0053812   0.00527093\n",
      "  0.00518236  0.00516132  0.0050079   0.00493661  0.00477436  0.00465193\n",
      "  0.00452181  0.00448125  0.00442429  0.00434894  0.00429743  0.00423927\n",
      "  0.00411595  0.00403287  0.00391839  0.0038341   0.00378325  0.00373875\n",
      "  0.00368517  0.00360908  0.00359053  0.00346953  0.0034405   0.00334803\n",
      "  0.0032892   0.00327691  0.00316728  0.00313604  0.00311022  0.00301603\n",
      "  0.00298101  0.00288369  0.00286237  0.00280221  0.00273157  0.00272343\n",
      "  0.00262238  0.0026016   0.00256457  0.00247434  0.00246911  0.00238651\n",
      "  0.00230922  0.00227328  0.00225629  0.00217942  0.00215566  0.00210154\n",
      "  0.00205769  0.00202922  0.00198185  0.00191791  0.00187896  0.00183125\n",
      "  0.00178241  0.00174754  0.0017238   0.00165685  0.00163753  0.00161796\n",
      "  0.0015792   0.00156858  0.00149727  0.00147116  0.00140418  0.0013707 ]\n",
      "PCA Total Variance Explained: 0.965553792135\n",
      "Number of components: 151\n",
      "PCA Explained Variance Ratio: [ 0.04675011  0.03703764  0.03270342  0.02738155  0.02542959  0.02395928\n",
      "  0.02261329  0.02230481  0.02066333  0.02033943  0.01872531  0.01819891\n",
      "  0.01665098  0.01644928  0.01577016  0.01529097  0.01516059  0.01482531\n",
      "  0.01340474  0.01321599  0.01241089  0.0122159   0.01207005  0.01171903\n",
      "  0.01151572  0.01117883  0.01094398  0.01070349  0.0104815   0.01004899\n",
      "  0.00970754  0.00964073  0.00945509  0.00931543  0.00914906  0.00901957\n",
      "  0.00865789  0.0085113   0.0083532   0.00811803  0.00789489  0.00783469\n",
      "  0.00757949  0.00737811  0.00714318  0.00708021  0.00684734  0.00683276\n",
      "  0.00666147  0.00654242  0.00632236  0.00623385  0.00610335  0.00604262\n",
      "  0.00578113  0.00574334  0.00565147  0.00541707  0.00538125  0.00527101\n",
      "  0.00518246  0.00516143  0.00500794  0.00493673  0.0047744   0.00465211\n",
      "  0.00452198  0.00448132  0.00442442  0.0043491   0.00429754  0.00423953\n",
      "  0.00411625  0.00403298  0.00391861  0.00383447  0.00378356  0.00373927\n",
      "  0.00368574  0.00360962  0.0035911   0.00347     0.00344094  0.0033487\n",
      "  0.00328993  0.00327912  0.00316823  0.00313716  0.00311098  0.00301822\n",
      "  0.0029833   0.00288471  0.00286454  0.00280467  0.00273432  0.00272401\n",
      "  0.00262911  0.00261038  0.00256771  0.00248424  0.00247562  0.00239372\n",
      "  0.00232062  0.00228114  0.00226306  0.00218894  0.00216102  0.00211269\n",
      "  0.0020724   0.00203548  0.00199232  0.00192888  0.00188965  0.00184004\n",
      "  0.00181104  0.0017662   0.00174785  0.00170726  0.00167594  0.00163921\n",
      "  0.00160468  0.00158972  0.00154074  0.00151032  0.00145338  0.00142567\n",
      "  0.00137941  0.00136929  0.00136549  0.0013437   0.00128801  0.00124954\n",
      "  0.00121746  0.00120563  0.00116987  0.00113374  0.00110767  0.00105345\n",
      "  0.00103219  0.00101313  0.00096986  0.00096288  0.00094606  0.00092637\n",
      "  0.00090062  0.00086122  0.00084086  0.00081479  0.00079788  0.00074664\n",
      "  0.00071684]\n",
      "PCA Total Variance Explained: 0.992563998363\n",
      "--- 0.4359998703 seconds ---\n"
     ]
    }
   ],
   "source": [
    "start_time = time.time()\n",
    "for i in range(1,len(tfidf_review.get_feature_names())-1, 25):\n",
    "\n",
    "    rpca = RandomizedPCA(n_components=i)\n",
    "    X_rpca = rpca.fit_transform(review_dm.toarray())\n",
    "    print \"Number of components: \" + str(i)\n",
    "    print 'PCA Explained Variance Ratio: '+ str(rpca.explained_variance_ratio_)\n",
    "    print 'PCA Total Variance Explained: ' + str(sum(rpca.explained_variance_ratio_))\n",
    "    # print type(X_rpca)\n",
    "    \n",
    "print(\"--- %s seconds ---\" % (time.time() - start_time))"
   ]
  },
  {
   "cell_type": "markdown",
   "metadata": {},
   "source": [
    "### Using top 75 componets, which almost explains 84% of variation in the data "
   ]
  },
  {
   "cell_type": "code",
   "execution_count": 28,
   "metadata": {
    "collapsed": false
   },
   "outputs": [],
   "source": [
    "\n",
    "\n",
    "rpca = RandomizedPCA(n_components=75)\n",
    "X_rpca = rpca.fit_transform(review_dm.toarray())\n",
    "rindex = range(0, 75)\n",
    "\n",
    "rcompframe = pd.DataFrame(rpca.components_,index = rindex, columns = tfidf_review.get_feature_names())"
   ]
  },
  {
   "cell_type": "code",
   "execution_count": 29,
   "metadata": {
    "collapsed": false
   },
   "outputs": [
    {
     "data": {
      "text/html": [
       "<div>\n",
       "<table border=\"1\" class=\"dataframe\">\n",
       "  <thead>\n",
       "    <tr style=\"text-align: right;\">\n",
       "      <th></th>\n",
       "      <th>actually</th>\n",
       "      <th>amazing</th>\n",
       "      <th>area</th>\n",
       "      <th>ask</th>\n",
       "      <th>asked</th>\n",
       "      <th>ate</th>\n",
       "      <th>away</th>\n",
       "      <th>awesome</th>\n",
       "      <th>bad</th>\n",
       "      <th>bar</th>\n",
       "      <th>...</th>\n",
       "      <th>waiting</th>\n",
       "      <th>waitress</th>\n",
       "      <th>want</th>\n",
       "      <th>wanted</th>\n",
       "      <th>wasn</th>\n",
       "      <th>way</th>\n",
       "      <th>went</th>\n",
       "      <th>work</th>\n",
       "      <th>worth</th>\n",
       "      <th>yes</th>\n",
       "    </tr>\n",
       "  </thead>\n",
       "  <tbody>\n",
       "    <tr>\n",
       "      <th>0</th>\n",
       "      <td>0.005307</td>\n",
       "      <td>-0.040629</td>\n",
       "      <td>-0.007794</td>\n",
       "      <td>-0.004775</td>\n",
       "      <td>0.001808</td>\n",
       "      <td>-0.014527</td>\n",
       "      <td>0.004963</td>\n",
       "      <td>0.006526</td>\n",
       "      <td>0.012544</td>\n",
       "      <td>-0.002154</td>\n",
       "      <td>...</td>\n",
       "      <td>-0.012248</td>\n",
       "      <td>-0.085507</td>\n",
       "      <td>0.016286</td>\n",
       "      <td>0.005319</td>\n",
       "      <td>-0.012512</td>\n",
       "      <td>-0.011748</td>\n",
       "      <td>-0.007364</td>\n",
       "      <td>-0.001560</td>\n",
       "      <td>-0.020270</td>\n",
       "      <td>0.000752</td>\n",
       "    </tr>\n",
       "    <tr>\n",
       "      <th>1</th>\n",
       "      <td>-0.018884</td>\n",
       "      <td>0.009926</td>\n",
       "      <td>-0.019751</td>\n",
       "      <td>-0.051443</td>\n",
       "      <td>-0.010270</td>\n",
       "      <td>0.019852</td>\n",
       "      <td>-0.007131</td>\n",
       "      <td>0.054634</td>\n",
       "      <td>-0.036295</td>\n",
       "      <td>-0.039289</td>\n",
       "      <td>...</td>\n",
       "      <td>-0.015076</td>\n",
       "      <td>0.200900</td>\n",
       "      <td>-0.029215</td>\n",
       "      <td>-0.014019</td>\n",
       "      <td>-0.022884</td>\n",
       "      <td>-0.022164</td>\n",
       "      <td>-0.015226</td>\n",
       "      <td>-0.003669</td>\n",
       "      <td>0.009536</td>\n",
       "      <td>-0.004607</td>\n",
       "    </tr>\n",
       "    <tr>\n",
       "      <th>2</th>\n",
       "      <td>-0.018646</td>\n",
       "      <td>0.040314</td>\n",
       "      <td>-0.008897</td>\n",
       "      <td>-0.000944</td>\n",
       "      <td>-0.003572</td>\n",
       "      <td>0.001732</td>\n",
       "      <td>-0.027579</td>\n",
       "      <td>-0.003937</td>\n",
       "      <td>-0.037095</td>\n",
       "      <td>-0.014127</td>\n",
       "      <td>...</td>\n",
       "      <td>-0.018590</td>\n",
       "      <td>0.173916</td>\n",
       "      <td>0.009785</td>\n",
       "      <td>0.009736</td>\n",
       "      <td>-0.009375</td>\n",
       "      <td>-0.003150</td>\n",
       "      <td>-0.004998</td>\n",
       "      <td>0.002864</td>\n",
       "      <td>-0.011393</td>\n",
       "      <td>0.001808</td>\n",
       "    </tr>\n",
       "    <tr>\n",
       "      <th>3</th>\n",
       "      <td>-0.021191</td>\n",
       "      <td>0.003056</td>\n",
       "      <td>0.015033</td>\n",
       "      <td>0.030895</td>\n",
       "      <td>0.025788</td>\n",
       "      <td>0.003621</td>\n",
       "      <td>-0.037844</td>\n",
       "      <td>-0.084087</td>\n",
       "      <td>0.047412</td>\n",
       "      <td>-0.000477</td>\n",
       "      <td>...</td>\n",
       "      <td>-0.006396</td>\n",
       "      <td>0.251401</td>\n",
       "      <td>0.006086</td>\n",
       "      <td>0.000791</td>\n",
       "      <td>0.024420</td>\n",
       "      <td>0.008780</td>\n",
       "      <td>-0.006787</td>\n",
       "      <td>0.005168</td>\n",
       "      <td>0.008542</td>\n",
       "      <td>0.014443</td>\n",
       "    </tr>\n",
       "    <tr>\n",
       "      <th>4</th>\n",
       "      <td>-0.006928</td>\n",
       "      <td>-0.015236</td>\n",
       "      <td>0.007878</td>\n",
       "      <td>-0.012014</td>\n",
       "      <td>0.001015</td>\n",
       "      <td>0.000680</td>\n",
       "      <td>0.079096</td>\n",
       "      <td>0.013571</td>\n",
       "      <td>-0.011966</td>\n",
       "      <td>-0.004975</td>\n",
       "      <td>...</td>\n",
       "      <td>-0.015703</td>\n",
       "      <td>-0.130142</td>\n",
       "      <td>0.005034</td>\n",
       "      <td>-0.020730</td>\n",
       "      <td>-0.027310</td>\n",
       "      <td>-0.016538</td>\n",
       "      <td>-0.019657</td>\n",
       "      <td>-0.009246</td>\n",
       "      <td>0.005377</td>\n",
       "      <td>0.000942</td>\n",
       "    </tr>\n",
       "  </tbody>\n",
       "</table>\n",
       "<p>5 rows × 166 columns</p>\n",
       "</div>"
      ],
      "text/plain": [
       "   actually   amazing      area       ask     asked       ate      away  \\\n",
       "0  0.005307 -0.040629 -0.007794 -0.004775  0.001808 -0.014527  0.004963   \n",
       "1 -0.018884  0.009926 -0.019751 -0.051443 -0.010270  0.019852 -0.007131   \n",
       "2 -0.018646  0.040314 -0.008897 -0.000944 -0.003572  0.001732 -0.027579   \n",
       "3 -0.021191  0.003056  0.015033  0.030895  0.025788  0.003621 -0.037844   \n",
       "4 -0.006928 -0.015236  0.007878 -0.012014  0.001015  0.000680  0.079096   \n",
       "\n",
       "    awesome       bad       bar    ...      waiting  waitress      want  \\\n",
       "0  0.006526  0.012544 -0.002154    ...    -0.012248 -0.085507  0.016286   \n",
       "1  0.054634 -0.036295 -0.039289    ...    -0.015076  0.200900 -0.029215   \n",
       "2 -0.003937 -0.037095 -0.014127    ...    -0.018590  0.173916  0.009785   \n",
       "3 -0.084087  0.047412 -0.000477    ...    -0.006396  0.251401  0.006086   \n",
       "4  0.013571 -0.011966 -0.004975    ...    -0.015703 -0.130142  0.005034   \n",
       "\n",
       "     wanted      wasn       way      went      work     worth       yes  \n",
       "0  0.005319 -0.012512 -0.011748 -0.007364 -0.001560 -0.020270  0.000752  \n",
       "1 -0.014019 -0.022884 -0.022164 -0.015226 -0.003669  0.009536 -0.004607  \n",
       "2  0.009736 -0.009375 -0.003150 -0.004998  0.002864 -0.011393  0.001808  \n",
       "3  0.000791  0.024420  0.008780 -0.006787  0.005168  0.008542  0.014443  \n",
       "4 -0.020730 -0.027310 -0.016538 -0.019657 -0.009246  0.005377  0.000942  \n",
       "\n",
       "[5 rows x 166 columns]"
      ]
     },
     "execution_count": 29,
     "metadata": {},
     "output_type": "execute_result"
    }
   ],
   "source": [
    "rcompframe.head()"
   ]
  },
  {
   "cell_type": "markdown",
   "metadata": {},
   "source": [
    "### Finding the Number of clusters"
   ]
  },
  {
   "cell_type": "code",
   "execution_count": 30,
   "metadata": {
    "collapsed": true
   },
   "outputs": [],
   "source": [
    "# finding an optimal value for k\n",
    "k_range = range(1,10)\n",
    "k_means_set = [KMeans(n_clusters=k,init='k-means++', max_iter=100, random_state = 50).fit(X_rpca) for k in k_range]\n",
    "centroids_list = [km_result.cluster_centers_ for km_result in k_means_set]"
   ]
  },
  {
   "cell_type": "code",
   "execution_count": 31,
   "metadata": {
    "collapsed": true
   },
   "outputs": [],
   "source": [
    "\n",
    "k_euclid = [cdist(X_rpca, thing, 'euclidean') for thing in centroids_list]\n",
    "distance_set = [np.min(k_euc, axis=1) for k_euc in k_euclid]\n",
    "\n",
    "# total within-cluster sum of squares\n",
    "wcss = [np.sum(distance**2) for distance in distance_set]\n",
    "\n",
    "# total sum of squares\n",
    "tss  = np.sum(pdist(X_rpca)**2) / X_rpca.shape[0]\n",
    "\n",
    "# between cluster sum of squares\n",
    "bss = tss - wcss"
   ]
  },
  {
   "cell_type": "code",
   "execution_count": 32,
   "metadata": {
    "collapsed": false
   },
   "outputs": [
    {
     "data": {
      "text/plain": [
       "<matplotlib.text.Text at 0x10361c88>"
      ]
     },
     "execution_count": 32,
     "metadata": {},
     "output_type": "execute_result"
    },
    {
     "data": {
      "image/png": "[encoded data removed]",
      "text/plain": [
       "<matplotlib.figure.Figure at 0x1afdd400>"
      ]
     },
     "metadata": {},
     "output_type": "display_data"
    }
   ],
   "source": [
    "# plot elbow chart\n",
    "\n",
    "\n",
    "fig = plt.figure()\n",
    "ax = fig.add_subplot(111)\n",
    "ax.plot(k_range, bss/tss*100, '^-')\n",
    "ax.set_ylim((0,40))\n",
    "plt.grid(True)\n",
    "plt.xlabel('K n_clusters')\n",
    "plt.ylabel('% Variance Explained')\n",
    "plt.title('% Var Explained vs K')"
   ]
  },
  {
   "cell_type": "markdown",
   "metadata": {},
   "source": [
    "### Q2. How many clusters did you “find”? Why did you select that number? Can you easily describe your clusters with a text label?  Why or why not? (15 points)\n",
    "\n",
    "Looks like 4 Nos of cluster will be appropriate for this dataset. From the above diagram, there is a small elbow near 4th Cluster, but still its capturing more variation at 5th cluster and so on. For simplicity I'll restrict the number of cluster to 5. It is hard to describe the clusters with text. We could see the sentiment but it is hard to describe with text labels"
   ]
  },
  {
   "cell_type": "code",
   "execution_count": 33,
   "metadata": {
    "collapsed": false
   },
   "outputs": [],
   "source": [
    "My_k = 5\n",
    "km = KMeans(n_clusters=My_k, init='k-means++', max_iter=100, random_state = 50)\n",
    "review_k = km.fit(X_rpca)\n",
    "clusters = km.labels_.tolist()\n",
    "reviewdf['PCAclusters'] = clusters"
   ]
  },
  {
   "cell_type": "code",
   "execution_count": 34,
   "metadata": {
    "collapsed": false
   },
   "outputs": [
    {
     "name": "stdout",
     "output_type": "stream",
     "text": [
      "1    304\n",
      "0     85\n",
      "2      3\n",
      "Name: clusters, dtype: int64\n",
      "2    296\n",
      "0     58\n",
      "1     35\n",
      "4      2\n",
      "3      1\n",
      "Name: PCAclusters, dtype: int64\n"
     ]
    },
    {
     "data": {
      "text/html": [
       "<div>\n",
       "<table border=\"1\" class=\"dataframe\">\n",
       "  <thead>\n",
       "    <tr style=\"text-align: right;\">\n",
       "      <th></th>\n",
       "      <th>comment</th>\n",
       "      <th>date</th>\n",
       "      <th>cleantext</th>\n",
       "      <th>clusters</th>\n",
       "      <th>PCAclusters</th>\n",
       "    </tr>\n",
       "  </thead>\n",
       "  <tbody>\n",
       "    <tr>\n",
       "      <th>0</th>\n",
       "      <td>Ugh, you guys made me so happy tonight and don't even know it. I wanted to keep it simple tonight and went for Red Lobster in Times Square. It was also one of the restaurants close to Port Authority. If I can give anyone advice, it would be to sit at the bar, you'll get your food faster. But I also visited after hours so there was barely anyone there. Based on the receipt, my waitress was Doly? Girl, thank you! She was so sweet and kind and her partner was also. He (I didn't get his name) actually suggested the mojito for me because I had not tried it before and low and behold! It tasted exactly like my grandma's lemonade. So either they didn't make it right or my grandma has been sneaking in some good stuff and trying to get us tipsy all along. *scratches head* Either way, I loved it. The only thing I'm kinda not happy about was my $45 tab. Like. Really. I was by myself. How did I do that? Trust me when I tell you that I suck at saving and never mind the fact that food is my life.. I will spend my entire paycheck at one restaurant. Trust and believe me! Anyway, thank you Red Lobster.. For being there when I needed you the most and for taking all my money.</td>\n",
       "      <td>5/6/2016</td>\n",
       "      <td>ugh, you guys made me so happy tonight and don't even know it. i wanted to keep it simple tonight and went for rlob in tsqruare. it was also one of the restaurants close to port authority. if i can give anyone advice, it would be to sit at the bar, you'll get your food faster. but i also visited after hours so there was barely anyone there. based on the receipt, my waitress was doly? girl, thank you! she was so sweet and kind and her partner was also. he (i didn't get his name) actually suggested the mojito for me because i had not tried it before and low and behold! it tasted exactly like my grandma's lemonade. so either they didn't make it right or my grandma has been sneaking in some good stuff and trying to get us tipsy all along. *scratches head* either way, i loved it. the only thing i'm kinda not happy about was my $45 tab. like. really. i was by myself. how did i do that? trust me when i tell you that i suck at saving and never mind the fact that food is my life.. i will spend my entire paycheck at one restaurant. trust and believe me! anyway, thank you rlob.. for being there when i needed you the most and for taking all my money.</td>\n",
       "      <td>1</td>\n",
       "      <td>2</td>\n",
       "    </tr>\n",
       "    <tr>\n",
       "      <th>1</th>\n",
       "      <td>I was here with my friend because we were in the area and needed to kill time before our next move. Long story short, I saw a mouse scurry across the room. I didn't want to make a big deal of it. I told the waiter. Literally nothing was done. He didn't update us saying he'd told the manager about it or ask me any additional questions at all. He just said \"okay\". Like....I am in your restaurant telling you I just saw a mouse. This was in the early evening (4 ish) and was not busy at all. He just really lacked customer service. I definitely will not be returning here.</td>\n",
       "      <td>5/19/2016</td>\n",
       "      <td>i was here with my friend because we were in the area and needed to kill time before our next move. long story short, i saw a mouse scurry across the room. i didn't want to make a big deal of it. i told the waiter. literally nothing was done. he didn't update us saying he'd told the manager about it or ask me any additional questions at all. he just said \"okay\". like....i am in your restaurant telling you i just saw a mouse. this was in the early evening (4 ish) and was not busy at all. he just really lacked customer service. i definitely will not be returning here.</td>\n",
       "      <td>1</td>\n",
       "      <td>2</td>\n",
       "    </tr>\n",
       "  </tbody>\n",
       "</table>\n",
       "</div>"
      ],
      "text/plain": [
       "                                                                                                                                                                                                                                                                                                                                                                                                                                                                                                                                                                                                                                                                                                                                                                                                                                                                                                                                                                                                                                                                                                                                                                                                                  comment  \\\n",
       "0  Ugh, you guys made me so happy tonight and don't even know it. I wanted to keep it simple tonight and went for Red Lobster in Times Square. It was also one of the restaurants close to Port Authority. If I can give anyone advice, it would be to sit at the bar, you'll get your food faster. But I also visited after hours so there was barely anyone there. Based on the receipt, my waitress was Doly? Girl, thank you! She was so sweet and kind and her partner was also. He (I didn't get his name) actually suggested the mojito for me because I had not tried it before and low and behold! It tasted exactly like my grandma's lemonade. So either they didn't make it right or my grandma has been sneaking in some good stuff and trying to get us tipsy all along. *scratches head* Either way, I loved it. The only thing I'm kinda not happy about was my $45 tab. Like. Really. I was by myself. How did I do that? Trust me when I tell you that I suck at saving and never mind the fact that food is my life.. I will spend my entire paycheck at one restaurant. Trust and believe me! Anyway, thank you Red Lobster.. For being there when I needed you the most and for taking all my money.   \n",
       "1                                                                                                                                                                                                                                                                                                                                                                                                                                                                                                                                                                                                                            I was here with my friend because we were in the area and needed to kill time before our next move. Long story short, I saw a mouse scurry across the room. I didn't want to make a big deal of it. I told the waiter. Literally nothing was done. He didn't update us saying he'd told the manager about it or ask me any additional questions at all. He just said \"okay\". Like....I am in your restaurant telling you I just saw a mouse. This was in the early evening (4 ish) and was not busy at all. He just really lacked customer service. I definitely will not be returning here.   \n",
       "\n",
       "        date  \\\n",
       "0   5/6/2016   \n",
       "1  5/19/2016   \n",
       "\n",
       "                                                                                                                                                                                                                                                                                                                                                                                                                                                                                                                                                                                                                                                                                                                                                                                                                                                                                                                                                                                                                                                                                                                                                                                              cleantext  \\\n",
       "0  ugh, you guys made me so happy tonight and don't even know it. i wanted to keep it simple tonight and went for rlob in tsqruare. it was also one of the restaurants close to port authority. if i can give anyone advice, it would be to sit at the bar, you'll get your food faster. but i also visited after hours so there was barely anyone there. based on the receipt, my waitress was doly? girl, thank you! she was so sweet and kind and her partner was also. he (i didn't get his name) actually suggested the mojito for me because i had not tried it before and low and behold! it tasted exactly like my grandma's lemonade. so either they didn't make it right or my grandma has been sneaking in some good stuff and trying to get us tipsy all along. *scratches head* either way, i loved it. the only thing i'm kinda not happy about was my $45 tab. like. really. i was by myself. how did i do that? trust me when i tell you that i suck at saving and never mind the fact that food is my life.. i will spend my entire paycheck at one restaurant. trust and believe me! anyway, thank you rlob.. for being there when i needed you the most and for taking all my money.   \n",
       "1                                                                                                                                                                                                                                                                                                                                                                                                                                                                                                                                                                                                          i was here with my friend because we were in the area and needed to kill time before our next move. long story short, i saw a mouse scurry across the room. i didn't want to make a big deal of it. i told the waiter. literally nothing was done. he didn't update us saying he'd told the manager about it or ask me any additional questions at all. he just said \"okay\". like....i am in your restaurant telling you i just saw a mouse. this was in the early evening (4 ish) and was not busy at all. he just really lacked customer service. i definitely will not be returning here.   \n",
       "\n",
       "   clusters  PCAclusters  \n",
       "0         1            2  \n",
       "1         1            2  "
      ]
     },
     "execution_count": 34,
     "metadata": {},
     "output_type": "execute_result"
    }
   ],
   "source": [
    "print reviewdf['clusters'].value_counts()\n",
    "print reviewdf['PCAclusters'].value_counts()\n",
    "reviewdf.head(2)\n"
   ]
  },
  {
   "cell_type": "markdown",
   "metadata": {},
   "source": [
    "### T3. Train 3 different classifiers on each dataset and assess their ability to accurately predict the cluster assignment.\n"
   ]
  },
  {
   "cell_type": "code",
   "execution_count": 35,
   "metadata": {
    "collapsed": false
   },
   "outputs": [
    {
     "name": "stdout",
     "output_type": "stream",
     "text": [
      "<type 'numpy.ndarray'>\n",
      "<type 'numpy.ndarray'>\n",
      "[2 2 2 2 2]\n"
     ]
    }
   ],
   "source": [
    "# train test split\n",
    "# data are X, labels are y\n",
    "from sklearn.cross_validation import train_test_split\n",
    "\n",
    "X = review_dm.toarray()  #remember this is the output from the vectorizer\n",
    "print type(X)\n",
    "\n",
    "\n",
    "y = reviewdf['PCAclusters'].values #this is an array of labels\n",
    "print type(y)\n",
    "\n",
    "print y[0:5]"
   ]
  },
  {
   "cell_type": "markdown",
   "metadata": {},
   "source": [
    "### Splitting 40:60"
   ]
  },
  {
   "cell_type": "code",
   "execution_count": 36,
   "metadata": {
    "collapsed": false
   },
   "outputs": [
    {
     "name": "stdout",
     "output_type": "stream",
     "text": [
      "(235L, 166L)\n",
      "(157L, 166L)\n",
      "(235L,)\n",
      "(157L,)\n"
     ]
    }
   ],
   "source": [
    "X_train, X_test, y_train, y_test = train_test_split(X, y, test_size=0.4, random_state=50) #random_state is set seed\n",
    "\n",
    "# function creates 4 output structures - order matters\n",
    "print X_train.shape\n",
    "print X_test.shape\n",
    "print y_train.shape\n",
    "print y_test.shape"
   ]
  },
  {
   "cell_type": "markdown",
   "metadata": {},
   "source": [
    "### Decision Tree Classifier"
   ]
  },
  {
   "cell_type": "code",
   "execution_count": 37,
   "metadata": {
    "collapsed": false
   },
   "outputs": [
    {
     "name": "stdout",
     "output_type": "stream",
     "text": [
      "0.764331210191\n",
      "accuracy: 0.764331210191\n",
      "             precision    recall  f1-score   support\n",
      "\n",
      "          0       0.71      0.43      0.53        28\n",
      "          1       0.50      0.31      0.38        16\n",
      "          2       0.79      0.92      0.85       112\n",
      "          4       0.00      0.00      0.00         1\n",
      "\n",
      "avg / total       0.74      0.76      0.74       157\n",
      "\n"
     ]
    },
    {
     "name": "stderr",
     "output_type": "stream",
     "text": [
      "C:\\Anaconda2\\lib\\site-packages\\sklearn\\metrics\\classification.py:1074: UndefinedMetricWarning: Precision and F-score are ill-defined and being set to 0.0 in labels with no predicted samples.\n",
      "  'precision', 'predicted', average, warn_for)\n"
     ]
    }
   ],
   "source": [
    "# Decision Tree Classifier\n",
    "from sklearn import metrics\n",
    "from sklearn.tree import DecisionTreeClassifier\n",
    "\n",
    "# fit a CART_model to the data\n",
    "DecisionTree_pre = DecisionTreeClassifier(random_state = 50)\n",
    "DecisionTree_pre.fit(X_train, y_train)\n",
    "\n",
    "# make predictions\n",
    "clf1_expected = y_test\n",
    "clf1_predicted = DecisionTree_pre.predict(X_test)\n",
    "\n",
    "\n",
    "print DecisionTree_pre.score(X_test,y_test)\n",
    "\n",
    "# summarize the fit of the CART_Model\n",
    "print(\"accuracy: \" + str(metrics.accuracy_score(clf1_expected, clf1_predicted)))\n",
    "print(metrics.classification_report(clf1_expected, clf1_predicted))"
   ]
  },
  {
   "cell_type": "markdown",
   "metadata": {},
   "source": [
    "## 2. Naive Bayes"
   ]
  },
  {
   "cell_type": "code",
   "execution_count": 38,
   "metadata": {
    "collapsed": false
   },
   "outputs": [
    {
     "name": "stdout",
     "output_type": "stream",
     "text": [
      "MultinomialNB(alpha=1.0, class_prior=None, fit_prior=True)\n",
      "0.713375796178\n",
      "accuracy: 0.713375796178\n",
      "             precision    recall  f1-score   support\n",
      "\n",
      "          0       0.00      0.00      0.00        28\n",
      "          1       0.00      0.00      0.00        16\n",
      "          2       0.71      1.00      0.83       112\n",
      "          4       0.00      0.00      0.00         1\n",
      "\n",
      "avg / total       0.51      0.71      0.59       157\n",
      "\n"
     ]
    }
   ],
   "source": [
    "# Multinomial Naive Bayes\n",
    "from sklearn.naive_bayes import MultinomialNB\n",
    "\n",
    "# fit a Naive_Bayes_model to the data\n",
    "NaiveBayes_pre = MultinomialNB()\n",
    "print NaiveBayes_pre\n",
    "NaiveBayes_pre.fit(X_train, y_train)\n",
    "\n",
    "# make predictions\n",
    "clf2_expected = y_test\n",
    "clf2_predicted = NaiveBayes_pre.predict(X_test)\n",
    "\n",
    "print NaiveBayes_pre.score(X_test, y_test)\n",
    "\n",
    "# summarize the fit of the Naivebayes\n",
    "print(\"accuracy: \" + str(metrics.accuracy_score(clf2_expected, clf2_predicted)))\n",
    "print(metrics.classification_report(clf2_expected, clf2_predicted))"
   ]
  },
  {
   "cell_type": "markdown",
   "metadata": {},
   "source": [
    "### Logistic Regression"
   ]
  },
  {
   "cell_type": "code",
   "execution_count": 39,
   "metadata": {
    "collapsed": false
   },
   "outputs": [
    {
     "name": "stdout",
     "output_type": "stream",
     "text": [
      "LogisticRegression(C=1.0, class_weight=None, dual=False, fit_intercept=True,\n",
      "          intercept_scaling=1, max_iter=100, multi_class='ovr', n_jobs=1,\n",
      "          penalty='l2', random_state=50, solver='liblinear', tol=0.0001,\n",
      "          verbose=0, warm_start=False)\n",
      "0.713375796178\n",
      "accuracy: 0.713375796178\n",
      "             precision    recall  f1-score   support\n",
      "\n",
      "          0       0.00      0.00      0.00        28\n",
      "          1       0.00      0.00      0.00        16\n",
      "          2       0.71      1.00      0.83       112\n",
      "          4       0.00      0.00      0.00         1\n",
      "\n",
      "avg / total       0.51      0.71      0.59       157\n",
      "\n"
     ]
    }
   ],
   "source": [
    "# Logistic Regression\n",
    "from sklearn.linear_model import LogisticRegression\n",
    "\n",
    "# fit a logistic regression model to the data\n",
    "logit_pre = LogisticRegression(random_state = 50)\n",
    "print logit_pre\n",
    "logit_pre.fit(X_train, y_train)\n",
    "print logit_pre.score(X_test, y_test)\n",
    "\n",
    "# make predictions\n",
    "clf3_expected = y_test\n",
    "clf3_predicted = logit_pre.predict(X_test)\n",
    "\n",
    "# summarize the fit of the logit_pre_model\n",
    "print(\"accuracy: \" + str(metrics.accuracy_score(clf3_expected, clf3_predicted)))\n",
    "print(metrics.classification_report(clf3_expected, clf3_predicted))"
   ]
  },
  {
   "cell_type": "code",
   "execution_count": 41,
   "metadata": {
    "collapsed": false
   },
   "outputs": [
    {
     "data": {
      "text/html": [
       "<div>\n",
       "<table border=\"1\" class=\"dataframe\">\n",
       "  <thead>\n",
       "    <tr style=\"text-align: right;\">\n",
       "      <th></th>\n",
       "      <th>Model NO</th>\n",
       "      <th>Name</th>\n",
       "      <th>Processing Parameters</th>\n",
       "      <th>Model Accuracy</th>\n",
       "    </tr>\n",
       "  </thead>\n",
       "  <tbody>\n",
       "    <tr>\n",
       "      <th>0</th>\n",
       "      <td>Model 1</td>\n",
       "      <td>PCAclusters_Decision Tree</td>\n",
       "      <td>binary=False, stop_words=\"english\", use_idf = False, norm = \"l1\",\"lowercase=True, max_df=0.95, min_df=0.05, ngram_range = (1,2)\"</td>\n",
       "      <td>0.764331</td>\n",
       "    </tr>\n",
       "    <tr>\n",
       "      <th>1</th>\n",
       "      <td>Model 2</td>\n",
       "      <td>PCAclusters_Naive Bayes</td>\n",
       "      <td>binary=False, stop_words=\"english\", use_idf = False, norm = \"l1\",\"lowercase=True, max_df=0.95, min_df=0.05, ngram_range = (1,2)\"</td>\n",
       "      <td>0.713376</td>\n",
       "    </tr>\n",
       "    <tr>\n",
       "      <th>2</th>\n",
       "      <td>Model 3</td>\n",
       "      <td>PCAclusters_Logistic Regression</td>\n",
       "      <td>binary=False, stop_words=\"english\", use_idf = False, norm = \"l1\", \"lowercase=True, max_df=0.95, min_df=0.05, ngram_range = (1,2)\"</td>\n",
       "      <td>0.713376</td>\n",
       "    </tr>\n",
       "  </tbody>\n",
       "</table>\n",
       "</div>"
      ],
      "text/plain": [
       "  Model NO                             Name  \\\n",
       "0  Model 1        PCAclusters_Decision Tree   \n",
       "1  Model 2          PCAclusters_Naive Bayes   \n",
       "2  Model 3  PCAclusters_Logistic Regression   \n",
       "\n",
       "                                                                                                               Processing Parameters  \\\n",
       "0   binary=False, stop_words=\"english\", use_idf = False, norm = \"l1\",\"lowercase=True, max_df=0.95, min_df=0.05, ngram_range = (1,2)\"   \n",
       "1   binary=False, stop_words=\"english\", use_idf = False, norm = \"l1\",\"lowercase=True, max_df=0.95, min_df=0.05, ngram_range = (1,2)\"   \n",
       "2  binary=False, stop_words=\"english\", use_idf = False, norm = \"l1\", \"lowercase=True, max_df=0.95, min_df=0.05, ngram_range = (1,2)\"   \n",
       "\n",
       "   Model Accuracy  \n",
       "0        0.764331  \n",
       "1        0.713376  \n",
       "2        0.713376  "
      ]
     },
     "execution_count": 41,
     "metadata": {},
     "output_type": "execute_result"
    }
   ],
   "source": [
    "df =\"\"\n",
    "columns = ['Model NO', 'Name', 'Processing Parameters','Model Accuracy']\n",
    "df = pd.DataFrame(columns=columns) \n",
    "df.loc[len(df)]=['Model 1','PCAclusters_Decision Tree','binary=False, stop_words=\"english\", use_idf = False, norm = \"l1\",\"lowercase=True, max_df=0.95, min_df=0.05, ngram_range = (1,2)\"',\n",
    "                 DecisionTree_pre.score(X_test,y_test)]\n",
    "df.loc[len(df)]=['Model 2','PCAclusters_Naive Bayes','binary=False, stop_words=\"english\", use_idf = False, norm = \"l1\",\"lowercase=True, max_df=0.95, min_df=0.05, ngram_range = (1,2)\"',\n",
    "                 NaiveBayes_pre.score(X_test, y_test)]\n",
    "df.loc[len(df)]=['Model 3','PCAclusters_Logistic Regression','binary=False, stop_words=\"english\", use_idf = False, norm = \"l1\", \"lowercase=True, max_df=0.95, min_df=0.05, ngram_range = (1,2)\"',\n",
    "                 NaiveBayes_pre.score(X_test, y_test)]\n",
    "result = df.sort_values(by= 'Model Accuracy',ascending=False)\n",
    "result"
   ]
  },
  {
   "cell_type": "markdown",
   "metadata": {},
   "source": [
    "### Q3. Which model performed best?  How does that compare to previous predictive models you may have used on this dataset? How might this be useful for your question? (15 points)\n",
    "\n",
    "Decision Tree performing the best on this dataset. In my previous analysis Naive Bayes was performing well with 77% accuracy, this time also it the model predicting with accuracy of almost 76.5%. With this analysis we could group the customer together based on some criteria."
   ]
  },
  {
   "cell_type": "markdown",
   "metadata": {},
   "source": [
    "### Bonus: (10 points): Extract one or two of the most common tokens from each cluster and assign those as labels.  Repeat the classification exercise to predict these new labels using 3 different models (hint: you can just change the settings). Do the results surprise you?"
   ]
  },
  {
   "cell_type": "markdown",
   "metadata": {},
   "source": [
    "### Predicted top 4 words for each cluster"
   ]
  },
  {
   "cell_type": "code",
   "execution_count": 44,
   "metadata": {
    "collapsed": false
   },
   "outputs": [
    {
     "name": "stdout",
     "output_type": "stream",
     "text": [
      "Top terms per cluster:\n",
      "Comment 0:\n",
      " asked\n",
      " actually\n",
      " away\n",
      " better\n",
      "\n",
      "Comment 1:\n",
      " amazing\n",
      " ask\n",
      " actually\n",
      " best\n",
      "\n",
      "Comment 2:\n",
      " bar\n",
      " cooked\n",
      " check\n",
      " eat\n",
      "\n",
      "Comment 3:\n",
      " area\n",
      " awesome\n",
      " asked\n",
      " actually\n",
      "\n",
      "Comment 4:\n",
      " ate\n",
      " amazing\n",
      " area\n",
      " ask\n",
      "\n"
     ]
    }
   ],
   "source": [
    "print(\"Top terms per cluster:\")\n",
    "order_centroids = km.cluster_centers_.argsort()[:, ::-1]\n",
    "terms = tfidf_review.get_feature_names()\n",
    "for i in range(5):\n",
    "    print(\"Comment %d:\" % i)\n",
    "    for ind in order_centroids[i, :4]:\n",
    "        print(' %s' % terms[ind])\n",
    "    print"
   ]
  },
  {
   "cell_type": "markdown",
   "metadata": {},
   "source": [
    "### Considering only 1 Top word from each cluster and running the classificatio algorithm to predict the accuracy"
   ]
  },
  {
   "cell_type": "code",
   "execution_count": 45,
   "metadata": {
    "collapsed": false
   },
   "outputs": [
    {
     "name": "stdout",
     "output_type": "stream",
     "text": [
      "Top terms per cluster:\n",
      "Comment 0:\n",
      " asked\n",
      "\n",
      "Comment 1:\n",
      " amazing\n",
      "\n",
      "Comment 2:\n",
      " bar\n",
      "\n",
      "Comment 3:\n",
      " area\n",
      "\n",
      "Comment 4:\n",
      " ate\n",
      "\n"
     ]
    }
   ],
   "source": [
    "print(\"Top terms per cluster:\")\n",
    "order_centroids = km.cluster_centers_.argsort()[:, ::-1]\n",
    "terms = tfidf_review.get_feature_names()\n",
    "for i in range(5):\n",
    "    print(\"Comment %d:\" % i)\n",
    "    for ind in order_centroids[i, :1]:\n",
    "        print(' %s' % terms[ind])\n",
    "    print"
   ]
  },
  {
   "cell_type": "code",
   "execution_count": 46,
   "metadata": {
    "collapsed": true
   },
   "outputs": [],
   "source": [
    "# replace contractions\n",
    "import re\n",
    "\n",
    "# using dictionaries\n",
    "\n",
    "cluster_dict = { '0':'actually','1':'ask','2':'birthday', '3':'amazing', '4':'area'}\n",
    "\n",
    "\n",
    "def multiple_replace1(dict, text): \n",
    "\n",
    "  \"\"\" Replace in 'text' all occurences of any key in the given\n",
    "  dictionary by its corresponding value.  Returns the new tring.\"\"\" \n",
    "  text = str(text).lower()\n",
    "\n",
    "  # Create a regular expression  from the dictionary keys\n",
    "  regex = re.compile(\"(%s)\" % \"|\".join(map(re.escape, dict.keys())))\n",
    "\n",
    "  # For each match, look-up corresponding value in dictionary\n",
    "  return regex.sub(lambda mo: dict[mo.string[mo.start():mo.end()]], text)"
   ]
  },
  {
   "cell_type": "code",
   "execution_count": 47,
   "metadata": {
    "collapsed": false
   },
   "outputs": [
    {
     "data": {
      "text/html": [
       "<div>\n",
       "<table border=\"1\" class=\"dataframe\">\n",
       "  <thead>\n",
       "    <tr style=\"text-align: right;\">\n",
       "      <th></th>\n",
       "      <th>comment</th>\n",
       "      <th>date</th>\n",
       "      <th>cleantext</th>\n",
       "      <th>clusters</th>\n",
       "      <th>PCAclusters</th>\n",
       "      <th>PCAclusters_top_terms</th>\n",
       "    </tr>\n",
       "  </thead>\n",
       "  <tbody>\n",
       "    <tr>\n",
       "      <th>7</th>\n",
       "      <td>Went for an early lunch. Service was great, food amazing. The cheesy biscuits were to die for. Had the lobster mac &amp; cheese starter.....incredible!!! All the food was well presented, fresh and delicious. Would go back in a heartbeat!</td>\n",
       "      <td>4/5/2016</td>\n",
       "      <td>went for an early lunch. service was great, food amazing. the cbiscuits were to die for. had the lobster mac &amp; cheese starter.....incredible!!! all the food was well presented, fresh and delicious. would go back in a heartbeat!</td>\n",
       "      <td>0</td>\n",
       "      <td>2</td>\n",
       "      <td>birthday</td>\n",
       "    </tr>\n",
       "  </tbody>\n",
       "</table>\n",
       "</div>"
      ],
      "text/plain": [
       "                                                                                                                                                                                                                                     comment  \\\n",
       "7  Went for an early lunch. Service was great, food amazing. The cheesy biscuits were to die for. Had the lobster mac & cheese starter.....incredible!!! All the food was well presented, fresh and delicious. Would go back in a heartbeat!   \n",
       "\n",
       "       date  \\\n",
       "7  4/5/2016   \n",
       "\n",
       "                                                                                                                                                                                                                             cleantext  \\\n",
       "7  went for an early lunch. service was great, food amazing. the cbiscuits were to die for. had the lobster mac & cheese starter.....incredible!!! all the food was well presented, fresh and delicious. would go back in a heartbeat!   \n",
       "\n",
       "   clusters  PCAclusters PCAclusters_top_terms  \n",
       "7         0            2              birthday  "
      ]
     },
     "execution_count": 47,
     "metadata": {},
     "output_type": "execute_result"
    }
   ],
   "source": [
    "reviewdf['PCAclusters_top_terms'] = map(lambda x: multiple_replace1(cluster_dict, x), reviewdf['PCAclusters'])\n",
    "reviewdf[7:8] "
   ]
  },
  {
   "cell_type": "code",
   "execution_count": 48,
   "metadata": {
    "collapsed": false
   },
   "outputs": [
    {
     "name": "stdout",
     "output_type": "stream",
     "text": [
      "<type 'numpy.ndarray'>\n",
      "<type 'numpy.ndarray'>\n",
      "['birthday' 'birthday' 'birthday' 'birthday' 'birthday']\n"
     ]
    }
   ],
   "source": [
    "# train test split\n",
    "# data are X, labels are y\n",
    "from sklearn.cross_validation import train_test_split\n",
    "\n",
    "X1 = review_dm.toarray()  #remember this is the output from the vectorizer\n",
    "print type(X1)\n",
    "\n",
    "\n",
    "y1 = reviewdf['PCAclusters_top_terms'].values #this is an array of labels\n",
    "print type(y1)\n",
    "\n",
    "print y1[0:5]"
   ]
  },
  {
   "cell_type": "code",
   "execution_count": 49,
   "metadata": {
    "collapsed": false
   },
   "outputs": [
    {
     "name": "stdout",
     "output_type": "stream",
     "text": [
      "(235L, 166L)\n",
      "(157L, 166L)\n",
      "(235L,)\n",
      "(157L,)\n"
     ]
    }
   ],
   "source": [
    "X1_train, X1_test, y1_train, y1_test = train_test_split(X1, y1, test_size=0.4, random_state=50) #random_state is set seed\n",
    "\n",
    "# function creates 4 output structures - order matters\n",
    "print X1_train.shape\n",
    "print X1_test.shape\n",
    "print y1_train.shape\n",
    "print y1_test.shape"
   ]
  },
  {
   "cell_type": "code",
   "execution_count": 50,
   "metadata": {
    "collapsed": false
   },
   "outputs": [
    {
     "name": "stdout",
     "output_type": "stream",
     "text": [
      "0.764331210191\n",
      "accuracy: 0.764331210191\n",
      "             precision    recall  f1-score   support\n",
      "\n",
      "   actually       0.71      0.43      0.53        28\n",
      "       area       0.00      0.00      0.00         1\n",
      "        ask       0.50      0.31      0.38        16\n",
      "   birthday       0.79      0.92      0.85       112\n",
      "\n",
      "avg / total       0.74      0.76      0.74       157\n",
      "\n"
     ]
    }
   ],
   "source": [
    "# Decision Tree Classifier\n",
    "from sklearn import metrics\n",
    "from sklearn.tree import DecisionTreeClassifier\n",
    "\n",
    "# fit a CART_model to the data\n",
    "DecisionTree_pre = DecisionTreeClassifier(random_state = 50)\n",
    "DecisionTree_pre.fit(X1_train, y1_train)\n",
    "\n",
    "# make predictions\n",
    "clf1_expected = y1_test\n",
    "clf1_predicted = DecisionTree_pre.predict(X1_test)\n",
    "\n",
    "\n",
    "print DecisionTree_pre.score(X1_test,y1_test)\n",
    "\n",
    "# summarize the fit of the CART_Model\n",
    "print(\"accuracy: \" + str(metrics.accuracy_score(clf1_expected, clf1_predicted)))\n",
    "print(metrics.classification_report(clf1_expected, clf1_predicted))"
   ]
  },
  {
   "cell_type": "code",
   "execution_count": 51,
   "metadata": {
    "collapsed": false
   },
   "outputs": [
    {
     "name": "stdout",
     "output_type": "stream",
     "text": [
      "MultinomialNB(alpha=1.0, class_prior=None, fit_prior=True)\n",
      "0.713375796178\n",
      "accuracy: 0.713375796178\n",
      "             precision    recall  f1-score   support\n",
      "\n",
      "   actually       0.00      0.00      0.00        28\n",
      "       area       0.00      0.00      0.00         1\n",
      "        ask       0.00      0.00      0.00        16\n",
      "   birthday       0.71      1.00      0.83       112\n",
      "\n",
      "avg / total       0.51      0.71      0.59       157\n",
      "\n"
     ]
    }
   ],
   "source": [
    "# Multinomial Naive Bayes\n",
    "from sklearn.naive_bayes import MultinomialNB\n",
    "\n",
    "# fit a Naive_Bayes_model to the data\n",
    "NaiveBayes_pre = MultinomialNB()\n",
    "print NaiveBayes_pre\n",
    "NaiveBayes_pre.fit(X1_train, y1_train)\n",
    "\n",
    "# make predictions\n",
    "clf2_expected = y1_test\n",
    "clf2_predicted = NaiveBayes_pre.predict(X1_test)\n",
    "\n",
    "print NaiveBayes_pre.score(X1_test, y1_test)\n",
    "\n",
    "# summarize the fit of the Naivebayes\n",
    "print(\"accuracy: \" + str(metrics.accuracy_score(clf2_expected, clf2_predicted)))\n",
    "print(metrics.classification_report(clf2_expected, clf2_predicted))"
   ]
  },
  {
   "cell_type": "code",
   "execution_count": 52,
   "metadata": {
    "collapsed": false
   },
   "outputs": [
    {
     "name": "stdout",
     "output_type": "stream",
     "text": [
      "LogisticRegression(C=1.0, class_weight=None, dual=False, fit_intercept=True,\n",
      "          intercept_scaling=1, max_iter=100, multi_class='ovr', n_jobs=1,\n",
      "          penalty='l2', random_state=50, solver='liblinear', tol=0.0001,\n",
      "          verbose=0, warm_start=False)\n",
      "0.713375796178\n",
      "accuracy: 0.713375796178\n",
      "             precision    recall  f1-score   support\n",
      "\n",
      "   actually       0.00      0.00      0.00        28\n",
      "       area       0.00      0.00      0.00         1\n",
      "        ask       0.00      0.00      0.00        16\n",
      "   birthday       0.71      1.00      0.83       112\n",
      "\n",
      "avg / total       0.51      0.71      0.59       157\n",
      "\n"
     ]
    }
   ],
   "source": [
    "# Logistic Regression\n",
    "from sklearn.linear_model import LogisticRegression\n",
    "\n",
    "# fit a logistic regression model to the data\n",
    "logit_pre = LogisticRegression(random_state = 50)\n",
    "print logit_pre\n",
    "logit_pre.fit(X1_train, y1_train)\n",
    "print logit_pre.score(X1_test, y1_test)\n",
    "\n",
    "# make predictions\n",
    "clf3_expected = y1_test\n",
    "clf3_predicted = logit_pre.predict(X1_test)\n",
    "\n",
    "# summarize the fit of the logit_pre_model\n",
    "print(\"accuracy: \" + str(metrics.accuracy_score(clf3_expected, clf3_predicted)))\n",
    "print(metrics.classification_report(clf3_expected, clf3_predicted))"
   ]
  },
  {
   "cell_type": "code",
   "execution_count": 53,
   "metadata": {
    "collapsed": false
   },
   "outputs": [
    {
     "data": {
      "text/html": [
       "<div>\n",
       "<table border=\"1\" class=\"dataframe\">\n",
       "  <thead>\n",
       "    <tr style=\"text-align: right;\">\n",
       "      <th></th>\n",
       "      <th>Model NO</th>\n",
       "      <th>Name</th>\n",
       "      <th>Processing Parameters</th>\n",
       "      <th>Model Accuracy</th>\n",
       "    </tr>\n",
       "  </thead>\n",
       "  <tbody>\n",
       "    <tr>\n",
       "      <th>0</th>\n",
       "      <td>Model 1</td>\n",
       "      <td>PCAclusters_Decision Tree</td>\n",
       "      <td>binary=False, stop_words=\"english\", use_idf = False, norm = \"l1\",\"lowercase=True, max_df=0.95, min_df=0.05, ngram_range = (1,2)\"</td>\n",
       "      <td>0.764331</td>\n",
       "    </tr>\n",
       "    <tr>\n",
       "      <th>3</th>\n",
       "      <td>Model 4</td>\n",
       "      <td>PCAclusters_Decision Tree</td>\n",
       "      <td>binary=False, stop_words=\"english\", use_idf = False, norm = \"l1\",\"lowercase=True, max_df=0.95, min_df=0.05, ngram_range = (1,2)\"</td>\n",
       "      <td>0.764331</td>\n",
       "    </tr>\n",
       "    <tr>\n",
       "      <th>1</th>\n",
       "      <td>Model 2</td>\n",
       "      <td>PCAclusters_Naive Bayes</td>\n",
       "      <td>binary=False, stop_words=\"english\", use_idf = False, norm = \"l1\",\"lowercase=True, max_df=0.95, min_df=0.05, ngram_range = (1,2)\"</td>\n",
       "      <td>0.713376</td>\n",
       "    </tr>\n",
       "    <tr>\n",
       "      <th>2</th>\n",
       "      <td>Model 3</td>\n",
       "      <td>PCAclusters_Logistic Regression</td>\n",
       "      <td>binary=False, stop_words=\"english\", use_idf = False, norm = \"l1\", \"lowercase=True, max_df=0.95, min_df=0.05, ngram_range = (1,2)\"</td>\n",
       "      <td>0.713376</td>\n",
       "    </tr>\n",
       "    <tr>\n",
       "      <th>4</th>\n",
       "      <td>Model 5</td>\n",
       "      <td>PCAclusters_Naive Bayes</td>\n",
       "      <td>binary=False, stop_words=\"english\", use_idf = False, norm = \"l1\",\"lowercase=True, max_df=0.95, min_df=0.05, ngram_range = (1,2)\"</td>\n",
       "      <td>0.713376</td>\n",
       "    </tr>\n",
       "    <tr>\n",
       "      <th>5</th>\n",
       "      <td>Model 6</td>\n",
       "      <td>PCAclusters_Logistic Regression</td>\n",
       "      <td>binary=False, stop_words=\"english\", use_idf = False, norm = \"l1\", \"lowercase=True, max_df=0.95, min_df=0.05, ngram_range = (1,2)\"</td>\n",
       "      <td>0.713376</td>\n",
       "    </tr>\n",
       "  </tbody>\n",
       "</table>\n",
       "</div>"
      ],
      "text/plain": [
       "  Model NO                             Name  \\\n",
       "0  Model 1        PCAclusters_Decision Tree   \n",
       "3  Model 4        PCAclusters_Decision Tree   \n",
       "1  Model 2          PCAclusters_Naive Bayes   \n",
       "2  Model 3  PCAclusters_Logistic Regression   \n",
       "4  Model 5          PCAclusters_Naive Bayes   \n",
       "5  Model 6  PCAclusters_Logistic Regression   \n",
       "\n",
       "                                                                                                               Processing Parameters  \\\n",
       "0   binary=False, stop_words=\"english\", use_idf = False, norm = \"l1\",\"lowercase=True, max_df=0.95, min_df=0.05, ngram_range = (1,2)\"   \n",
       "3   binary=False, stop_words=\"english\", use_idf = False, norm = \"l1\",\"lowercase=True, max_df=0.95, min_df=0.05, ngram_range = (1,2)\"   \n",
       "1   binary=False, stop_words=\"english\", use_idf = False, norm = \"l1\",\"lowercase=True, max_df=0.95, min_df=0.05, ngram_range = (1,2)\"   \n",
       "2  binary=False, stop_words=\"english\", use_idf = False, norm = \"l1\", \"lowercase=True, max_df=0.95, min_df=0.05, ngram_range = (1,2)\"   \n",
       "4   binary=False, stop_words=\"english\", use_idf = False, norm = \"l1\",\"lowercase=True, max_df=0.95, min_df=0.05, ngram_range = (1,2)\"   \n",
       "5  binary=False, stop_words=\"english\", use_idf = False, norm = \"l1\", \"lowercase=True, max_df=0.95, min_df=0.05, ngram_range = (1,2)\"   \n",
       "\n",
       "   Model Accuracy  \n",
       "0        0.764331  \n",
       "3        0.764331  \n",
       "1        0.713376  \n",
       "2        0.713376  \n",
       "4        0.713376  \n",
       "5        0.713376  "
      ]
     },
     "execution_count": 53,
     "metadata": {},
     "output_type": "execute_result"
    }
   ],
   "source": [
    "df.loc[len(df)]=['Model 4','PCAclusters_Decision Tree','binary=False, stop_words=\"english\", use_idf = False, norm = \"l1\",\"lowercase=True, max_df=0.95, min_df=0.05, ngram_range = (1,2)\"',\n",
    "                 DecisionTree_pre.score(X1_test,y1_test)]\n",
    "df.loc[len(df)]=['Model 5','PCAclusters_Naive Bayes','binary=False, stop_words=\"english\", use_idf = False, norm = \"l1\",\"lowercase=True, max_df=0.95, min_df=0.05, ngram_range = (1,2)\"',\n",
    "                 NaiveBayes_pre.score(X1_test, y1_test)]\n",
    "df.loc[len(df)]=['Model 6','PCAclusters_Logistic Regression','binary=False, stop_words=\"english\", use_idf = False, norm = \"l1\", \"lowercase=True, max_df=0.95, min_df=0.05, ngram_range = (1,2)\"',\n",
    "                 NaiveBayes_pre.score(X1_test, y1_test)]\n",
    "result = df.sort_values(by= 'Model Accuracy',ascending=False)\n",
    "result"
   ]
  },
  {
   "cell_type": "markdown",
   "metadata": {},
   "source": [
    "### Model is doing equally good in terms of predicting the top word for these clusters"
   ]
  }
 ],
 "metadata": {
  "kernelspec": {
   "display_name": "Python 2",
   "language": "python",
   "name": "python2"
  },
  "language_info": {
   "codemirror_mode": {
    "name": "ipython",
    "version": 2
   },
   "file_extension": ".py",
   "mimetype": "text/x-python",
   "name": "python",
   "nbconvert_exporter": "python",
   "pygments_lexer": "ipython2",
   "version": "2.7.11"
  }
 },
 "nbformat": 4,
 "nbformat_minor": 0
}
