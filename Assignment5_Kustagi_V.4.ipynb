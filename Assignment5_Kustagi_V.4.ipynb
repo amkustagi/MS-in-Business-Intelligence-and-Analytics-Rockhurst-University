{
 "cells": [
  {
   "cell_type": "markdown",
   "metadata": {},
   "source": [
    "### Q1.  In no more than a paragraph, outline your final project. What question are you looking to answer?  What text are you using?  With whom are you working? (Note:  you will not be strictly held to this description since there are still techniques that we will cover in class. This is meant to get people thinking about how to get started more than a week before the project is due.) (5 pts.)\n",
    "\n",
    "I'm working with Paxton Butler. We are using Presidential Candidates debates to predict how they will react for the upcoming presidential candidates debates in the future. For instance, considering all the Donald Trump past debates to analyze how he reacts on particular topic and using these results to predict how he reacts in the future on certain topics."
   ]
  },
  {
   "cell_type": "code",
   "execution_count": 1,
   "metadata": {
    "collapsed": true
   },
   "outputs": [],
   "source": [
    "#annoying bit about python: lack of native floating point division\n",
    "from __future__ import division"
   ]
  },
  {
   "cell_type": "markdown",
   "metadata": {},
   "source": [
    "#### I'm scrapping the same text compared to the previous assignment, these are some of the comments on a seafood brand - 'Red Lobster' from Yelp.com and pedicting the sentiments using different models"
   ]
  },
  {
   "cell_type": "code",
   "execution_count": 2,
   "metadata": {
    "collapsed": true
   },
   "outputs": [],
   "source": [
    "from urllib import urlopen\n",
    "import pandas as pd\n",
    "import requests\n",
    "from bs4 import BeautifulSoup\n",
    "pd.set_option('display.max_colwidth', 1250) #important for getting all the text"
   ]
  },
  {
   "cell_type": "code",
   "execution_count": 3,
   "metadata": {
    "collapsed": true
   },
   "outputs": [],
   "source": [
    "#Looping\n",
    "def spider(max_pages):\n",
    "    page = 0\n",
    "    html = BeautifulSoup().findAll() # initiate variable as a bs4 result set outside of while loop \n",
    "    while page <= max_pages:\n",
    "        theurl = \"http://www.yelp.com/biz/red-lobster-new-york-2?start=\" + str(page)\n",
    "        source_code = requests.get(theurl)\n",
    "        plain_text = source_code.text\n",
    "        soup = BeautifulSoup(plain_text)\n",
    "        html = html + soup.findAll(\"div\",{\"class\":\"review-content\"} )\n",
    "        page = page + 20\n",
    "    return html"
   ]
  },
  {
   "cell_type": "code",
   "execution_count": 4,
   "metadata": {
    "collapsed": true
   },
   "outputs": [],
   "source": [
    "# function to pick the data\n",
    "def toDataFrame(html):\n",
    "    DataSet = pd.DataFrame()\n",
    "    DataSet['comment'] = [comments.find('p').text for comments in html]\n",
    "    DataSet['date'] = [comments.find('span').text.replace('\\n','').replace(' ','') for comments in html]\n",
    "    return DataSet"
   ]
  },
  {
   "cell_type": "code",
   "execution_count": 6,
   "metadata": {
    "collapsed": false
   },
   "outputs": [],
   "source": [
    "#Pass the list to the above function to create a DataFrame\n",
    "data_frame = toDataFrame(spider(500))"
   ]
  },
  {
   "cell_type": "code",
   "execution_count": 7,
   "metadata": {
    "collapsed": false
   },
   "outputs": [
    {
     "name": "stdout",
     "output_type": "stream",
     "text": [
      "(391, 2)\n"
     ]
    }
   ],
   "source": [
    "print data_frame.shape"
   ]
  },
  {
   "cell_type": "code",
   "execution_count": 8,
   "metadata": {
    "collapsed": true
   },
   "outputs": [],
   "source": [
    "data_frame.head(10)\n",
    "data_frame.to_csv(\"final1.csv\", encoding='utf-8')"
   ]
  },
  {
   "cell_type": "code",
   "execution_count": 9,
   "metadata": {
    "collapsed": false
   },
   "outputs": [
    {
     "name": "stdout",
     "output_type": "stream",
     "text": [
      "(391, 2)\n"
     ]
    },
    {
     "data": {
      "text/html": [
       "<div>\n",
       "<table border=\"1\" class=\"dataframe\">\n",
       "  <thead>\n",
       "    <tr style=\"text-align: right;\">\n",
       "      <th></th>\n",
       "      <th>comment</th>\n",
       "      <th>date</th>\n",
       "    </tr>\n",
       "  </thead>\n",
       "  <tbody>\n",
       "    <tr>\n",
       "      <th>0</th>\n",
       "      <td>Ugh, you guys made me so happy tonight and don't even know it. I wanted to keep it simple tonight and went for Red Lobster in Times Square. It was also one of the restaurants close to Port Authority. If I can give anyone advice, it would be to sit at the bar, you'll get your food faster. But I also visited after hours so there was barely anyone there. Based on the receipt, my waitress was Doly? Girl, thank you! She was so sweet and kind and her partner was also. He (I didn't get his name) actually suggested the mojito for me because I had not tried it before and low and behold! It tasted exactly like my grandma's lemonade. So either they didn't make it right or my grandma has been sneaking in some good stuff and trying to get us tipsy all along. *scratches head* Either way, I loved it. The only thing I'm kinda not happy about was my $45 tab. Like. Really. I was by myself. How did I do that? Trust me when I tell you that I suck at saving and never mind the fact that food is my life.. I will spend my entire paycheck at one restaurant. Trust and believe me! Anyway, thank you Red Lobster.. For being there when I needed you the most and for taking all my money.</td>\n",
       "      <td>5/6/2016</td>\n",
       "    </tr>\n",
       "    <tr>\n",
       "      <th>1</th>\n",
       "      <td>I was here with my friend because we were in the area and needed to kill time before our next move. Long story short, I saw a mouse scurry across the room. I didn't want to make a big deal of it. I told the waiter. Literally nothing was done. He didn't update us saying he'd told the manager about it or ask me any additional questions at all. He just said \"okay\". Like....I am in your restaurant telling you I just saw a mouse. This was in the early evening (4 ish) and was not busy at all. He just really lacked customer service. I definitely will not be returning here.</td>\n",
       "      <td>5/19/2016</td>\n",
       "    </tr>\n",
       "  </tbody>\n",
       "</table>\n",
       "</div>"
      ],
      "text/plain": [
       "                                                                                                                                                                                                                                                                                                                                                                                                                                                                                                                                                                                                                                                                                                                                                                                                                                                                                                                                                                                                                                                                                                                                                                                                                  comment  \\\n",
       "0  Ugh, you guys made me so happy tonight and don't even know it. I wanted to keep it simple tonight and went for Red Lobster in Times Square. It was also one of the restaurants close to Port Authority. If I can give anyone advice, it would be to sit at the bar, you'll get your food faster. But I also visited after hours so there was barely anyone there. Based on the receipt, my waitress was Doly? Girl, thank you! She was so sweet and kind and her partner was also. He (I didn't get his name) actually suggested the mojito for me because I had not tried it before and low and behold! It tasted exactly like my grandma's lemonade. So either they didn't make it right or my grandma has been sneaking in some good stuff and trying to get us tipsy all along. *scratches head* Either way, I loved it. The only thing I'm kinda not happy about was my $45 tab. Like. Really. I was by myself. How did I do that? Trust me when I tell you that I suck at saving and never mind the fact that food is my life.. I will spend my entire paycheck at one restaurant. Trust and believe me! Anyway, thank you Red Lobster.. For being there when I needed you the most and for taking all my money.   \n",
       "1                                                                                                                                                                                                                                                                                                                                                                                                                                                                                                                                                                                                                            I was here with my friend because we were in the area and needed to kill time before our next move. Long story short, I saw a mouse scurry across the room. I didn't want to make a big deal of it. I told the waiter. Literally nothing was done. He didn't update us saying he'd told the manager about it or ask me any additional questions at all. He just said \"okay\". Like....I am in your restaurant telling you I just saw a mouse. This was in the early evening (4 ish) and was not busy at all. He just really lacked customer service. I definitely will not be returning here.   \n",
       "\n",
       "        date  \n",
       "0   5/6/2016  \n",
       "1  5/19/2016  "
      ]
     },
     "execution_count": 9,
     "metadata": {},
     "output_type": "execute_result"
    }
   ],
   "source": [
    "pathname = \"C:/Anaconda2/AText Mining/Week 5/Assignment 5/\"\n",
    "filename = pathname+\"final1.csv\"\n",
    "reviewdf = pd.read_csv(filename, index_col = 0) \n",
    "print reviewdf.shape\n",
    "reviewdf.head(2)"
   ]
  },
  {
   "cell_type": "markdown",
   "metadata": {},
   "source": [
    "### Sentiment Analysis using Afinn"
   ]
  },
  {
   "cell_type": "code",
   "execution_count": 10,
   "metadata": {
    "collapsed": false
   },
   "outputs": [
    {
     "name": "stdout",
     "output_type": "stream",
     "text": [
      "<type 'dict'> 2477\n",
      "abandon => -2\n",
      "abandoned => -2\n",
      "abandons => -2\n",
      "abducted => -2\n",
      "abduction => -2\n",
      "~~~~~~~~~~~~\n",
      "yucky => -2\n",
      "yummy => 3\n",
      "zealot => -2\n",
      "zealots => -2\n",
      "zealous => 2\n"
     ]
    }
   ],
   "source": [
    "#some dictionaries assign a value - like the positivity measure in the reviews \n",
    "afinn = dict(map(lambda (k,v): (k,int(v)), [ line.split('\\t') for line in open(pathname+\"AAFINN-111.txt\") ]))\n",
    "print type(afinn), len(afinn)\n",
    "for key, value in sorted(afinn.items())[0:5]:\n",
    "    print key + \" => \" + str(value)\n",
    "print \"~~~~~~~~~~~~\"\n",
    "for key, value in sorted(afinn.items())[2472:]:\n",
    "    print key + \" => \" + str(value)"
   ]
  },
  {
   "cell_type": "code",
   "execution_count": 11,
   "metadata": {
    "collapsed": true
   },
   "outputs": [],
   "source": [
    "def afinn_sent(inputstring):\n",
    "    \n",
    "    sentcount =0\n",
    "    for word in inputstring.split():  \n",
    "        if word in afinn:\n",
    "            sentcount = sentcount + afinn[word]\n",
    "            \n",
    "    \n",
    "    if (sentcount < 0):\n",
    "        sentiment = 'Negative Comment'\n",
    "    elif (sentcount >0):\n",
    "        sentiment = 'Positive Comment'\n",
    "    else:\n",
    "        sentiment = 'Neutral Opinion'\n",
    "    \n",
    "    return sentiment\n",
    "    #return sentcount"
   ]
  },
  {
   "cell_type": "code",
   "execution_count": 12,
   "metadata": {
    "collapsed": false
   },
   "outputs": [
    {
     "data": {
      "text/html": [
       "<div>\n",
       "<table border=\"1\" class=\"dataframe\">\n",
       "  <thead>\n",
       "    <tr style=\"text-align: right;\">\n",
       "      <th></th>\n",
       "      <th>comment</th>\n",
       "      <th>afinn</th>\n",
       "    </tr>\n",
       "  </thead>\n",
       "  <tbody>\n",
       "    <tr>\n",
       "      <th>310</th>\n",
       "      <td>I went there last week, ordered the surf and turf. The steak was decent a little chewy but tasted good, the lobster was pure rubber. Not let me talk about the potatoes. To start they were cold, the first piece was fine, cold but fine. The second piece felt like a sponge, releasing water (at least I hope) as I pressed between my teethes. This made me nauseous at least by this time I was almost done with my meal.I won't come back to this place again.</td>\n",
       "      <td>Positive Comment</td>\n",
       "    </tr>\n",
       "    <tr>\n",
       "      <th>311</th>\n",
       "      <td>With family in town with a hunger for seafood at a decent price, we headed to Red Lobster in Times Square. We went for lunch on a Wednesday afternoon, around 12:30 P.M. There were a decent number of people on the upper floor where we sat, but there was no wait time. As expected, the prices were about $5-$6 more a plate than what you would expect to pay in a typical suburban Red Lobster. Our waiter was friendly enough, though it did take a decent amount of time to get our drinks. It really wasn't possible to get his attention during the meal, so we weren't able to get the infamous cheesy biscuits refilled. He came by at one point and said our order was up and he would be bring it by in just a minute. About 10 minutes later, he showed up with the food. Hmm...?As for the meal, the food was what you would expect to find in any Red Lobster. If you're a fan of fried shrimp, buttery lobster, or grilled fish, you'll probably be happy with your selection. As other reviewers have noted, they do add an automatic 18% tip to the bill. I jokingly told my dad (who picked up the tab) not to tip well, since the server was pretty MIA during the meal. He's an excellent tipper and said, \"Too bad for the waiter, he'd have received a better tip fro...</td>\n",
       "      <td>Positive Comment</td>\n",
       "    </tr>\n",
       "  </tbody>\n",
       "</table>\n",
       "</div>"
      ],
      "text/plain": [
       "                                                                                                                                                                                                                                                                                                                                                                                                                                                                                                                                                                                                                                                                                                                                                                                                                                                                                                                                                                                                                                                                                                                                                                                                                                                                                               comment  \\\n",
       "310                                                                                                                                                                                                                                                                                                                                                                                                                                                                                                                                                                                                                                                                                                                                                                                                                               I went there last week, ordered the surf and turf. The steak was decent a little chewy but tasted good, the lobster was pure rubber. Not let me talk about the potatoes. To start they were cold, the first piece was fine, cold but fine. The second piece felt like a sponge, releasing water (at least I hope) as I pressed between my teethes. This made me nauseous at least by this time I was almost done with my meal.I won't come back to this place again.   \n",
       "311  With family in town with a hunger for seafood at a decent price, we headed to Red Lobster in Times Square. We went for lunch on a Wednesday afternoon, around 12:30 P.M. There were a decent number of people on the upper floor where we sat, but there was no wait time. As expected, the prices were about $5-$6 more a plate than what you would expect to pay in a typical suburban Red Lobster. Our waiter was friendly enough, though it did take a decent amount of time to get our drinks. It really wasn't possible to get his attention during the meal, so we weren't able to get the infamous cheesy biscuits refilled. He came by at one point and said our order was up and he would be bring it by in just a minute. About 10 minutes later, he showed up with the food. Hmm...?As for the meal, the food was what you would expect to find in any Red Lobster. If you're a fan of fried shrimp, buttery lobster, or grilled fish, you'll probably be happy with your selection. As other reviewers have noted, they do add an automatic 18% tip to the bill. I jokingly told my dad (who picked up the tab) not to tip well, since the server was pretty MIA during the meal. He's an excellent tipper and said, \"Too bad for the waiter, he'd have received a better tip fro...   \n",
       "\n",
       "                afinn  \n",
       "310  Positive Comment  \n",
       "311  Positive Comment  "
      ]
     },
     "execution_count": 12,
     "metadata": {},
     "output_type": "execute_result"
    }
   ],
   "source": [
    "reviewdf['afinn'] = map(lambda x: afinn_sent(x), reviewdf['comment'])\n",
    "reviewdf.iloc[310:312][['comment','afinn']]"
   ]
  },
  {
   "cell_type": "markdown",
   "metadata": {},
   "source": [
    "### T1. Create a simple bag of words (with all lowercase and no stop words) using your dataset. Identify the labels you will be trying to predict. Proceed to create a train test split of 60/40. \n",
    "Trying to predict sentiment using the bag of words by splitting data into 60:40 for testing the model. Initializing a simple vector space with No lower case and removing stop words"
   ]
  },
  {
   "cell_type": "code",
   "execution_count": 13,
   "metadata": {
    "collapsed": false
   },
   "outputs": [
    {
     "name": "stdout",
     "output_type": "stream",
     "text": [
      "(391, 4722)\n",
      "<type 'list'> 4722\n",
      "<type 'list'> 4722\n"
     ]
    },
    {
     "data": {
      "text/html": [
       "<div>\n",
       "<table border=\"1\" class=\"dataframe\">\n",
       "  <thead>\n",
       "    <tr style=\"text-align: right;\">\n",
       "      <th></th>\n",
       "      <th>count</th>\n",
       "    </tr>\n",
       "  </thead>\n",
       "  <tbody>\n",
       "    <tr>\n",
       "      <th>The</th>\n",
       "      <td>412</td>\n",
       "    </tr>\n",
       "    <tr>\n",
       "      <th>food</th>\n",
       "      <td>327</td>\n",
       "    </tr>\n",
       "    <tr>\n",
       "      <th>Lobster</th>\n",
       "      <td>307</td>\n",
       "    </tr>\n",
       "    <tr>\n",
       "      <th>Red</th>\n",
       "      <td>297</td>\n",
       "    </tr>\n",
       "    <tr>\n",
       "      <th>good</th>\n",
       "      <td>250</td>\n",
       "    </tr>\n",
       "  </tbody>\n",
       "</table>\n",
       "</div>"
      ],
      "text/plain": [
       "         count\n",
       "The        412\n",
       "food       327\n",
       "Lobster    307\n",
       "Red        297\n",
       "good       250"
      ]
     },
     "execution_count": 13,
     "metadata": {},
     "output_type": "execute_result"
    }
   ],
   "source": [
    "import pandas as pd\n",
    "import numpy as np\n",
    "from sklearn.feature_extraction.text import CountVectorizer, TfidfVectorizer\n",
    "# quick peak at unmunged feature space\n",
    "\n",
    "prelim = CountVectorizer(binary=False, lowercase = False, stop_words = 'english') \n",
    "prelim_dm = prelim.fit_transform(reviewdf['comment'])\n",
    "print prelim_dm.shape\n",
    "\n",
    "names = prelim.get_feature_names()\n",
    "print type(names), len(names)\n",
    "\n",
    "count = np.sum(prelim_dm.toarray(), axis = 0).tolist()\n",
    "print type(count), len(count)\n",
    "count_df = pd.DataFrame(count, index = names, columns = ['count'])\n",
    "\n",
    "count_df.sort_values(by=['count'], ascending = False).head(5)"
   ]
  },
  {
   "cell_type": "code",
   "execution_count": 14,
   "metadata": {
    "collapsed": false
   },
   "outputs": [
    {
     "name": "stdout",
     "output_type": "stream",
     "text": [
      "<type 'numpy.ndarray'>\n",
      "<type 'numpy.ndarray'>\n",
      "['Positive Comment' 'Negative Comment' 'Positive Comment'\n",
      " 'Positive Comment' 'Positive Comment']\n"
     ]
    }
   ],
   "source": [
    "# train test split\n",
    "# data are X, labels are y\n",
    "from sklearn.cross_validation import train_test_split\n",
    "\n",
    "X = prelim_dm.toarray()  #remember this is the output from the vectorizer\n",
    "print type(X)\n",
    "\n",
    "\n",
    "y = reviewdf['afinn'].values #this is an array of labels\n",
    "print type(y)\n",
    "\n",
    "print y[0:5]"
   ]
  },
  {
   "cell_type": "code",
   "execution_count": 15,
   "metadata": {
    "collapsed": false
   },
   "outputs": [
    {
     "name": "stdout",
     "output_type": "stream",
     "text": [
      "(234L, 4722L)\n",
      "(157L, 4722L)\n",
      "(234L,)\n",
      "(157L,)\n"
     ]
    }
   ],
   "source": [
    "X_train, X_test, y_train, y_test = train_test_split(X, y, test_size=0.4, random_state=50) #random_state is set seed\n",
    "\n",
    "# function creates 4 output structures - order matters\n",
    "print X_train.shape\n",
    "print X_test.shape\n",
    "print y_train.shape\n",
    "print y_test.shape"
   ]
  },
  {
   "cell_type": "code",
   "execution_count": 16,
   "metadata": {
    "collapsed": false
   },
   "outputs": [
    {
     "name": "stdout",
     "output_type": "stream",
     "text": [
      "0    Ugh, you guys made me so happy tonight and don't even know it. I wanted to keep it simple tonight and went for Red Lobster in Times Square. It was also one of the restaurants close to Port Authority. If I can give anyone advice, it would be to sit at the bar, you'll get your food faster. But I also visited after hours so there was barely anyone there. Based on the receipt, my waitress was Doly? Girl, thank you! She was so sweet and kind and her partner was also. He (I didn't get his name) actually suggested the mojito for me because I had not tried it before and low and behold! It tasted exactly like my grandma's lemonade. So either they didn't make it right or my grandma has been sneaking in some good stuff and trying to get us tipsy all along. *scratches head* Either way, I loved it. The only thing I'm kinda not happy about was my $45 tab. Like. Really. I was by myself. How did I do that? Trust me when I tell you that I suck at saving and never mind the fact that food is my life.. I will spend my entire paycheck at one restaurant. Trust and believe me! Anyway, thank you Red Lobster.. For being there when I needed you the most and for taking all my money.\n",
      "Name: comment, dtype: object\n",
      "~~~~~~~~~~~~\n",
      "0    Positive Comment\n",
      "Name: afinn, dtype: object\n",
      "~~~~~~~~~~~~~\n",
      "   00  000  00pm  06  10  100  1000  10min  10pm  11   ...    younger  youre  \\\n",
      "0   0    0     0   0   0    0     0      0     0   0   ...          0      0   \n",
      "\n",
      "   yuck  yum  yummy  zero  Époque  哈哈  在我心里依然五星  晕的找不着北  \n",
      "0     0    0      0     0       0   0         0       0  \n",
      "\n",
      "[1 rows x 4722 columns]\n"
     ]
    }
   ],
   "source": [
    "#so what are we working with?\n",
    "# We calculated sentiment indexes from the text\n",
    "print reviewdf['comment'][0:1]\n",
    "print \"~~~~~~~~~~~~\"\n",
    "print reviewdf['afinn'][0:1]\n",
    "print \"~~~~~~~~~~~~~\"\n",
    "#we created numeric representations of the text \n",
    "print pd.DataFrame(X,columns = prelim.get_feature_names())[0:1]\n",
    "\n",
    "#now we're going to use the feature space to try to predict the labels"
   ]
  },
  {
   "cell_type": "markdown",
   "metadata": {},
   "source": [
    "### T2. Using default model parameters, fit 3 classifiers (decision tree, naïve bayes, and logistic regression) to your dataset and subsequently generate predictions (just like we did in class). Feel free to set a random state variable where appropriate to facilitate replication"
   ]
  },
  {
   "cell_type": "markdown",
   "metadata": {},
   "source": [
    "Ref: https://www.quora.com/In-a-decision-tree-how-do-we-select-which-attribute-to-split-the-data-by-at-each-level\n",
    "Ref: https://www.quora.com/In-laymans-terms-how-does-Naive-Bayes-work\n",
    "\n",
    "### Q2. In your own words, describe the significance of the test dataset. What does the distribution of your target variable look like?  Describe what the 3 classifiers are doing differently and explain how that might affect the predictions. Which model would you expect to have the best performance? (5 pts)\n",
    "\n",
    "Test data set is created by Random Seed with 60:40 split, the above chart shows the overall distributions of sentiments. It says Positive Comments are more dominated by Negative Comments and followed by Neutral. \n",
    "\n",
    "List below are the 3 Methods used for Classification:\n",
    "\n",
    "##### A. Decision Trees:\n",
    "\n",
    "1. Compute entropy and info gain for each attribute.\n",
    "2. Sort the attributes in ascending order w.r.t. entropy (descending order for info gain)\n",
    "3. While attribute list is not empty or length (attribute list)>threshold, select the first attribute to be the root of the tree/subtree. \n",
    "4. Remove the attribute from the sorted list.\n",
    "5. Go to step 3\n",
    "\n",
    "##### B. Naive Bayes (Bayesian classifier):\n",
    "1. Assumptions: Naive model: a model that assumes that each independent variable is not affected by anything else, and that the value for the interaction between the independent and dependent variable is not related to the presence of anything else.\n",
    "\n",
    "##### C. Logistic Regression: \n",
    "1. Helps in predicting the categorical output data with the probability of the event occurring (In our case, probability of Positive Comment, Negative (or) Neutral Comment, higher the probability, the out will be classified accordingly)\n",
    "\n",
    "I would have to run, to check how these model behaves, but for these Multinomial classification I would go with Decision Trees for classification.\n",
    "\n",
    "### T1. Create a simple bag of words (with all lowercase and no stop words) using your dataset. Identify the labels you will be trying to predict. Proceed to create a train test split of 60/40. \n",
    "Trying to predict sentiment using the bag of words by splitting data into 60:40 for testing the model. Initializing a simple vector space with No lower case and removing stop words"
   ]
  },
  {
   "cell_type": "code",
   "execution_count": 17,
   "metadata": {
    "collapsed": false
   },
   "outputs": [
    {
     "data": {
      "text/plain": [
       "<matplotlib.axes._subplots.AxesSubplot at 0x9534518>"
      ]
     },
     "execution_count": 17,
     "metadata": {},
     "output_type": "execute_result"
    },
    {
     "data": {
      "image/png": "[encoded data removed]",
      "text/plain": [
       "<matplotlib.figure.Figure at 0x951cc88>"
      ]
     },
     "metadata": {},
     "output_type": "display_data"
    }
   ],
   "source": [
    "%matplotlib inline\n",
    "import matplotlib as mpl\n",
    "import matplotlib.pyplot as plt\n",
    "\n",
    "# get a feel for the distribution\n",
    "reviewdf['afinn'].value_counts().plot(kind='bar')"
   ]
  },
  {
   "cell_type": "markdown",
   "metadata": {},
   "source": [
    "## 1.  Decision Tree"
   ]
  },
  {
   "cell_type": "code",
   "execution_count": 18,
   "metadata": {
    "collapsed": false
   },
   "outputs": [
    {
     "name": "stdout",
     "output_type": "stream",
     "text": [
      "0.668789808917\n",
      "accuracy: 0.668789808917\n",
      "             precision    recall  f1-score   support\n",
      "\n",
      "Negative Comment       0.28      0.55      0.37        20\n",
      "Neutral Opinion       0.30      0.14      0.19        22\n",
      "Positive Comment       0.84      0.79      0.82       115\n",
      "\n",
      "avg / total       0.70      0.67      0.67       157\n",
      "\n"
     ]
    }
   ],
   "source": [
    "# Decision Tree Classifier\n",
    "from sklearn import metrics\n",
    "from sklearn.tree import DecisionTreeClassifier\n",
    "\n",
    "# fit a CART_model to the data\n",
    "DecisionTree_pre = DecisionTreeClassifier(random_state = 50)\n",
    "DecisionTree_pre.fit(X_train, y_train)\n",
    "\n",
    "# make predictions\n",
    "clf1_expected = y_test\n",
    "clf1_predicted = DecisionTree_pre.predict(X_test)\n",
    "\n",
    "\n",
    "print DecisionTree_pre.score(X_test,y_test)\n",
    "\n",
    "# summarize the fit of the CART_Model\n",
    "print(\"accuracy: \" + str(metrics.accuracy_score(clf1_expected, clf1_predicted)))\n",
    "print(metrics.classification_report(clf1_expected, clf1_predicted))"
   ]
  },
  {
   "cell_type": "markdown",
   "metadata": {},
   "source": [
    "## 2. Naive Bayes"
   ]
  },
  {
   "cell_type": "code",
   "execution_count": 19,
   "metadata": {
    "collapsed": false
   },
   "outputs": [
    {
     "name": "stdout",
     "output_type": "stream",
     "text": [
      "MultinomialNB(alpha=1.0, class_prior=None, fit_prior=True)\n",
      "0.738853503185\n",
      "accuracy: 0.738853503185\n",
      "             precision    recall  f1-score   support\n",
      "\n",
      "Negative Comment       0.33      0.10      0.15        20\n",
      "Neutral Opinion       0.00      0.00      0.00        22\n",
      "Positive Comment       0.76      0.99      0.86       115\n",
      "\n",
      "avg / total       0.60      0.74      0.65       157\n",
      "\n"
     ]
    }
   ],
   "source": [
    "# Multinomial Naive Bayes\n",
    "from sklearn.naive_bayes import MultinomialNB\n",
    "\n",
    "# fit a Naive_Bayes_model to the data\n",
    "NaiveBayes_pre = MultinomialNB()\n",
    "print NaiveBayes_pre\n",
    "NaiveBayes_pre.fit(X_train, y_train)\n",
    "\n",
    "# make predictions\n",
    "clf2_expected = y_test\n",
    "clf2_predicted = NaiveBayes_pre.predict(X_test)\n",
    "\n",
    "print NaiveBayes_pre.score(X_test, y_test)\n",
    "\n",
    "# summarize the fit of the Naivebayes\n",
    "print(\"accuracy: \" + str(metrics.accuracy_score(clf2_expected, clf2_predicted)))\n",
    "print(metrics.classification_report(clf2_expected, clf2_predicted))"
   ]
  },
  {
   "cell_type": "markdown",
   "metadata": {},
   "source": [
    "## 3. Logistic Regression"
   ]
  },
  {
   "cell_type": "code",
   "execution_count": 20,
   "metadata": {
    "collapsed": false
   },
   "outputs": [
    {
     "name": "stdout",
     "output_type": "stream",
     "text": [
      "LogisticRegression(C=1.0, class_weight=None, dual=False, fit_intercept=True,\n",
      "          intercept_scaling=1, max_iter=100, multi_class='ovr', n_jobs=1,\n",
      "          penalty='l2', random_state=50, solver='liblinear', tol=0.0001,\n",
      "          verbose=0, warm_start=False)\n",
      "0.732484076433\n",
      "accuracy: 0.732484076433\n",
      "             precision    recall  f1-score   support\n",
      "\n",
      "Negative Comment       0.33      0.20      0.25        20\n",
      "Neutral Opinion       0.33      0.09      0.14        22\n",
      "Positive Comment       0.78      0.95      0.86       115\n",
      "\n",
      "avg / total       0.66      0.73      0.68       157\n",
      "\n"
     ]
    }
   ],
   "source": [
    "# Logistic Regression\n",
    "from sklearn.linear_model import LogisticRegression\n",
    "\n",
    "# fit a logistic regression model to the data\n",
    "logit_pre = LogisticRegression(random_state = 50)\n",
    "print logit_pre\n",
    "logit_pre.fit(X_train, y_train)\n",
    "print logit_pre.score(X_test, y_test)\n",
    "\n",
    "# make predictions\n",
    "clf3_expected = y_test\n",
    "clf3_predicted = logit_pre.predict(X_test)\n",
    "\n",
    "# summarize the fit of the logit_pre_model\n",
    "print(\"accuracy: \" + str(metrics.accuracy_score(clf3_expected, clf3_predicted)))\n",
    "print(metrics.classification_report(clf3_expected, clf3_predicted))"
   ]
  },
  {
   "cell_type": "markdown",
   "metadata": {},
   "source": [
    "### T3. Assess the performance of the models using any of the measures (confusion matrices, precision, recall, f1-score, and accuracy)\n",
    "By comparing the Accuracy of the different models, Naive Bayes is doing better over the other two model. In fact, Naive Bayes and Logistics Regression models have almost gives the same accurate results."
   ]
  },
  {
   "cell_type": "markdown",
   "metadata": {},
   "source": [
    "### Confusion Matrix"
   ]
  },
  {
   "cell_type": "markdown",
   "metadata": {},
   "source": [
    "### Q3. What information is the confusion matrix conveying? What would be indicative of good performance? (5 pts)\n",
    "\n",
    "Confusion Matrix gives the details of classification and Miss Classification. The accuracy is good indicative of good indicator on performance. Below matrix should how the 3 models are performing with Accuracy Scores."
   ]
  },
  {
   "cell_type": "code",
   "execution_count": 21,
   "metadata": {
    "collapsed": false
   },
   "outputs": [
    {
     "data": {
      "image/png": "[encoded data removed]",
      "text/plain": [
       "<matplotlib.figure.Figure at 0xcd65eb8>"
      ]
     },
     "metadata": {},
     "output_type": "display_data"
    },
    {
     "name": "stdout",
     "output_type": "stream",
     "text": [
      "[[11  1  8]\n",
      " [10  3  9]\n",
      " [18  6 91]]\n",
      "0.668789808917\n"
     ]
    },
    {
     "data": {
      "image/png": "[encoded data removed]",
      "text/plain": [
       "<matplotlib.figure.Figure at 0xcddd9b0>"
      ]
     },
     "metadata": {},
     "output_type": "display_data"
    },
    {
     "name": "stdout",
     "output_type": "stream",
     "text": [
      "[[  2   0  18]\n",
      " [  4   0  18]\n",
      " [  0   1 114]]\n",
      "0.738853503185\n"
     ]
    },
    {
     "data": {
      "image/png": "[encoded data removed]",
      "text/plain": [
       "<matplotlib.figure.Figure at 0xcd73400>"
      ]
     },
     "metadata": {},
     "output_type": "display_data"
    },
    {
     "name": "stdout",
     "output_type": "stream",
     "text": [
      "[[  4   3  13]\n",
      " [  3   2  17]\n",
      " [  5   1 109]]\n",
      "0.732484076433\n"
     ]
    }
   ],
   "source": [
    "# display confusion matrix\n",
    "def create_cm(t1, t2):\n",
    "    cm = metrics.confusion_matrix(t1, t2)\n",
    "    cm_accuracy =  metrics.accuracy_score(t1,t2)\n",
    "    plt.matshow(cm)\n",
    "    plt.title('Confusion matrix')\n",
    "    plt.colorbar()\n",
    "    plt.ylabel('True label')\n",
    "    plt.xlabel('Predicted label')\n",
    "    plt.show()\n",
    "    print(cm)\n",
    "    print  (cm_accuracy)\n",
    "\n",
    "create_cm(clf1_expected, clf1_predicted)\n",
    "create_cm(clf2_expected, clf2_predicted)\n",
    "create_cm(clf3_expected, clf3_predicted)"
   ]
  },
  {
   "cell_type": "markdown",
   "metadata": {},
   "source": [
    "### T4. Create a new dataframe called ‘model_performance’ with 3 columns (model_name, processing/parameters, model_accuracy) and append the name of the model, a short description of what preprocessing or parameter settings you used, and the model’s accuracy after each run."
   ]
  },
  {
   "cell_type": "code",
   "execution_count": 22,
   "metadata": {
    "collapsed": false
   },
   "outputs": [
    {
     "data": {
      "text/html": [
       "<div>\n",
       "<table border=\"1\" class=\"dataframe\">\n",
       "  <thead>\n",
       "    <tr style=\"text-align: right;\">\n",
       "      <th></th>\n",
       "      <th>Model NO</th>\n",
       "      <th>Name</th>\n",
       "      <th>Processing Parameters</th>\n",
       "      <th>Model Accuracy</th>\n",
       "    </tr>\n",
       "  </thead>\n",
       "  <tbody>\n",
       "    <tr>\n",
       "      <th>1</th>\n",
       "      <td>Model 2</td>\n",
       "      <td>Prelim_Reviews_Naive Bayes</td>\n",
       "      <td>binary=False, lowercase = False, stop_words = \"english\"</td>\n",
       "      <td>0.738854</td>\n",
       "    </tr>\n",
       "    <tr>\n",
       "      <th>2</th>\n",
       "      <td>Model 3</td>\n",
       "      <td>Prelim_Reviews_Logistic Regression</td>\n",
       "      <td>binary=False, lowercase = False, stop_words = \"english\"</td>\n",
       "      <td>0.738854</td>\n",
       "    </tr>\n",
       "    <tr>\n",
       "      <th>0</th>\n",
       "      <td>Model 1</td>\n",
       "      <td>Prelim_Reviews_Decision Tree</td>\n",
       "      <td>binary=False, lowercase = False, stop_words = \"english\"</td>\n",
       "      <td>0.668790</td>\n",
       "    </tr>\n",
       "  </tbody>\n",
       "</table>\n",
       "</div>"
      ],
      "text/plain": [
       "  Model NO                                Name  \\\n",
       "1  Model 2          Prelim_Reviews_Naive Bayes   \n",
       "2  Model 3  Prelim_Reviews_Logistic Regression   \n",
       "0  Model 1        Prelim_Reviews_Decision Tree   \n",
       "\n",
       "                                     Processing Parameters  Model Accuracy  \n",
       "1  binary=False, lowercase = False, stop_words = \"english\"        0.738854  \n",
       "2  binary=False, lowercase = False, stop_words = \"english\"        0.738854  \n",
       "0  binary=False, lowercase = False, stop_words = \"english\"        0.668790  "
      ]
     },
     "execution_count": 22,
     "metadata": {},
     "output_type": "execute_result"
    }
   ],
   "source": [
    "df =\"\"\n",
    "columns = ['Model NO', 'Name', 'Processing Parameters','Model Accuracy']\n",
    "df = pd.DataFrame(columns=columns) \n",
    "df.loc[len(df)]=['Model 1','Prelim_Reviews_Decision Tree','binary=False, lowercase = False, stop_words = \"english\"',\n",
    "                 DecisionTree_pre.score(X_test,y_test)]\n",
    "df.loc[len(df)]=['Model 2','Prelim_Reviews_Naive Bayes','binary=False, lowercase = False, stop_words = \"english\"',\n",
    "                 NaiveBayes_pre.score(X_test, y_test)]\n",
    "df.loc[len(df)]=['Model 3','Prelim_Reviews_Logistic Regression','binary=False, lowercase = False, stop_words = \"english\"',\n",
    "                 NaiveBayes_pre.score(X_test, y_test)]\n",
    "result = df.sort_values(by= 'Model Accuracy',ascending=False)\n",
    "result"
   ]
  },
  {
   "cell_type": "markdown",
   "metadata": {},
   "source": [
    "### Q4. Which model performed the best? Was it the same model that you had initially suspected? (5 pts)\n",
    "Model with Naive Bayes is performing better over the other two models. Initially I thought Decision Tree could perform better in classification of multiple category."
   ]
  },
  {
   "cell_type": "markdown",
   "metadata": {},
   "source": [
    "### Dictionary to replace Item names, Cities, Restaurnt names etc.."
   ]
  },
  {
   "cell_type": "code",
   "execution_count": 23,
   "metadata": {
    "collapsed": true
   },
   "outputs": [],
   "source": [
    "# replace contractions\n",
    "import re\n",
    "\n",
    "# using dictionaries\n",
    "\n",
    "RLobster_dict = { 'chilled jumbo shrimp cocktail':'cjshrimp','parrot isle jumbo coconut shrimp':'pijcoco',\n",
    "                  'crispy shrimp lettuce wraps':'cslr', 'blueberry balsamic dressing':'bbdressing', \n",
    "                  'brown butter scampi':'bbscampi', 'cheddar bay biscuits': 'cbiscuits', 'jumbo coconut shrimp':'coco-shrimp',\n",
    "                  'bubba gump shrimp':'shrimp','red lobster':'rlob' ,\n",
    "                  'cheesy biscuits': 'cbiscuits', 'cheddar biscuits': 'cbiscuits', 'main course': 'mcourse', \n",
    "                  'endless shrimp':'eshrimp', 'coconut shrimp':'coco-shrimp', 'lobster pizza':'lpizza' , \n",
    "                  'shrimp linguini':'shrimp-linguini', 'crab linguini':'shrimp-linguini', 'shrimp scampi' : 'shrimp', \n",
    "                  'fried shrimp':'shrimp', 'shrimp alfredo':'shrimp','stuffed mushrooms':'mashroom', \n",
    "                 'shrimp cocktail':'cocktail', \n",
    "                  'caesar salad':'salad','pina colada':'pcolada','crab legs':'crab', 'new yorker': 'NYC', \n",
    "                 'ice cream':'ice-cream',  \n",
    "                  'lobster tacos':'tocos', 'lobster tails':'ltails','mozzarella sticks':'mozzsticks', \n",
    "                 'mahi tacos':'tocos',\n",
    "                  'lobster spinach dip':'lobspindip',  'jumbo fried shrimp':'jfshrimp','stuffed lobster tail':'slobtail', \n",
    "                  'sunset pina colada':'spcolada', 'shrimp alfredo pasta':'sapasta', 'crab cakes':'CC',\n",
    "                 'Crowne Plaza hotel':'cphotel',\n",
    "                 'grilled lobster':'glob', 'the ultimate feast':'Ultfest', 'meatier crab legs':'mcleg', \n",
    "                 'maine lobster tails': 'mltail', 'whipped cream':'wcream', 'Baked potato':'bakedpot', \n",
    "                 'garden salad':'gsalad', \n",
    "                 'chopped tomato':'ctomato', 'malibu hurricane':'mhurri' , 'iceberg lettuce':'icelettuce', \n",
    "                 'fried shrimp':'shrimp',\n",
    "                 'times square':'tsqr', 'times sq':'tsqr', 'new yorker':'nyc','new york':'nyc',\n",
    "                 'ruby tuesday':'rtues', 'olive garden':'oliveG', 'outback steakhouse':'obsteak', \n",
    "                 'strawberry pina colada': 'spcolada', 'endless shrimp promotion':'espromation', \n",
    "                 'lobster + sirloin combo':'lscombo'}\n",
    "\n",
    "\n",
    "def multiple_replace(dict, text): \n",
    "\n",
    "  \"\"\" Replace in 'text' all occurences of any key in the given\n",
    "  dictionary by its corresponding value.  Returns the new tring.\"\"\" \n",
    "  text = str(text).lower()\n",
    "\n",
    "  # Create a regular expression  from the dictionary keys\n",
    "  regex = re.compile(\"(%s)\" % \"|\".join(map(re.escape, dict.keys())))\n",
    "\n",
    "  # For each match, look-up corresponding value in dictionary\n",
    "  return regex.sub(lambda mo: dict[mo.string[mo.start():mo.end()]], text)\n",
    "\n"
   ]
  },
  {
   "cell_type": "code",
   "execution_count": 24,
   "metadata": {
    "collapsed": false
   },
   "outputs": [
    {
     "data": {
      "text/html": [
       "<div>\n",
       "<table border=\"1\" class=\"dataframe\">\n",
       "  <thead>\n",
       "    <tr style=\"text-align: right;\">\n",
       "      <th></th>\n",
       "      <th>comment</th>\n",
       "      <th>date</th>\n",
       "      <th>afinn</th>\n",
       "      <th>cleantext</th>\n",
       "    </tr>\n",
       "  </thead>\n",
       "  <tbody>\n",
       "    <tr>\n",
       "      <th>7</th>\n",
       "      <td>We had booked table half day in advance but were placed in an freezing cold  corner. We refused to give tips, which made waiter very irritating. Sad sad, since lobster and shrimps were fresh and well prepared.</td>\n",
       "      <td>7/5/2016</td>\n",
       "      <td>Negative Comment</td>\n",
       "      <td>we had booked table half day in advance but were placed in an freezing cold  corner. we refused to give tips, which made waiter very irritating. sad sad, since lobster and shrimps were fresh and well prepared.</td>\n",
       "    </tr>\n",
       "  </tbody>\n",
       "</table>\n",
       "</div>"
      ],
      "text/plain": [
       "                                                                                                                                                                                                             comment  \\\n",
       "7  We had booked table half day in advance but were placed in an freezing cold  corner. We refused to give tips, which made waiter very irritating. Sad sad, since lobster and shrimps were fresh and well prepared.   \n",
       "\n",
       "       date             afinn  \\\n",
       "7  7/5/2016  Negative Comment   \n",
       "\n",
       "                                                                                                                                                                                                           cleantext  \n",
       "7  we had booked table half day in advance but were placed in an freezing cold  corner. we refused to give tips, which made waiter very irritating. sad sad, since lobster and shrimps were fresh and well prepared.  "
      ]
     },
     "execution_count": 24,
     "metadata": {},
     "output_type": "execute_result"
    }
   ],
   "source": [
    "reviewdf['cleantext'] = map(lambda x: multiple_replace(RLobster_dict, x), reviewdf['comment'])\n",
    "reviewdf[7:8] "
   ]
  },
  {
   "cell_type": "markdown",
   "metadata": {},
   "source": [
    "### Customizing stopwords"
   ]
  },
  {
   "cell_type": "code",
   "execution_count": 25,
   "metadata": {
    "collapsed": false
   },
   "outputs": [
    {
     "name": "stdout",
     "output_type": "stream",
     "text": [
      "<type 'frozenset'>\n",
      "318\n",
      "frozenset(['all', 'six', 'less', 'being', 'indeed', 'over', 'move', 'anyway', 'four', 'not', 'own', 'through', 'yourselves', 'fify', 'where', 'mill', 'only', 'find', 'before', 'one', 'whose', 'system', 'how', 'somewhere', 'with', 'thick', 'show', 'had', 'enough', 'should', 'to', 'must', 'whom', 'seeming', 'under', 'ours', 'has', 'might', 'thereafter', 'latterly', 'do', 'them', 'his', 'around', 'than', 'get', 'very', 'de', 'none', 'cannot', 'every', 'whether', 'they', 'front', 'during', 'thus', 'now', 'him', 'nor', 'name', 'several', 'hereafter', 'always', 'who', 'cry', 'whither', 'this', 'someone', 'either', 'each', 'become', 'thereupon', 'sometime', 'side', 'two', 'therein', 'twelve', 'because', 'often', 'ten', 'our', 'eg', 'some', 'back', 'up', 'go', 'namely', 'towards', 'are', 'further', 'beyond', 'ourselves', 'yet', 'out', 'even', 'will', 'what', 'still', 'for', 'bottom', 'mine', 'since', 'please', 'forty', 'per', 'its', 'everything', 'behind', 'un', 'above', 'between', 'it', 'neither', 'seemed', 'ever', 'across', 'she', 'somehow', 'be', 'we', 'full', 'never', 'sixty', 'however', 'here', 'otherwise', 'were', 'whereupon', 'nowhere', 'although', 'found', 'alone', 're', 'along', 'fifteen', 'by', 'both', 'about', 'last', 'would', 'anything', 'via', 'many', 'could', 'thence', 'put', 'against', 'keep', 'etc', 'amount', 'became', 'ltd', 'hence', 'onto', 'or', 'con', 'among', 'already', 'co', 'afterwards', 'formerly', 'within', 'seems', 'into', 'others', 'while', 'whatever', 'except', 'down', 'hers', 'everyone', 'done', 'least', 'another', 'whoever', 'moreover', 'couldnt', 'throughout', 'anyhow', 'yourself', 'three', 'from', 'her', 'few', 'together', 'top', 'there', 'due', 'been', 'next', 'anyone', 'eleven', 'much', 'call', 'therefore', 'interest', 'then', 'thru', 'themselves', 'hundred', 'was', 'sincere', 'empty', 'more', 'himself', 'elsewhere', 'mostly', 'on', 'fire', 'am', 'becoming', 'hereby', 'amongst', 'else', 'part', 'everywhere', 'too', 'herself', 'former', 'those', 'he', 'me', 'myself', 'made', 'twenty', 'these', 'bill', 'cant', 'us', 'until', 'besides', 'nevertheless', 'below', 'anywhere', 'nine', 'can', 'of', 'toward', 'my', 'something', 'and', 'whereafter', 'whenever', 'give', 'almost', 'wherever', 'is', 'describe', 'beforehand', 'herein', 'an', 'as', 'itself', 'at', 'have', 'in', 'seem', 'whence', 'ie', 'any', 'fill', 'again', 'hasnt', 'inc', 'thereby', 'thin', 'no', 'perhaps', 'latter', 'meanwhile', 'when', 'detail', 'same', 'wherein', 'beside', 'also', 'that', 'other', 'take', 'which', 'becomes', 'you', 'if', 'nobody', 'see', 'though', 'may', 'after', 'upon', 'most', 'hereupon', 'eight', 'but', 'serious', 'nothing', 'such', 'your', 'why', 'a', 'off', 'whereby', 'third', 'i', 'whole', 'noone', 'sometimes', 'well', 'amoungst', 'yours', 'their', 'rather', 'without', 'so', 'five', 'the', 'first', 'whereas', 'once'])\n"
     ]
    }
   ],
   "source": [
    "from sklearn.feature_extraction import text \n",
    "\n",
    "skl_stopwords = text.ENGLISH_STOP_WORDS\n",
    "print type(skl_stopwords)\n",
    "print len(skl_stopwords)\n",
    "print(skl_stopwords)"
   ]
  },
  {
   "cell_type": "code",
   "execution_count": 26,
   "metadata": {
    "collapsed": false
   },
   "outputs": [
    {
     "name": "stdout",
     "output_type": "stream",
     "text": [
      "318\n",
      "314\n"
     ]
    }
   ],
   "source": [
    "#(['cannot', 'never', 'won', 'shouldn', 'couldn', 'mightn', 'couldn', 'don'])\n",
    "b = set(skl_stopwords)\n",
    "\n",
    "# sets can be more forgiving than lists\n",
    "print len(b)\n",
    "keepwords = set(['cannot', 'never', 'won', 'shouldn', 'couldn', 'mightn', 'couldn','before','after'])\n",
    "my_stopwords = b - keepwords\n",
    "print len(my_stopwords)"
   ]
  },
  {
   "cell_type": "code",
   "execution_count": 27,
   "metadata": {
    "collapsed": false
   },
   "outputs": [
    {
     "name": "stdout",
     "output_type": "stream",
     "text": [
      "<type 'dict'> 2477\n",
      "abandon => -2\n",
      "abandoned => -2\n",
      "abandons => -2\n",
      "abducted => -2\n",
      "abduction => -2\n",
      "~~~~~~~~~~~~\n",
      "yucky => -2\n",
      "yummy => 3\n",
      "zealot => -2\n",
      "zealots => -2\n",
      "zealous => 2\n"
     ]
    }
   ],
   "source": [
    "#some dictionaries assign a value - like the positivity measure in the reviews \n",
    "afinn = dict(map(lambda (k,v): (k,int(v)), [ line.split('\\t') for line in open(pathname+\"AAFINN-111.txt\") ]))\n",
    "print type(afinn), len(afinn)\n",
    "for key, value in sorted(afinn.items())[0:5]:\n",
    "    print key + \" => \" + str(value)\n",
    "print \"~~~~~~~~~~~~\"\n",
    "for key, value in sorted(afinn.items())[2472:]:\n",
    "    print key + \" => \" + str(value)"
   ]
  },
  {
   "cell_type": "code",
   "execution_count": 28,
   "metadata": {
    "collapsed": true
   },
   "outputs": [],
   "source": [
    "def afinn_sent(inputstring):\n",
    "    \n",
    "    sentcount =0\n",
    "    for word in inputstring.split():  \n",
    "        if word in afinn:\n",
    "            sentcount = sentcount + afinn[word]\n",
    "            \n",
    "    \n",
    "    if (sentcount < 0):\n",
    "        sentiment = 'Negative Comment'\n",
    "    elif (sentcount >0):\n",
    "        sentiment = 'Positive Comment'\n",
    "    else:\n",
    "        sentiment = 'Neutral Opinion'\n",
    "    \n",
    "    return sentiment\n",
    "    #return sentcount"
   ]
  },
  {
   "cell_type": "code",
   "execution_count": 29,
   "metadata": {
    "collapsed": false
   },
   "outputs": [
    {
     "data": {
      "text/html": [
       "<div>\n",
       "<table border=\"1\" class=\"dataframe\">\n",
       "  <thead>\n",
       "    <tr style=\"text-align: right;\">\n",
       "      <th></th>\n",
       "      <th>comment</th>\n",
       "      <th>afinn</th>\n",
       "      <th>afinn1</th>\n",
       "    </tr>\n",
       "  </thead>\n",
       "  <tbody>\n",
       "    <tr>\n",
       "      <th>310</th>\n",
       "      <td>I went there last week, ordered the surf and turf. The steak was decent a little chewy but tasted good, the lobster was pure rubber. Not let me talk about the potatoes. To start they were cold, the first piece was fine, cold but fine. The second piece felt like a sponge, releasing water (at least I hope) as I pressed between my teethes. This made me nauseous at least by this time I was almost done with my meal.I won't come back to this place again.</td>\n",
       "      <td>Positive Comment</td>\n",
       "      <td>Positive Comment</td>\n",
       "    </tr>\n",
       "    <tr>\n",
       "      <th>311</th>\n",
       "      <td>With family in town with a hunger for seafood at a decent price, we headed to Red Lobster in Times Square. We went for lunch on a Wednesday afternoon, around 12:30 P.M. There were a decent number of people on the upper floor where we sat, but there was no wait time. As expected, the prices were about $5-$6 more a plate than what you would expect to pay in a typical suburban Red Lobster. Our waiter was friendly enough, though it did take a decent amount of time to get our drinks. It really wasn't possible to get his attention during the meal, so we weren't able to get the infamous cheesy biscuits refilled. He came by at one point and said our order was up and he would be bring it by in just a minute. About 10 minutes later, he showed up with the food. Hmm...?As for the meal, the food was what you would expect to find in any Red Lobster. If you're a fan of fried shrimp, buttery lobster, or grilled fish, you'll probably be happy with your selection. As other reviewers have noted, they do add an automatic 18% tip to the bill. I jokingly told my dad (who picked up the tab) not to tip well, since the server was pretty MIA during the meal. He's an excellent tipper and said, \"Too bad for the waiter, he'd have received a better tip fro...</td>\n",
       "      <td>Positive Comment</td>\n",
       "      <td>Positive Comment</td>\n",
       "    </tr>\n",
       "  </tbody>\n",
       "</table>\n",
       "</div>"
      ],
      "text/plain": [
       "                                                                                                                                                                                                                                                                                                                                                                                                                                                                                                                                                                                                                                                                                                                                                                                                                                                                                                                                                                                                                                                                                                                                                                                                                                                                                               comment  \\\n",
       "310                                                                                                                                                                                                                                                                                                                                                                                                                                                                                                                                                                                                                                                                                                                                                                                                                               I went there last week, ordered the surf and turf. The steak was decent a little chewy but tasted good, the lobster was pure rubber. Not let me talk about the potatoes. To start they were cold, the first piece was fine, cold but fine. The second piece felt like a sponge, releasing water (at least I hope) as I pressed between my teethes. This made me nauseous at least by this time I was almost done with my meal.I won't come back to this place again.   \n",
       "311  With family in town with a hunger for seafood at a decent price, we headed to Red Lobster in Times Square. We went for lunch on a Wednesday afternoon, around 12:30 P.M. There were a decent number of people on the upper floor where we sat, but there was no wait time. As expected, the prices were about $5-$6 more a plate than what you would expect to pay in a typical suburban Red Lobster. Our waiter was friendly enough, though it did take a decent amount of time to get our drinks. It really wasn't possible to get his attention during the meal, so we weren't able to get the infamous cheesy biscuits refilled. He came by at one point and said our order was up and he would be bring it by in just a minute. About 10 minutes later, he showed up with the food. Hmm...?As for the meal, the food was what you would expect to find in any Red Lobster. If you're a fan of fried shrimp, buttery lobster, or grilled fish, you'll probably be happy with your selection. As other reviewers have noted, they do add an automatic 18% tip to the bill. I jokingly told my dad (who picked up the tab) not to tip well, since the server was pretty MIA during the meal. He's an excellent tipper and said, \"Too bad for the waiter, he'd have received a better tip fro...   \n",
       "\n",
       "                afinn            afinn1  \n",
       "310  Positive Comment  Positive Comment  \n",
       "311  Positive Comment  Positive Comment  "
      ]
     },
     "execution_count": 29,
     "metadata": {},
     "output_type": "execute_result"
    }
   ],
   "source": [
    "reviewdf['afinn1'] = map(lambda x: afinn_sent(x), reviewdf['cleantext'])\n",
    "reviewdf.iloc[310:312][['comment','afinn','afinn1']]"
   ]
  },
  {
   "cell_type": "code",
   "execution_count": 30,
   "metadata": {
    "collapsed": false
   },
   "outputs": [
    {
     "data": {
      "text/html": [
       "<div>\n",
       "<table border=\"1\" class=\"dataframe\">\n",
       "  <thead>\n",
       "    <tr style=\"text-align: right;\">\n",
       "      <th>col_0</th>\n",
       "      <th>count</th>\n",
       "    </tr>\n",
       "    <tr>\n",
       "      <th>afinn</th>\n",
       "      <th></th>\n",
       "    </tr>\n",
       "  </thead>\n",
       "  <tbody>\n",
       "    <tr>\n",
       "      <th>Negative Comment</th>\n",
       "      <td>62</td>\n",
       "    </tr>\n",
       "    <tr>\n",
       "      <th>Neutral Opinion</th>\n",
       "      <td>45</td>\n",
       "    </tr>\n",
       "    <tr>\n",
       "      <th>Positive Comment</th>\n",
       "      <td>284</td>\n",
       "    </tr>\n",
       "  </tbody>\n",
       "</table>\n",
       "</div>"
      ],
      "text/plain": [
       "col_0             count\n",
       "afinn                  \n",
       "Negative Comment     62\n",
       "Neutral Opinion      45\n",
       "Positive Comment    284"
      ]
     },
     "execution_count": 30,
     "metadata": {},
     "output_type": "execute_result"
    }
   ],
   "source": [
    "my_tab = pd.crosstab(index=reviewdf['afinn'],  # Make a crosstab\n",
    "                              columns=\"count\")      # Name the count column\n",
    "\n",
    "my_tab"
   ]
  },
  {
   "cell_type": "code",
   "execution_count": 31,
   "metadata": {
    "collapsed": false
   },
   "outputs": [
    {
     "data": {
      "text/html": [
       "<div>\n",
       "<table border=\"1\" class=\"dataframe\">\n",
       "  <thead>\n",
       "    <tr style=\"text-align: right;\">\n",
       "      <th>col_0</th>\n",
       "      <th>count</th>\n",
       "    </tr>\n",
       "    <tr>\n",
       "      <th>afinn1</th>\n",
       "      <th></th>\n",
       "    </tr>\n",
       "  </thead>\n",
       "  <tbody>\n",
       "    <tr>\n",
       "      <th>Negative Comment</th>\n",
       "      <td>63</td>\n",
       "    </tr>\n",
       "    <tr>\n",
       "      <th>Neutral Opinion</th>\n",
       "      <td>37</td>\n",
       "    </tr>\n",
       "    <tr>\n",
       "      <th>Positive Comment</th>\n",
       "      <td>291</td>\n",
       "    </tr>\n",
       "  </tbody>\n",
       "</table>\n",
       "</div>"
      ],
      "text/plain": [
       "col_0             count\n",
       "afinn1                 \n",
       "Negative Comment     63\n",
       "Neutral Opinion      37\n",
       "Positive Comment    291"
      ]
     },
     "execution_count": 31,
     "metadata": {},
     "output_type": "execute_result"
    }
   ],
   "source": [
    "my_tab1 = pd.crosstab(index=reviewdf['afinn1'],  # Make a crosstab\n",
    "                              columns=\"count\")      # Name the count column\n",
    "\n",
    "my_tab1"
   ]
  },
  {
   "cell_type": "code",
   "execution_count": 32,
   "metadata": {
    "collapsed": false
   },
   "outputs": [
    {
     "name": "stdout",
     "output_type": "stream",
     "text": [
      "(391, 3151)\n",
      "(391, 3151)\n",
      "<type 'list'> 3151\n",
      "<type 'list'> 3151\n"
     ]
    },
    {
     "data": {
      "text/html": [
       "<div>\n",
       "<table border=\"1\" class=\"dataframe\">\n",
       "  <thead>\n",
       "    <tr style=\"text-align: right;\">\n",
       "      <th></th>\n",
       "      <th>count</th>\n",
       "    </tr>\n",
       "  </thead>\n",
       "  <tbody>\n",
       "    <tr>\n",
       "      <th>food</th>\n",
       "      <td>350</td>\n",
       "    </tr>\n",
       "    <tr>\n",
       "      <th>rlob</th>\n",
       "      <td>327</td>\n",
       "    </tr>\n",
       "    <tr>\n",
       "      <th>good</th>\n",
       "      <td>270</td>\n",
       "    </tr>\n",
       "    <tr>\n",
       "      <th>shrimp</th>\n",
       "      <td>239</td>\n",
       "    </tr>\n",
       "    <tr>\n",
       "      <th>time</th>\n",
       "      <td>191</td>\n",
       "    </tr>\n",
       "  </tbody>\n",
       "</table>\n",
       "</div>"
      ],
      "text/plain": [
       "        count\n",
       "food      350\n",
       "rlob      327\n",
       "good      270\n",
       "shrimp    239\n",
       "time      191"
      ]
     },
     "execution_count": 32,
     "metadata": {},
     "output_type": "execute_result"
    }
   ],
   "source": [
    "from sklearn.feature_extraction.text import CountVectorizer, TfidfVectorizer\n",
    "\n",
    "# instantiate vectorizer(s)\n",
    "cv1 = CountVectorizer(lowercase=True, \n",
    "                     stop_words=my_stopwords,\n",
    "                     binary=False,\n",
    "                     max_df=0.95, \n",
    "                     min_df=0.003,\n",
    "                     ngram_range = (1,2)) \n",
    "tfidf1 = TfidfVectorizer(lowercase=True, \n",
    "                        stop_words= my_stopwords, \n",
    "                        max_df=0.95, \n",
    "                        min_df=0.003,\n",
    "                        ngram_range = (1,2)) \n",
    "\n",
    "# fit and transform text\n",
    "cv_dm = cv1.fit_transform(reviewdf['cleantext'])\n",
    "tfidf_dm = tfidf1.fit_transform(reviewdf['cleantext'])\n",
    "\n",
    "# print matrix shape(s)\n",
    "print cv_dm.shape\n",
    "print tfidf_dm.shape\n",
    "names = cv1.get_feature_names()\n",
    "print type(names), len(names)\n",
    "\n",
    "count = np.sum(cv_dm.toarray(), axis = 0).tolist()\n",
    "print type(count), len(count)\n",
    "count_df = pd.DataFrame(count, index = names, columns = ['count'])\n",
    "\n",
    "count_df.sort_values(by= ['count'], ascending = False).head(5)"
   ]
  },
  {
   "cell_type": "code",
   "execution_count": 33,
   "metadata": {
    "collapsed": false
   },
   "outputs": [
    {
     "name": "stdout",
     "output_type": "stream",
     "text": [
      "<type 'numpy.ndarray'>\n",
      "<type 'numpy.ndarray'>\n",
      "['Positive Comment' 'Negative Comment' 'Positive Comment'\n",
      " 'Positive Comment' 'Positive Comment']\n"
     ]
    }
   ],
   "source": [
    "# train test split\n",
    "# data are X, labels are y\n",
    "from sklearn.cross_validation import train_test_split\n",
    "\n",
    "X1 = cv_dm.toarray()  #remember this is the output from the vectorizer\n",
    "print type(X)\n",
    "\n",
    "\n",
    "y1 = reviewdf['afinn1'].values #this is an array of labels\n",
    "print type(y1)\n",
    "\n",
    "print y[0:5]"
   ]
  },
  {
   "cell_type": "code",
   "execution_count": 34,
   "metadata": {
    "collapsed": false
   },
   "outputs": [
    {
     "name": "stdout",
     "output_type": "stream",
     "text": [
      "(234L, 3151L)\n",
      "(157L, 3151L)\n",
      "(234L,)\n",
      "(157L,)\n"
     ]
    }
   ],
   "source": [
    "X1_train, X1_test, y1_train, y1_test = train_test_split(X1, y1, test_size=0.4, random_state=50) #random_state is set seed\n",
    "\n",
    "# function creates 4 output structures - order matters\n",
    "print X1_train.shape\n",
    "print X1_test.shape\n",
    "print y1_train.shape\n",
    "print y1_test.shape"
   ]
  },
  {
   "cell_type": "markdown",
   "metadata": {},
   "source": [
    "## 4.  Decision Tree"
   ]
  },
  {
   "cell_type": "code",
   "execution_count": 35,
   "metadata": {
    "collapsed": false
   },
   "outputs": [
    {
     "name": "stdout",
     "output_type": "stream",
     "text": [
      "0.656050955414\n",
      "accuracy: 0.668789808917\n",
      "             precision    recall  f1-score   support\n",
      "\n",
      "Negative Comment       0.28      0.55      0.37        20\n",
      "Neutral Opinion       0.30      0.14      0.19        22\n",
      "Positive Comment       0.84      0.79      0.82       115\n",
      "\n",
      "avg / total       0.70      0.67      0.67       157\n",
      "\n"
     ]
    }
   ],
   "source": [
    "# Decision Tree Classifier\n",
    "from sklearn import metrics\n",
    "from sklearn.tree import DecisionTreeClassifier\n",
    "\n",
    "# fit a CART_model to the data\n",
    "DecisionTree_clean = DecisionTreeClassifier(random_state = 50)\n",
    "DecisionTree_clean.fit(X1_train, y1_train)\n",
    "\n",
    "# make predictions\n",
    "#clf1_expected = y1_test\n",
    "#clf1_predicted = DecisionTree_clean.predict(X1_test)\n",
    "\n",
    "\n",
    "print DecisionTree_clean.score(X1_test,y1_test)\n",
    "\n",
    "# summarize the fit of the CART_Model\n",
    "print(\"accuracy: \" + str(metrics.accuracy_score(clf1_expected, clf1_predicted)))\n",
    "print(metrics.classification_report(clf1_expected, clf1_predicted))"
   ]
  },
  {
   "cell_type": "markdown",
   "metadata": {},
   "source": [
    "## 5. Naive Bayes"
   ]
  },
  {
   "cell_type": "code",
   "execution_count": 36,
   "metadata": {
    "collapsed": false
   },
   "outputs": [
    {
     "name": "stdout",
     "output_type": "stream",
     "text": [
      "MultinomialNB(alpha=1.0, class_prior=None, fit_prior=True)\n",
      "0.777070063694\n",
      "accuracy: 0.777070063694\n",
      "             precision    recall  f1-score   support\n",
      "\n",
      "Negative Comment       0.50      0.33      0.40        21\n",
      "Neutral Opinion       0.00      0.00      0.00        15\n",
      "Positive Comment       0.81      0.95      0.87       121\n",
      "\n",
      "avg / total       0.69      0.78      0.73       157\n",
      "\n"
     ]
    }
   ],
   "source": [
    "# Multinomial Naive Bayes\n",
    "from sklearn.naive_bayes import MultinomialNB\n",
    "\n",
    "# fit a Naive_Bayes_model to the data\n",
    "NaiveBayes_clean = MultinomialNB()\n",
    "print NaiveBayes_clean\n",
    "NaiveBayes_clean.fit(X1_train, y1_train)\n",
    "\n",
    "# make predictions\n",
    "clf2_expected = y1_test\n",
    "clf2_predicted = NaiveBayes_clean.predict(X1_test)\n",
    "\n",
    "print NaiveBayes_clean.score(X1_test, y1_test)\n",
    "\n",
    "# summarize the fit of the Naivebayes\n",
    "print(\"accuracy: \" + str(metrics.accuracy_score(clf2_expected, clf2_predicted)))\n",
    "print(metrics.classification_report(clf2_expected, clf2_predicted))"
   ]
  },
  {
   "cell_type": "markdown",
   "metadata": {},
   "source": [
    "## 6. Logistic Regression"
   ]
  },
  {
   "cell_type": "code",
   "execution_count": 37,
   "metadata": {
    "collapsed": false
   },
   "outputs": [
    {
     "name": "stdout",
     "output_type": "stream",
     "text": [
      "LogisticRegression(C=1.0, class_weight=None, dual=False, fit_intercept=True,\n",
      "          intercept_scaling=1, max_iter=100, multi_class='ovr', n_jobs=1,\n",
      "          penalty='l2', random_state=50, solver='liblinear', tol=0.0001,\n",
      "          verbose=0, warm_start=False)\n",
      "0.764331210191\n",
      "accuracy: 0.764331210191\n",
      "             precision    recall  f1-score   support\n",
      "\n",
      "Negative Comment       0.40      0.29      0.33        21\n",
      "Neutral Opinion       0.50      0.13      0.21        15\n",
      "Positive Comment       0.81      0.93      0.86       121\n",
      "\n",
      "avg / total       0.73      0.76      0.73       157\n",
      "\n"
     ]
    }
   ],
   "source": [
    "# Logistic Regression\n",
    "from sklearn.linear_model import LogisticRegression\n",
    "\n",
    "# fit a logistic regression model to the data\n",
    "logit_clean = LogisticRegression(random_state = 50)\n",
    "print logit_clean\n",
    "logit_clean.fit(X1_train, y1_train)\n",
    "print logit_clean.score(X1_test, y1_test)\n",
    "\n",
    "# make predictions\n",
    "clf3_expected = y1_test\n",
    "clf3_predicted = logit_clean.predict(X1_test)\n",
    "\n",
    "# summarize the fit of the logit_pre_model\n",
    "print(\"accuracy: \" + str(metrics.accuracy_score(clf3_expected, clf3_predicted)))\n",
    "print(metrics.classification_report(clf3_expected, clf3_predicted))"
   ]
  },
  {
   "cell_type": "code",
   "execution_count": 38,
   "metadata": {
    "collapsed": false
   },
   "outputs": [
    {
     "name": "stdout",
     "output_type": "stream",
     "text": [
      "<type 'numpy.ndarray'>\n",
      "<type 'numpy.ndarray'>\n",
      "['Positive Comment' 'Negative Comment' 'Positive Comment'\n",
      " 'Positive Comment' 'Positive Comment']\n"
     ]
    }
   ],
   "source": [
    "# train test split\n",
    "# data are X, labels are y\n",
    "from sklearn.cross_validation import train_test_split\n",
    "\n",
    "X2 = tfidf_dm.toarray()  #remember this is the output from the vectorizer\n",
    "print type(X)\n",
    "\n",
    "\n",
    "y2 = reviewdf['afinn1'].values #this is an array of labels\n",
    "print type(y)\n",
    "\n",
    "print y[0:5]"
   ]
  },
  {
   "cell_type": "code",
   "execution_count": 39,
   "metadata": {
    "collapsed": false
   },
   "outputs": [
    {
     "name": "stdout",
     "output_type": "stream",
     "text": [
      "(234L, 3151L)\n",
      "(157L, 3151L)\n",
      "(234L,)\n",
      "(157L,)\n"
     ]
    }
   ],
   "source": [
    "X2_train, X2_test, y2_train, y2_test = train_test_split(X2, y2, test_size=0.4, random_state=50) #random_state is set seed\n",
    "\n",
    "# function creates 4 output structures - order matters\n",
    "print X2_train.shape\n",
    "print X2_test.shape\n",
    "print y2_train.shape\n",
    "print y2_test.shape"
   ]
  },
  {
   "cell_type": "markdown",
   "metadata": {},
   "source": [
    "## 7. Decision Tree"
   ]
  },
  {
   "cell_type": "code",
   "execution_count": 40,
   "metadata": {
    "collapsed": false
   },
   "outputs": [
    {
     "name": "stdout",
     "output_type": "stream",
     "text": [
      "0.617834394904\n",
      "accuracy: 0.617834394904\n",
      "             precision    recall  f1-score   support\n",
      "\n",
      "Negative Comment       0.20      0.24      0.22        21\n",
      "Neutral Opinion       0.17      0.33      0.23        15\n",
      "Positive Comment       0.84      0.72      0.78       121\n",
      "\n",
      "avg / total       0.69      0.62      0.65       157\n",
      "\n"
     ]
    }
   ],
   "source": [
    "# Decision Tree Classifier\n",
    "from sklearn import metrics\n",
    "from sklearn.tree import DecisionTreeClassifier\n",
    "\n",
    "# fit a CART_model to the data\n",
    "DecisionTree_Tfidf = DecisionTreeClassifier(random_state = 50)\n",
    "DecisionTree_Tfidf.fit(X2_train, y2_train)\n",
    "\n",
    "# make predictions\n",
    "clf1_expected = y2_test\n",
    "clf1_predicted = DecisionTree_Tfidf.predict(X2_test)\n",
    "\n",
    "\n",
    "print DecisionTree_Tfidf.score(X2_test,y2_test)\n",
    "\n",
    "# summarize the fit of the CART_Model\n",
    "print(\"accuracy: \" + str(metrics.accuracy_score(clf1_expected, clf1_predicted)))\n",
    "print(metrics.classification_report(clf1_expected, clf1_predicted))"
   ]
  },
  {
   "cell_type": "markdown",
   "metadata": {},
   "source": [
    "## 8. Naive Bayes"
   ]
  },
  {
   "cell_type": "code",
   "execution_count": 41,
   "metadata": {
    "collapsed": false
   },
   "outputs": [
    {
     "name": "stdout",
     "output_type": "stream",
     "text": [
      "MultinomialNB(alpha=1.0, class_prior=None, fit_prior=True)\n",
      "0.770700636943\n",
      "accuracy: 0.770700636943\n",
      "             precision    recall  f1-score   support\n",
      "\n",
      "Negative Comment       0.00      0.00      0.00        21\n",
      "Neutral Opinion       0.00      0.00      0.00        15\n",
      "Positive Comment       0.77      1.00      0.87       121\n",
      "\n",
      "avg / total       0.59      0.77      0.67       157\n",
      "\n"
     ]
    },
    {
     "name": "stderr",
     "output_type": "stream",
     "text": [
      "C:\\Anaconda2\\lib\\site-packages\\sklearn\\metrics\\classification.py:1074: UndefinedMetricWarning: Precision and F-score are ill-defined and being set to 0.0 in labels with no predicted samples.\n",
      "  'precision', 'predicted', average, warn_for)\n"
     ]
    }
   ],
   "source": [
    "# Multinomial Naive Bayes\n",
    "from sklearn.naive_bayes import MultinomialNB\n",
    "\n",
    "# fit a Naive_Bayes_model to the data\n",
    "NaiveBayes_Tfidf = MultinomialNB()\n",
    "print NaiveBayes_Tfidf\n",
    "NaiveBayes_Tfidf.fit(X2_train, y2_train)\n",
    "\n",
    "# make predictions\n",
    "clf2_expected = y2_test\n",
    "clf2_predicted = NaiveBayes_Tfidf.predict(X2_test)\n",
    "\n",
    "print NaiveBayes_Tfidf.score(X2_test, y2_test)\n",
    "\n",
    "# summarize the fit of the Naivebayes\n",
    "print(\"accuracy: \" + str(metrics.accuracy_score(clf2_expected, clf2_predicted)))\n",
    "print(metrics.classification_report(clf2_expected, clf2_predicted))"
   ]
  },
  {
   "cell_type": "markdown",
   "metadata": {},
   "source": [
    "## 9. Logistic Regression"
   ]
  },
  {
   "cell_type": "code",
   "execution_count": 42,
   "metadata": {
    "collapsed": false
   },
   "outputs": [
    {
     "name": "stdout",
     "output_type": "stream",
     "text": [
      "LogisticRegression(C=1.0, class_weight=None, dual=False, fit_intercept=True,\n",
      "          intercept_scaling=1, max_iter=100, multi_class='ovr', n_jobs=1,\n",
      "          penalty='l2', random_state=50, solver='liblinear', tol=0.0001,\n",
      "          verbose=0, warm_start=False)\n",
      "0.770700636943\n",
      "accuracy: 0.770700636943\n",
      "             precision    recall  f1-score   support\n",
      "\n",
      "Negative Comment       0.00      0.00      0.00        21\n",
      "Neutral Opinion       0.00      0.00      0.00        15\n",
      "Positive Comment       0.77      1.00      0.87       121\n",
      "\n",
      "avg / total       0.59      0.77      0.67       157\n",
      "\n"
     ]
    }
   ],
   "source": [
    "# Logistic Regression\n",
    "from sklearn.linear_model import LogisticRegression\n",
    "\n",
    "# fit a logistic regression model to the data\n",
    "logit_Tfidf = LogisticRegression(random_state = 50)\n",
    "print logit_Tfidf\n",
    "logit_Tfidf.fit(X2_train, y2_train)\n",
    "print logit_Tfidf.score(X2_test, y2_test)\n",
    "\n",
    "# make predictions\n",
    "clf3_expected = y2_test\n",
    "clf3_predicted = logit_Tfidf.predict(X2_test)\n",
    "\n",
    "# summarize the fit of the logit_pre_model\n",
    "print(\"accuracy: \" + str(metrics.accuracy_score(clf3_expected, clf3_predicted)))\n",
    "print(metrics.classification_report(clf3_expected, clf3_predicted))"
   ]
  },
  {
   "cell_type": "markdown",
   "metadata": {},
   "source": [
    "\n",
    "### T5. Using various vector space models with various vectorizer parameters, repeat tasks 2, 3, and 4 to track the improving/worsening performance of your model(s). Perform at least 2 more iterations (of 3 models) so you should end up with at least 9 rows in your ‘model performance’ data frame.\n",
    "\n",
    "### Q5. Which model ultimately performed the best? Why? What else could you do to continually improve the model’s performance? (15 pts)\n",
    "Naive Bayes with Count Vectorizer, for clean text is doing the best compared to other models.\n",
    "The model could able to predict the text data set with 77% accurately. The Vector space is created using the clean text - after replacing Red Lobster specific words using RL dictionary. \n",
    "\n",
    "Considering the sentiment of word, preceding to the sentiment word from the corpus could make difference. A special customized dictionary for RL to be created in the further steps to see how it could help in predicting the text case."
   ]
  },
  {
   "cell_type": "code",
   "execution_count": 43,
   "metadata": {
    "collapsed": false
   },
   "outputs": [
    {
     "data": {
      "text/html": [
       "<div>\n",
       "<table border=\"1\" class=\"dataframe\">\n",
       "  <thead>\n",
       "    <tr style=\"text-align: right;\">\n",
       "      <th></th>\n",
       "      <th>Model NO</th>\n",
       "      <th>Name</th>\n",
       "      <th>Processing Parameters</th>\n",
       "      <th>Model Accuracy</th>\n",
       "    </tr>\n",
       "  </thead>\n",
       "  <tbody>\n",
       "    <tr>\n",
       "      <th>4</th>\n",
       "      <td>Model 5</td>\n",
       "      <td>CleanText_CV_Naive Bayes</td>\n",
       "      <td>lowercase=True, stop_words=my_stopwords, binary=False, max_df=0.95, min_df=0.003, ngram_range = (1,2)</td>\n",
       "      <td>0.777070</td>\n",
       "    </tr>\n",
       "    <tr>\n",
       "      <th>7</th>\n",
       "      <td>Model 8</td>\n",
       "      <td>CleanText_TfIdf_Naive Bayes</td>\n",
       "      <td>lowercase=True, stop_words=my_stopwords, binary=False, max_df=0.95, min_df=0.003, ngram_range = (1,2)</td>\n",
       "      <td>0.770701</td>\n",
       "    </tr>\n",
       "    <tr>\n",
       "      <th>8</th>\n",
       "      <td>Model 9</td>\n",
       "      <td>CleanText_TfIdf_Logistic Regression</td>\n",
       "      <td>lowercase=True, stop_words=my_stopwords, binary=False, max_df=0.95, min_df=0.003, ngram_range = (1,2)</td>\n",
       "      <td>0.770701</td>\n",
       "    </tr>\n",
       "    <tr>\n",
       "      <th>5</th>\n",
       "      <td>Model 6</td>\n",
       "      <td>CleanText_CV_Logistic Regression</td>\n",
       "      <td>lowercase=True, stop_words=my_stopwords, binary=False, max_df=0.95, min_df=0.003, ngram_range = (1,2)</td>\n",
       "      <td>0.764331</td>\n",
       "    </tr>\n",
       "    <tr>\n",
       "      <th>1</th>\n",
       "      <td>Model 2</td>\n",
       "      <td>Prelim_Reviews_Naive Bayes</td>\n",
       "      <td>binary=False, lowercase = False, stop_words = \"english\"</td>\n",
       "      <td>0.738854</td>\n",
       "    </tr>\n",
       "    <tr>\n",
       "      <th>2</th>\n",
       "      <td>Model 3</td>\n",
       "      <td>Prelim_Reviews_Logistic Regression</td>\n",
       "      <td>binary=False, lowercase = False, stop_words = \"english\"</td>\n",
       "      <td>0.738854</td>\n",
       "    </tr>\n",
       "    <tr>\n",
       "      <th>0</th>\n",
       "      <td>Model 1</td>\n",
       "      <td>Prelim_Reviews_Decision Tree</td>\n",
       "      <td>binary=False, lowercase = False, stop_words = \"english\"</td>\n",
       "      <td>0.668790</td>\n",
       "    </tr>\n",
       "    <tr>\n",
       "      <th>3</th>\n",
       "      <td>Model 4</td>\n",
       "      <td>CleanText_CV_Decision Tree</td>\n",
       "      <td>lowercase=True, stop_words=my_stopwords, binary=False, max_df=0.95, min_df=0.003, ngram_range = (1,2)</td>\n",
       "      <td>0.656051</td>\n",
       "    </tr>\n",
       "    <tr>\n",
       "      <th>6</th>\n",
       "      <td>Model 7</td>\n",
       "      <td>CleanText_TfIdf_Decision Tree</td>\n",
       "      <td>lowercase=True, stop_words=my_stopwords, binary=False, max_df=0.95, min_df=0.003, ngram_range = (1,2)</td>\n",
       "      <td>0.617834</td>\n",
       "    </tr>\n",
       "  </tbody>\n",
       "</table>\n",
       "</div>"
      ],
      "text/plain": [
       "  Model NO                                 Name  \\\n",
       "4  Model 5             CleanText_CV_Naive Bayes   \n",
       "7  Model 8          CleanText_TfIdf_Naive Bayes   \n",
       "8  Model 9  CleanText_TfIdf_Logistic Regression   \n",
       "5  Model 6     CleanText_CV_Logistic Regression   \n",
       "1  Model 2           Prelim_Reviews_Naive Bayes   \n",
       "2  Model 3   Prelim_Reviews_Logistic Regression   \n",
       "0  Model 1         Prelim_Reviews_Decision Tree   \n",
       "3  Model 4           CleanText_CV_Decision Tree   \n",
       "6  Model 7        CleanText_TfIdf_Decision Tree   \n",
       "\n",
       "                                                                                   Processing Parameters  \\\n",
       "4  lowercase=True, stop_words=my_stopwords, binary=False, max_df=0.95, min_df=0.003, ngram_range = (1,2)   \n",
       "7  lowercase=True, stop_words=my_stopwords, binary=False, max_df=0.95, min_df=0.003, ngram_range = (1,2)   \n",
       "8  lowercase=True, stop_words=my_stopwords, binary=False, max_df=0.95, min_df=0.003, ngram_range = (1,2)   \n",
       "5  lowercase=True, stop_words=my_stopwords, binary=False, max_df=0.95, min_df=0.003, ngram_range = (1,2)   \n",
       "1                                                binary=False, lowercase = False, stop_words = \"english\"   \n",
       "2                                                binary=False, lowercase = False, stop_words = \"english\"   \n",
       "0                                                binary=False, lowercase = False, stop_words = \"english\"   \n",
       "3  lowercase=True, stop_words=my_stopwords, binary=False, max_df=0.95, min_df=0.003, ngram_range = (1,2)   \n",
       "6  lowercase=True, stop_words=my_stopwords, binary=False, max_df=0.95, min_df=0.003, ngram_range = (1,2)   \n",
       "\n",
       "   Model Accuracy  \n",
       "4        0.777070  \n",
       "7        0.770701  \n",
       "8        0.770701  \n",
       "5        0.764331  \n",
       "1        0.738854  \n",
       "2        0.738854  \n",
       "0        0.668790  \n",
       "3        0.656051  \n",
       "6        0.617834  "
      ]
     },
     "execution_count": 43,
     "metadata": {},
     "output_type": "execute_result"
    }
   ],
   "source": [
    "df.loc[len(df)]=['Model 4','CleanText_CV_Decision Tree',\n",
    "                 'lowercase=True, stop_words=my_stopwords, binary=False, max_df=0.95, min_df=0.003, ngram_range = (1,2)',\n",
    "                 DecisionTree_clean.score(X1_test,y1_test)]\n",
    "df.loc[len(df)]=['Model 5','CleanText_CV_Naive Bayes',\n",
    "                 'lowercase=True, stop_words=my_stopwords, binary=False, max_df=0.95, min_df=0.003, ngram_range = (1,2)',\n",
    "                 NaiveBayes_clean.score(X1_test,y1_test)]\n",
    "df.loc[len(df)]=['Model 6','CleanText_CV_Logistic Regression',\n",
    "                 'lowercase=True, stop_words=my_stopwords, binary=False, max_df=0.95, min_df=0.003, ngram_range = (1,2)',\n",
    "                 logit_clean.score(X1_test, y1_test)]\n",
    "df.loc[len(df)]=['Model 7','CleanText_TfIdf_Decision Tree',\n",
    "                 'lowercase=True, stop_words=my_stopwords, binary=False, max_df=0.95, min_df=0.003, ngram_range = (1,2)',\n",
    "                 DecisionTree_Tfidf.score(X2_test,y2_test)]\n",
    "df.loc[len(df)]=['Model 8','CleanText_TfIdf_Naive Bayes',\n",
    "                 'lowercase=True, stop_words=my_stopwords, binary=False, max_df=0.95, min_df=0.003, ngram_range = (1,2)',\n",
    "                 NaiveBayes_Tfidf.score(X2_test, y2_test)]\n",
    "df.loc[len(df)]=['Model 9','CleanText_TfIdf_Logistic Regression',\n",
    "                 'lowercase=True, stop_words=my_stopwords, binary=False, max_df=0.95, min_df=0.003, ngram_range = (1,2)',\n",
    "                 logit_Tfidf.score(X2_test, y2_test)]\n",
    "result = df.sort_values(by= 'Model Accuracy',ascending=False)\n",
    "result\n"
   ]
  },
  {
   "cell_type": "markdown",
   "metadata": {},
   "source": [
    "### T6. Choose one preprocessing option (stemming, lemmatization, custom dictionary, custom stop words, etc.) and recreate your feature space.  Repeat the predictions exercise with the best 3 models and add the results to your data frame for a total of 12 rows. (Don’t forget to recreate the test/train split on the new feature space.)\n",
    "\n",
    "Considered Count Vectorizer instead of Tfidf in the further step, as it was more reliable in predicting all 3 outcomes (Positive, Negative and Neutral Comments)\n"
   ]
  },
  {
   "cell_type": "markdown",
   "metadata": {},
   "source": [
    "### Q6. How did the preprocessing affect the feature space? Why did you choose that option?  What changed (not just size)?\n",
    "\n",
    "Used lemmatizer for preprocessing the text and creating the new feature space. Features has increase from 3151 to 3333 Features. Reason because before creating Count Vectorizer and removing English word, I have applied the lemmatize, which chopped all the 'S' in the end leaving 'Was'  as 'Wa' behind after initiating the vector space, Simultaneously my feature space has increased, with decrease in the accuracy in predicting the test case"
   ]
  },
  {
   "cell_type": "markdown",
   "metadata": {
    "collapsed": true
   },
   "source": [
    "### Applied the lemmatization "
   ]
  },
  {
   "cell_type": "code",
   "execution_count": 44,
   "metadata": {
    "collapsed": false
   },
   "outputs": [],
   "source": [
    "#lets try some basic stemming\n",
    "stemlist = []\n",
    "from nltk.stem import WordNetLemmatizer\n",
    "wnl = WordNetLemmatizer() #define method (http://www.nltk.org/api/nltk.stem.html#nltk.stem.porter.PorterStemmer)\n",
    "reviewdf['cleantext'] = map(lambda x: x.decode('latin-1').encode('ascii','ignore'), reviewdf['cleantext'])\n",
    "\n",
    "for row in reviewdf['cleantext']:\n",
    "    text = row.split() #splits the text into a list of pieces\n",
    "    stemtext = [wnl.lemmatize(word) for word in text] #stems each word individually\n",
    "    stem2text = [' '.join(stemtext)] #picks out all the text and sticks it together with spaces\n",
    "    stemlist += stem2text #creates a list of stemmed strings\n",
    "\n",
    "\n",
    "reviewdf['lemtext'] = stemlist #creates a new column out of stemmed text \n",
    "reviewdf.to_csv(\"final2.csv\", encoding='utf-8')"
   ]
  },
  {
   "cell_type": "code",
   "execution_count": 45,
   "metadata": {
    "collapsed": false
   },
   "outputs": [
    {
     "name": "stdout",
     "output_type": "stream",
     "text": [
      "HL pos  size: 2006\n",
      "['a+', 'abound', 'abounds', 'abundance', 'abundant', 'accessable', 'accessible', 'acclaim', 'acclaimed', 'acclamation']\n",
      "HL neg  size: 4783\n",
      "['2-faced', '2-faces', 'abnormal', 'abolish', 'abominable', 'abominably', 'abominate', 'abomination', 'abort', 'aborted']\n"
     ]
    }
   ],
   "source": [
    "#some sort into buckets\n",
    "HLpos = [line.strip() for line in  open(pathname+'\\HHLpos.txt','r')]\n",
    "HLneg = [line.strip() for line in  open(pathname +'\\HHLneg.txt','r')]\n",
    "print \"HL pos  size: \" + str(len(HLpos))\n",
    "print HLpos[0:10]\n",
    "print \"HL neg  size: \" + str(len(HLneg))\n",
    "print HLneg[0:10]"
   ]
  },
  {
   "cell_type": "code",
   "execution_count": 46,
   "metadata": {
    "collapsed": true
   },
   "outputs": [],
   "source": [
    "def hl_sent(inputstring):\n",
    "\n",
    "    poscount = 0\n",
    "    negcount = 0\n",
    "    \n",
    "    for word in inputstring.split(): \n",
    "        if HLpos.count(word):\n",
    "            poscount +=1\n",
    "        elif HLneg.count(word):\n",
    "            negcount +=1\n",
    "     \n",
    "    \n",
    "    if poscount+negcount > 0:\n",
    "        t = float((poscount - negcount)/(poscount+negcount))    \n",
    "    else:\n",
    "        t = 0\n",
    "    \n",
    "    \n",
    "    if t > 0:\n",
    "        tone = \"Positive Review\"\n",
    "    elif t < 0:\n",
    "        tone = \"Negative Review\"\n",
    "    else:\n",
    "        tone = \"Neutral tone\"\n",
    "    \n",
    "    return tone"
   ]
  },
  {
   "cell_type": "code",
   "execution_count": 47,
   "metadata": {
    "collapsed": false
   },
   "outputs": [
    {
     "name": "stderr",
     "output_type": "stream",
     "text": [
      "C:\\Anaconda2\\lib\\site-packages\\ipykernel\\__main__.py:9: UnicodeWarning: Unicode equal comparison failed to convert both arguments to Unicode - interpreting them as being unequal\n"
     ]
    }
   ],
   "source": [
    "reviewdf['hlsent'] = map(lambda x: hl_sent(x), reviewdf['lemtext'])"
   ]
  },
  {
   "cell_type": "code",
   "execution_count": 48,
   "metadata": {
    "collapsed": false
   },
   "outputs": [
    {
     "data": {
      "text/html": [
       "<div>\n",
       "<table border=\"1\" class=\"dataframe\">\n",
       "  <thead>\n",
       "    <tr style=\"text-align: right;\">\n",
       "      <th>col_0</th>\n",
       "      <th>count</th>\n",
       "    </tr>\n",
       "    <tr>\n",
       "      <th>hlsent</th>\n",
       "      <th></th>\n",
       "    </tr>\n",
       "  </thead>\n",
       "  <tbody>\n",
       "    <tr>\n",
       "      <th>Negative Review</th>\n",
       "      <td>63</td>\n",
       "    </tr>\n",
       "    <tr>\n",
       "      <th>Neutral tone</th>\n",
       "      <td>54</td>\n",
       "    </tr>\n",
       "    <tr>\n",
       "      <th>Positive Review</th>\n",
       "      <td>274</td>\n",
       "    </tr>\n",
       "  </tbody>\n",
       "</table>\n",
       "</div>"
      ],
      "text/plain": [
       "col_0            count\n",
       "hlsent                \n",
       "Negative Review     63\n",
       "Neutral tone        54\n",
       "Positive Review    274"
      ]
     },
     "execution_count": 48,
     "metadata": {},
     "output_type": "execute_result"
    }
   ],
   "source": [
    "my_tab = pd.crosstab(index=reviewdf['hlsent'],  # Make a crosstab\n",
    "                              columns=\"count\")      # Name the count column\n",
    "\n",
    "my_tab"
   ]
  },
  {
   "cell_type": "code",
   "execution_count": 49,
   "metadata": {
    "collapsed": false
   },
   "outputs": [
    {
     "name": "stdout",
     "output_type": "stream",
     "text": [
      "(391, 3333)\n",
      "(391, 3333)\n",
      "<type 'list'> 3333\n",
      "<type 'list'> 3333\n"
     ]
    },
    {
     "data": {
      "text/html": [
       "<div>\n",
       "<table border=\"1\" class=\"dataframe\">\n",
       "  <thead>\n",
       "    <tr style=\"text-align: right;\">\n",
       "      <th></th>\n",
       "      <th>count</th>\n",
       "    </tr>\n",
       "  </thead>\n",
       "  <tbody>\n",
       "    <tr>\n",
       "      <th>wa</th>\n",
       "      <td>940</td>\n",
       "    </tr>\n",
       "    <tr>\n",
       "      <th>food</th>\n",
       "      <td>353</td>\n",
       "    </tr>\n",
       "    <tr>\n",
       "      <th>rlob</th>\n",
       "      <td>327</td>\n",
       "    </tr>\n",
       "    <tr>\n",
       "      <th>good</th>\n",
       "      <td>270</td>\n",
       "    </tr>\n",
       "    <tr>\n",
       "      <th>shrimp</th>\n",
       "      <td>258</td>\n",
       "    </tr>\n",
       "  </tbody>\n",
       "</table>\n",
       "</div>"
      ],
      "text/plain": [
       "        count\n",
       "wa        940\n",
       "food      353\n",
       "rlob      327\n",
       "good      270\n",
       "shrimp    258"
      ]
     },
     "execution_count": 49,
     "metadata": {},
     "output_type": "execute_result"
    }
   ],
   "source": [
    "cv_dm = cv1.fit_transform(reviewdf['lemtext'])\n",
    "tfidf_dm = tfidf1.fit_transform(reviewdf['lemtext'])\n",
    "# print matrix shape(s)\n",
    "print cv_dm.shape\n",
    "print tfidf_dm.shape\n",
    "names = cv1.get_feature_names()\n",
    "print type(names), len(names)\n",
    "\n",
    "count = np.sum(cv_dm.toarray(), axis = 0).tolist()\n",
    "print type(count), len(count)\n",
    "count_df = pd.DataFrame(count, index = names, columns = ['count'])\n",
    "\n",
    "count_df.sort_values(by= ['count'], ascending = False).head(5)"
   ]
  },
  {
   "cell_type": "code",
   "execution_count": 50,
   "metadata": {
    "collapsed": false
   },
   "outputs": [
    {
     "name": "stdout",
     "output_type": "stream",
     "text": [
      "(391, 3333)\n",
      "<type 'list'> 3333\n",
      "<type 'list'> 3333\n"
     ]
    },
    {
     "data": {
      "text/html": [
       "<div>\n",
       "<table border=\"1\" class=\"dataframe\">\n",
       "  <thead>\n",
       "    <tr style=\"text-align: right;\">\n",
       "      <th></th>\n",
       "      <th>count</th>\n",
       "    </tr>\n",
       "  </thead>\n",
       "  <tbody>\n",
       "    <tr>\n",
       "      <th>wa</th>\n",
       "      <td>940</td>\n",
       "    </tr>\n",
       "    <tr>\n",
       "      <th>food</th>\n",
       "      <td>353</td>\n",
       "    </tr>\n",
       "    <tr>\n",
       "      <th>rlob</th>\n",
       "      <td>327</td>\n",
       "    </tr>\n",
       "    <tr>\n",
       "      <th>good</th>\n",
       "      <td>270</td>\n",
       "    </tr>\n",
       "    <tr>\n",
       "      <th>shrimp</th>\n",
       "      <td>258</td>\n",
       "    </tr>\n",
       "  </tbody>\n",
       "</table>\n",
       "</div>"
      ],
      "text/plain": [
       "        count\n",
       "wa        940\n",
       "food      353\n",
       "rlob      327\n",
       "good      270\n",
       "shrimp    258"
      ]
     },
     "execution_count": 50,
     "metadata": {},
     "output_type": "execute_result"
    }
   ],
   "source": [
    "cv2 = CountVectorizer(lowercase=True, \n",
    "                     stop_words=my_stopwords,\n",
    "                     binary=False,\n",
    "                     max_df=0.95, \n",
    "                     min_df=0.003,\n",
    "                     ngram_range = (1,2)) \n",
    "\n",
    "# fit and transform text\n",
    "cv2_dm = cv2.fit_transform(reviewdf['lemtext'])\n",
    "\n",
    "# print matrix shape(s)\n",
    "print cv2_dm.shape\n",
    "names = cv2.get_feature_names()\n",
    "print type(names), len(names)\n",
    "\n",
    "count = np.sum(cv2_dm.toarray(), axis = 0).tolist()\n",
    "print type(count), len(count)\n",
    "count_df = pd.DataFrame(count, index = names, columns = ['count'])\n",
    "\n",
    "count_df.sort_values(by= ['count'], ascending = False).head(5)"
   ]
  },
  {
   "cell_type": "code",
   "execution_count": 51,
   "metadata": {
    "collapsed": false
   },
   "outputs": [
    {
     "name": "stdout",
     "output_type": "stream",
     "text": [
      "<type 'numpy.ndarray'>\n",
      "<type 'numpy.ndarray'>\n",
      "['Positive Review' 'Negative Review' 'Positive Review' 'Positive Review'\n",
      " 'Positive Review' 'Positive Review' 'Positive Review' 'Negative Review'\n",
      " 'Positive Review' 'Positive Review']\n"
     ]
    }
   ],
   "source": [
    "# train test split\n",
    "# data are X, labels are y\n",
    "from sklearn.cross_validation import train_test_split\n",
    "\n",
    "X3 = cv2_dm.toarray()  #remember this is the output from the vectorizer\n",
    "print type(X3)\n",
    "\n",
    "\n",
    "y3 = reviewdf['hlsent'].values #this is an array of labels\n",
    "print type(y3)\n",
    "\n",
    "print y3[0:10]"
   ]
  },
  {
   "cell_type": "code",
   "execution_count": 52,
   "metadata": {
    "collapsed": false
   },
   "outputs": [
    {
     "name": "stdout",
     "output_type": "stream",
     "text": [
      "(234L, 3333L)\n",
      "(157L, 3333L)\n",
      "(234L,)\n",
      "(157L,)\n"
     ]
    }
   ],
   "source": [
    "X3_train, X3_test, y3_train, y3_test = train_test_split(X3, y3, test_size=0.4, random_state=50) #random_state is set seed\n",
    "\n",
    "# function creates 4 output structures - order matters\n",
    "print X3_train.shape\n",
    "print X3_test.shape\n",
    "print y3_train.shape\n",
    "print y3_test.shape"
   ]
  },
  {
   "cell_type": "raw",
   "metadata": {},
   "source": [
    "### Q7. How did the preprocessing affect the performance of the models? Is this the result you would have expected? \n",
    "\n",
    "The preprocessing with Lemmentizer did not help in increasing the accuracy of the model. Maybe because the stop words were not removed before the lemmentization. Which lead to the increase in the feature space, but also decreases the accuracy of the model. "
   ]
  },
  {
   "cell_type": "markdown",
   "metadata": {},
   "source": [
    "### Q8. Are you satisfied with the performance of any of the models?  Why or Why not?  What else might you investigate? (15 pts)\n",
    "\n",
    "Yes, Im very much satisfied with the 5th Model & 6th Model, Models with Naive Bayes and Logistic Regress methodology to determine the Output. Because these models have high accuracy of around 77%. Parameter used in there models \"lowercase=True, stop_words=my_stopwords, binary=False, max_df=0.95, min_df=0.003, ngram_range = (1,2)\" ; Very importantly the Min and Max_df ranges are playing majore role in the predicting the outcome.\n",
    "\n",
    "It might be very interesting to see how the result improve, if we considere the sentiment of previous word from the corpus. Im planning to build a cutomized 'negate' and 'amplify' dictionary with all sentiment pair from the corpus in my further analysis."
   ]
  },
  {
   "cell_type": "markdown",
   "metadata": {},
   "source": [
    "### 10. Decision Tree"
   ]
  },
  {
   "cell_type": "code",
   "execution_count": 53,
   "metadata": {
    "collapsed": false
   },
   "outputs": [
    {
     "name": "stdout",
     "output_type": "stream",
     "text": [
      "0.541401273885\n",
      "accuracy: 0.541401273885\n",
      "             precision    recall  f1-score   support\n",
      "\n",
      "Negative Review       0.12      0.26      0.16        19\n",
      "Neutral tone       0.22      0.07      0.11        29\n",
      "Positive Review       0.74      0.72      0.73       109\n",
      "\n",
      "avg / total       0.57      0.54      0.54       157\n",
      "\n"
     ]
    }
   ],
   "source": [
    "# Decision Tree Classifier\n",
    "from sklearn import metrics\n",
    "from sklearn.tree import DecisionTreeClassifier\n",
    "\n",
    "# fit a CART_model to the data\n",
    "DecisionTree_Stem_cv = DecisionTreeClassifier(random_state = 50)\n",
    "DecisionTree_Stem_cv.fit(X3_train, y3_train)\n",
    "\n",
    "# make predictions\n",
    "clf1_expected = y3_test\n",
    "clf1_predicted = DecisionTree_Stem_cv.predict(X3_test)\n",
    "\n",
    "\n",
    "print DecisionTree_Stem_cv.score(X3_test,y3_test)\n",
    "\n",
    "# summarize the fit of the CART_Model\n",
    "print(\"accuracy: \" + str(metrics.accuracy_score(clf1_expected, clf1_predicted)))\n",
    "print(metrics.classification_report(clf1_expected, clf1_predicted))"
   ]
  },
  {
   "cell_type": "markdown",
   "metadata": {},
   "source": [
    "### 11. Multinomial Naive Bayes"
   ]
  },
  {
   "cell_type": "code",
   "execution_count": 54,
   "metadata": {
    "collapsed": false
   },
   "outputs": [
    {
     "name": "stdout",
     "output_type": "stream",
     "text": [
      "MultinomialNB(alpha=1.0, class_prior=None, fit_prior=True)\n",
      "0.687898089172\n",
      "accuracy: 0.687898089172\n",
      "             precision    recall  f1-score   support\n",
      "\n",
      "Negative Review       0.40      0.21      0.28        19\n",
      "Neutral tone       0.00      0.00      0.00        29\n",
      "Positive Review       0.71      0.95      0.81       109\n",
      "\n",
      "avg / total       0.54      0.69      0.60       157\n",
      "\n"
     ]
    }
   ],
   "source": [
    "# Multinomial Naive Bayes\n",
    "from sklearn.naive_bayes import MultinomialNB\n",
    "\n",
    "# fit a Naive_Bayes_model to the data\n",
    "NaiveBayes_Stem_cv = MultinomialNB()\n",
    "print NaiveBayes_Stem_cv\n",
    "NaiveBayes_Stem_cv.fit(X3_train, y3_train)\n",
    "\n",
    "# make predictions\n",
    "clf2_expected = y3_test\n",
    "clf2_predicted = NaiveBayes_Stem_cv.predict(X3_test)\n",
    "\n",
    "print NaiveBayes_Stem_cv.score(X3_test, y3_test)\n",
    "\n",
    "# summarize the fit of the Naivebayes\n",
    "print(\"accuracy: \" + str(metrics.accuracy_score(clf2_expected, clf2_predicted)))\n",
    "print(metrics.classification_report(clf2_expected, clf2_predicted))"
   ]
  },
  {
   "cell_type": "markdown",
   "metadata": {},
   "source": [
    "### 12. Logistic Regression"
   ]
  },
  {
   "cell_type": "code",
   "execution_count": 55,
   "metadata": {
    "collapsed": false
   },
   "outputs": [
    {
     "name": "stdout",
     "output_type": "stream",
     "text": [
      "LogisticRegression(C=1.0, class_weight=None, dual=False, fit_intercept=True,\n",
      "          intercept_scaling=1, max_iter=100, multi_class='ovr', n_jobs=1,\n",
      "          penalty='l2', random_state=50, solver='liblinear', tol=0.0001,\n",
      "          verbose=0, warm_start=False)\n",
      "0.68152866242\n",
      "accuracy: 0.68152866242\n",
      "             precision    recall  f1-score   support\n",
      "\n",
      "Negative Review       0.27      0.21      0.24        19\n",
      "Neutral tone       0.33      0.07      0.11        29\n",
      "Positive Review       0.74      0.93      0.82       109\n",
      "\n",
      "avg / total       0.61      0.68      0.62       157\n",
      "\n"
     ]
    }
   ],
   "source": [
    "# Logistic Regression\n",
    "from sklearn.linear_model import LogisticRegression\n",
    "\n",
    "# fit a logistic regression model to the data\n",
    "logit_Stem_cv = LogisticRegression(random_state = 50)\n",
    "print logit_Stem_cv\n",
    "logit_Stem_cv.fit(X3_train, y3_train)\n",
    "print logit_Stem_cv.score(X3_test, y3_test)\n",
    "\n",
    "# make predictions\n",
    "clf3_expected = y3_test\n",
    "clf3_predicted = logit_Stem_cv.predict(X3_test)\n",
    "\n",
    "# summarize the fit of the logit_pre_model\n",
    "print(\"accuracy: \" + str(metrics.accuracy_score(clf3_expected, clf3_predicted)))\n",
    "print(metrics.classification_report(clf3_expected, clf3_predicted))"
   ]
  },
  {
   "cell_type": "code",
   "execution_count": 56,
   "metadata": {
    "collapsed": false
   },
   "outputs": [
    {
     "data": {
      "text/html": [
       "<div>\n",
       "<table border=\"1\" class=\"dataframe\">\n",
       "  <thead>\n",
       "    <tr style=\"text-align: right;\">\n",
       "      <th></th>\n",
       "      <th>Model NO</th>\n",
       "      <th>Name</th>\n",
       "      <th>Processing Parameters</th>\n",
       "      <th>Model Accuracy</th>\n",
       "    </tr>\n",
       "  </thead>\n",
       "  <tbody>\n",
       "    <tr>\n",
       "      <th>4</th>\n",
       "      <td>Model 5</td>\n",
       "      <td>CleanText_CV_Naive Bayes</td>\n",
       "      <td>lowercase=True, stop_words=my_stopwords, binary=False, max_df=0.95, min_df=0.003, ngram_range = (1,2)</td>\n",
       "      <td>0.777070</td>\n",
       "    </tr>\n",
       "    <tr>\n",
       "      <th>7</th>\n",
       "      <td>Model 8</td>\n",
       "      <td>CleanText_TfIdf_Naive Bayes</td>\n",
       "      <td>lowercase=True, stop_words=my_stopwords, binary=False, max_df=0.95, min_df=0.003, ngram_range = (1,2)</td>\n",
       "      <td>0.770701</td>\n",
       "    </tr>\n",
       "    <tr>\n",
       "      <th>8</th>\n",
       "      <td>Model 9</td>\n",
       "      <td>CleanText_TfIdf_Logistic Regression</td>\n",
       "      <td>lowercase=True, stop_words=my_stopwords, binary=False, max_df=0.95, min_df=0.003, ngram_range = (1,2)</td>\n",
       "      <td>0.770701</td>\n",
       "    </tr>\n",
       "    <tr>\n",
       "      <th>5</th>\n",
       "      <td>Model 6</td>\n",
       "      <td>CleanText_CV_Logistic Regression</td>\n",
       "      <td>lowercase=True, stop_words=my_stopwords, binary=False, max_df=0.95, min_df=0.003, ngram_range = (1,2)</td>\n",
       "      <td>0.764331</td>\n",
       "    </tr>\n",
       "    <tr>\n",
       "      <th>1</th>\n",
       "      <td>Model 2</td>\n",
       "      <td>Prelim_Reviews_Naive Bayes</td>\n",
       "      <td>binary=False, lowercase = False, stop_words = \"english\"</td>\n",
       "      <td>0.738854</td>\n",
       "    </tr>\n",
       "    <tr>\n",
       "      <th>2</th>\n",
       "      <td>Model 3</td>\n",
       "      <td>Prelim_Reviews_Logistic Regression</td>\n",
       "      <td>binary=False, lowercase = False, stop_words = \"english\"</td>\n",
       "      <td>0.738854</td>\n",
       "    </tr>\n",
       "    <tr>\n",
       "      <th>10</th>\n",
       "      <td>Model 11</td>\n",
       "      <td>Stemtext_CV_Naive Bayes</td>\n",
       "      <td>lowercase=True, stop_words=my_stopwords, binary=False, max_df=0.95, min_df=0.003, ngram_range = (1,2)</td>\n",
       "      <td>0.687898</td>\n",
       "    </tr>\n",
       "    <tr>\n",
       "      <th>11</th>\n",
       "      <td>Model 12</td>\n",
       "      <td>Stemtext_CV_Logistic Regression</td>\n",
       "      <td>lowercase=True, stop_words=my_stopwords, binary=False, max_df=0.95, min_df=0.003, ngram_range = (1,2)</td>\n",
       "      <td>0.681529</td>\n",
       "    </tr>\n",
       "    <tr>\n",
       "      <th>0</th>\n",
       "      <td>Model 1</td>\n",
       "      <td>Prelim_Reviews_Decision Tree</td>\n",
       "      <td>binary=False, lowercase = False, stop_words = \"english\"</td>\n",
       "      <td>0.668790</td>\n",
       "    </tr>\n",
       "    <tr>\n",
       "      <th>3</th>\n",
       "      <td>Model 4</td>\n",
       "      <td>CleanText_CV_Decision Tree</td>\n",
       "      <td>lowercase=True, stop_words=my_stopwords, binary=False, max_df=0.95, min_df=0.003, ngram_range = (1,2)</td>\n",
       "      <td>0.656051</td>\n",
       "    </tr>\n",
       "    <tr>\n",
       "      <th>6</th>\n",
       "      <td>Model 7</td>\n",
       "      <td>CleanText_TfIdf_Decision Tree</td>\n",
       "      <td>lowercase=True, stop_words=my_stopwords, binary=False, max_df=0.95, min_df=0.003, ngram_range = (1,2)</td>\n",
       "      <td>0.617834</td>\n",
       "    </tr>\n",
       "    <tr>\n",
       "      <th>9</th>\n",
       "      <td>Model 10</td>\n",
       "      <td>Stemtext_CV_Decision Tree</td>\n",
       "      <td>lowercase=True, stop_words=my_stopwords, binary=False, max_df=0.95, min_df=0.003, ngram_range = (1,2)</td>\n",
       "      <td>0.541401</td>\n",
       "    </tr>\n",
       "  </tbody>\n",
       "</table>\n",
       "</div>"
      ],
      "text/plain": [
       "    Model NO                                 Name  \\\n",
       "4    Model 5             CleanText_CV_Naive Bayes   \n",
       "7    Model 8          CleanText_TfIdf_Naive Bayes   \n",
       "8    Model 9  CleanText_TfIdf_Logistic Regression   \n",
       "5    Model 6     CleanText_CV_Logistic Regression   \n",
       "1    Model 2           Prelim_Reviews_Naive Bayes   \n",
       "2    Model 3   Prelim_Reviews_Logistic Regression   \n",
       "10  Model 11              Stemtext_CV_Naive Bayes   \n",
       "11  Model 12      Stemtext_CV_Logistic Regression   \n",
       "0    Model 1         Prelim_Reviews_Decision Tree   \n",
       "3    Model 4           CleanText_CV_Decision Tree   \n",
       "6    Model 7        CleanText_TfIdf_Decision Tree   \n",
       "9   Model 10            Stemtext_CV_Decision Tree   \n",
       "\n",
       "                                                                                    Processing Parameters  \\\n",
       "4   lowercase=True, stop_words=my_stopwords, binary=False, max_df=0.95, min_df=0.003, ngram_range = (1,2)   \n",
       "7   lowercase=True, stop_words=my_stopwords, binary=False, max_df=0.95, min_df=0.003, ngram_range = (1,2)   \n",
       "8   lowercase=True, stop_words=my_stopwords, binary=False, max_df=0.95, min_df=0.003, ngram_range = (1,2)   \n",
       "5   lowercase=True, stop_words=my_stopwords, binary=False, max_df=0.95, min_df=0.003, ngram_range = (1,2)   \n",
       "1                                                 binary=False, lowercase = False, stop_words = \"english\"   \n",
       "2                                                 binary=False, lowercase = False, stop_words = \"english\"   \n",
       "10  lowercase=True, stop_words=my_stopwords, binary=False, max_df=0.95, min_df=0.003, ngram_range = (1,2)   \n",
       "11  lowercase=True, stop_words=my_stopwords, binary=False, max_df=0.95, min_df=0.003, ngram_range = (1,2)   \n",
       "0                                                 binary=False, lowercase = False, stop_words = \"english\"   \n",
       "3   lowercase=True, stop_words=my_stopwords, binary=False, max_df=0.95, min_df=0.003, ngram_range = (1,2)   \n",
       "6   lowercase=True, stop_words=my_stopwords, binary=False, max_df=0.95, min_df=0.003, ngram_range = (1,2)   \n",
       "9   lowercase=True, stop_words=my_stopwords, binary=False, max_df=0.95, min_df=0.003, ngram_range = (1,2)   \n",
       "\n",
       "    Model Accuracy  \n",
       "4         0.777070  \n",
       "7         0.770701  \n",
       "8         0.770701  \n",
       "5         0.764331  \n",
       "1         0.738854  \n",
       "2         0.738854  \n",
       "10        0.687898  \n",
       "11        0.681529  \n",
       "0         0.668790  \n",
       "3         0.656051  \n",
       "6         0.617834  \n",
       "9         0.541401  "
      ]
     },
     "execution_count": 56,
     "metadata": {},
     "output_type": "execute_result"
    }
   ],
   "source": [
    "df.loc[len(df)]=['Model 10','Stemtext_CV_Decision Tree',\n",
    "                 'lowercase=True, stop_words=my_stopwords, binary=False, max_df=0.95, min_df=0.003, ngram_range = (1,2)',\n",
    "                 DecisionTree_Stem_cv.score(X3_test,y3_test)]\n",
    "df.loc[len(df)]=['Model 11','Stemtext_CV_Naive Bayes',\n",
    "                 'lowercase=True, stop_words=my_stopwords, binary=False, max_df=0.95, min_df=0.003, ngram_range = (1,2)',\n",
    "                 NaiveBayes_Stem_cv.score(X3_test, y3_test)]\n",
    "df.loc[len(df)]=['Model 12','Stemtext_CV_Logistic Regression',\n",
    "                 'lowercase=True, stop_words=my_stopwords, binary=False, max_df=0.95, min_df=0.003, ngram_range = (1,2)',\n",
    "                 logit_Stem_cv.score(X3_test, y3_test)]\n",
    "result = df.sort_values(by= 'Model Accuracy',ascending=False)\n",
    "result"
   ]
  },
  {
   "cell_type": "markdown",
   "metadata": {},
   "source": [
    "### Bonus:  One extra point for every model run over the 12 you should have already. Maximum: 6 extra points.  \n",
    "Used the customized RL dictionary in prdicting the sentiment. Considere the sentiment of previous word from the corpus. Im planning to build a cutomized 'negate' and 'amplify' dictionary with all sentiment pairs from the corpus in this analysis."
   ]
  },
  {
   "cell_type": "code",
   "execution_count": 57,
   "metadata": {
    "collapsed": true
   },
   "outputs": [],
   "source": [
    "def hl_sent(inputstring):\n",
    "\n",
    "    poscount = 0\n",
    "    negcount = 0\n",
    "    i = 0\n",
    "\n",
    "\n",
    "    for word in inputstring.split():\n",
    "        if i > 0:\n",
    "            prev = inputstring.split().pop(i-1)\n",
    "        else:\n",
    "            prev =\"\"\n",
    "\n",
    "        if HLpos.count(word):\n",
    "            if negate.count(prev):\n",
    "                negcount += 1\n",
    "            elif amplify.count(prev):\n",
    "                poscount +=2\n",
    "            else: \n",
    "                poscount +=1\n",
    "        elif HLneg.count(word):\n",
    "            if negate.count(prev):\n",
    "                poscount += 1\n",
    "            elif amplify.count(prev):\n",
    "                negcount +=2\n",
    "            else:\n",
    "                negcount +=1\n",
    "        i+=1\n",
    "    \n",
    "    if poscount+negcount > 0:\n",
    "        t = float((poscount - negcount)/(poscount+negcount))\n",
    "        \n",
    "    else:\n",
    "        t = 0\n",
    "    \n",
    "    \n",
    "    if t > 0:\n",
    "        tone = \"Positive\"\n",
    "    elif t < 0:\n",
    "        tone = \"Negative\"\n",
    "    else:\n",
    "        tone = \"Neutral\"\n",
    "    \n",
    "    return tone\n",
    "\n",
    "\n",
    "#amplification and negation words from qdap\n",
    "negate = [\"scratches\",\"suspicious\",\"bad\",\"badly\",\"harsh\",\"loud\",\"frighteningly\",\"unacceptably\",\n",
    "          \"smelled\",\"fried\",\"guilty\",\"crazy\",\"ache\",\"sh*t\",\"die\",\"fell\",\"unhealthy\",\"snobby\",\n",
    "          \"painfully\",\"unreasonable\",\"ridiculously\",\"worst\",\"horrible\",\n",
    "        \"aint\", \"arent\",\"cant\", \"couldnt\" , \"didnt\" , \"doesnt\" ,\"dont\" ,\"hasnt\" , \"isnt\" ,\"mightnt\" , \"mustnt\" ,\n",
    "          \"neither\" ,\"never\", \"no\" ,\"nobody\" , \"nor\", \"not\" , \"shant\", \"shouldnt\", \"wasnt\" , \"werent\" ,\"wont\", \"wouldnt\"]\n",
    "amplify = [\"fairly\",\"pretty\",\"super\",\"unlimited\",\"work\",\"incredibly\",\"beautiful\",\"pleasant\",\n",
    "           \"tremendously\",\"decent\",\"generous\",\"lucky\",\"well\",\"nice\",\"free\",\"like\",\"promised\",\"awesome\",\n",
    "           \"sweet\",\"fresh\",\"tender\",\"thank\",\"hot\",\"heavenly\",\"conveniently\",\"wise\",\"good\",\"best\",\"perfectly\",\n",
    "            \"acute\" ,\"acutely\", \"certain\", \"certainly\" ,\"colossal\", \"colossally\",\"deep\" , \"deeply\" , \"definite\",\"definitely\" ,\n",
    "           \"enormous\",\"enormously\" , \"extreme\", \"extremely\" ,\"great\",\"greatly\" ,\"heavily\", \"heavy\", \"high\",\"highly\" ,\"huge\",\n",
    "           \"hugely\" , \"immense\", \"immensely\" ,\"incalculable\" ,\"incalculably\",\"massive\", \"massively\", \"more\",\"particular\" ,\n",
    "           \"particularly\",\"purpose\", \"purposely\", \"quite\" ,\"real\" ,\"really\",\"serious\", \"seriously\", \"severe\",\"severely\" ,\n",
    "           \"significant\" ,\"significantly\",\"sure\",\"surely\" , \"true\" ,\"truly\" ,\"vast\" , \"vastly\" , \"very\"]"
   ]
  },
  {
   "cell_type": "code",
   "execution_count": 58,
   "metadata": {
    "collapsed": true
   },
   "outputs": [],
   "source": [
    "reviewdf['last'] = map(lambda x: hl_sent(x), reviewdf['cleantext'])"
   ]
  },
  {
   "cell_type": "code",
   "execution_count": 59,
   "metadata": {
    "collapsed": false
   },
   "outputs": [
    {
     "data": {
      "text/html": [
       "<div>\n",
       "<table border=\"1\" class=\"dataframe\">\n",
       "  <thead>\n",
       "    <tr style=\"text-align: right;\">\n",
       "      <th>col_0</th>\n",
       "      <th>count</th>\n",
       "    </tr>\n",
       "    <tr>\n",
       "      <th>last</th>\n",
       "      <th></th>\n",
       "    </tr>\n",
       "  </thead>\n",
       "  <tbody>\n",
       "    <tr>\n",
       "      <th>Negative</th>\n",
       "      <td>67</td>\n",
       "    </tr>\n",
       "    <tr>\n",
       "      <th>Neutral</th>\n",
       "      <td>56</td>\n",
       "    </tr>\n",
       "    <tr>\n",
       "      <th>Positive</th>\n",
       "      <td>268</td>\n",
       "    </tr>\n",
       "  </tbody>\n",
       "</table>\n",
       "</div>"
      ],
      "text/plain": [
       "col_0     count\n",
       "last           \n",
       "Negative     67\n",
       "Neutral      56\n",
       "Positive    268"
      ]
     },
     "execution_count": 59,
     "metadata": {},
     "output_type": "execute_result"
    }
   ],
   "source": [
    "my_tab1 = pd.crosstab(index=reviewdf['last'],  # Make a crosstab\n",
    "                              columns=\"count\")      # Name the count column\n",
    "\n",
    "my_tab1"
   ]
  },
  {
   "cell_type": "code",
   "execution_count": 60,
   "metadata": {
    "collapsed": false
   },
   "outputs": [
    {
     "name": "stdout",
     "output_type": "stream",
     "text": [
      "(391, 3150)\n",
      "(391, 3150)\n",
      "<type 'list'> 3150\n",
      "<type 'list'> 3150\n"
     ]
    },
    {
     "data": {
      "text/html": [
       "<div>\n",
       "<table border=\"1\" class=\"dataframe\">\n",
       "  <thead>\n",
       "    <tr style=\"text-align: right;\">\n",
       "      <th></th>\n",
       "      <th>count</th>\n",
       "    </tr>\n",
       "  </thead>\n",
       "  <tbody>\n",
       "    <tr>\n",
       "      <th>food</th>\n",
       "      <td>350</td>\n",
       "    </tr>\n",
       "    <tr>\n",
       "      <th>rlob</th>\n",
       "      <td>327</td>\n",
       "    </tr>\n",
       "    <tr>\n",
       "      <th>good</th>\n",
       "      <td>270</td>\n",
       "    </tr>\n",
       "    <tr>\n",
       "      <th>shrimp</th>\n",
       "      <td>239</td>\n",
       "    </tr>\n",
       "    <tr>\n",
       "      <th>time</th>\n",
       "      <td>191</td>\n",
       "    </tr>\n",
       "  </tbody>\n",
       "</table>\n",
       "</div>"
      ],
      "text/plain": [
       "        count\n",
       "food      350\n",
       "rlob      327\n",
       "good      270\n",
       "shrimp    239\n",
       "time      191"
      ]
     },
     "execution_count": 60,
     "metadata": {},
     "output_type": "execute_result"
    }
   ],
   "source": [
    "# fit and transform text\n",
    "cv_dm = cv1.fit_transform(reviewdf['cleantext'])\n",
    "tfidf_dm = tfidf1.fit_transform(reviewdf['cleantext'])\n",
    "\n",
    "# print matrix shape(s)\n",
    "print cv_dm.shape\n",
    "print tfidf_dm.shape\n",
    "names = cv1.get_feature_names()\n",
    "print type(names), len(names)\n",
    "\n",
    "count = np.sum(cv_dm.toarray(), axis = 0).tolist()\n",
    "print type(count), len(count)\n",
    "count_df = pd.DataFrame(count, index = names, columns = ['count'])\n",
    "\n",
    "count_df.sort_values(by= ['count'], ascending = False).head(5)"
   ]
  },
  {
   "cell_type": "code",
   "execution_count": 61,
   "metadata": {
    "collapsed": false
   },
   "outputs": [
    {
     "name": "stdout",
     "output_type": "stream",
     "text": [
      "<type 'numpy.ndarray'>\n",
      "<type 'numpy.ndarray'>\n",
      "['Positive' 'Negative' 'Positive' 'Positive' 'Positive' 'Positive'\n",
      " 'Positive' 'Negative' 'Positive' 'Positive']\n"
     ]
    }
   ],
   "source": [
    "# train test split\n",
    "# data are X, labels are y\n",
    "from sklearn.cross_validation import train_test_split\n",
    "\n",
    "X4 = cv_dm.toarray()  #remember this is the output from the vectorizer\n",
    "print type(X)\n",
    "\n",
    "\n",
    "y4 = reviewdf['last'].values #this is an array of labels\n",
    "print type(y)\n",
    "\n",
    "print y4[0:10]"
   ]
  },
  {
   "cell_type": "code",
   "execution_count": 62,
   "metadata": {
    "collapsed": false
   },
   "outputs": [
    {
     "name": "stdout",
     "output_type": "stream",
     "text": [
      "(234L, 3150L)\n",
      "(157L, 3150L)\n",
      "(234L,)\n",
      "(157L,)\n"
     ]
    }
   ],
   "source": [
    "X4_train, X4_test, y4_train, y4_test = train_test_split(X4, y4, test_size=0.4, random_state=50) #random_state is set seed\n",
    "\n",
    "# function creates 4 output structures - order matters\n",
    "print X4_train.shape\n",
    "print X4_test.shape\n",
    "print y4_train.shape\n",
    "print y4_test.shape"
   ]
  },
  {
   "cell_type": "markdown",
   "metadata": {},
   "source": [
    "### 13. Decision Tree"
   ]
  },
  {
   "cell_type": "code",
   "execution_count": 63,
   "metadata": {
    "collapsed": false
   },
   "outputs": [
    {
     "name": "stdout",
     "output_type": "stream",
     "text": [
      "0.592356687898\n",
      "accuracy: 0.592356687898\n",
      "             precision    recall  f1-score   support\n",
      "\n",
      "   Negative       0.23      0.39      0.29        23\n",
      "    Neutral       0.27      0.22      0.24        27\n",
      "   Positive       0.81      0.73      0.77       107\n",
      "\n",
      "avg / total       0.63      0.59      0.61       157\n",
      "\n"
     ]
    }
   ],
   "source": [
    "# Decision Tree Classifier\n",
    "from sklearn import metrics\n",
    "from sklearn.tree import DecisionTreeClassifier\n",
    "\n",
    "# fit a CART_model to the data\n",
    "DecisionTree_Custom_Senti = DecisionTreeClassifier(random_state = 50)\n",
    "DecisionTree_Custom_Senti.fit(X4_train, y4_train)\n",
    "\n",
    "# make predictions\n",
    "clf1_expected = y4_test\n",
    "clf1_predicted = DecisionTree_Custom_Senti.predict(X4_test)\n",
    "\n",
    "\n",
    "print DecisionTree_Custom_Senti.score(X4_test,y4_test)\n",
    "\n",
    "# summarize the fit of the CART_Model\n",
    "print(\"accuracy: \" + str(metrics.accuracy_score(clf1_expected, clf1_predicted)))\n",
    "print(metrics.classification_report(clf1_expected, clf1_predicted))"
   ]
  },
  {
   "cell_type": "markdown",
   "metadata": {},
   "source": [
    "### 14. Naive Bayes"
   ]
  },
  {
   "cell_type": "code",
   "execution_count": 64,
   "metadata": {
    "collapsed": false
   },
   "outputs": [
    {
     "name": "stdout",
     "output_type": "stream",
     "text": [
      "MultinomialNB(alpha=1.0, class_prior=None, fit_prior=True)\n",
      "0.649681528662\n",
      "accuracy: 0.649681528662\n",
      "             precision    recall  f1-score   support\n",
      "\n",
      "   Negative       0.25      0.13      0.17        23\n",
      "    Neutral       0.33      0.04      0.07        27\n",
      "   Positive       0.69      0.92      0.79       107\n",
      "\n",
      "avg / total       0.56      0.65      0.57       157\n",
      "\n"
     ]
    }
   ],
   "source": [
    "# Multinomial Naive Bayes\n",
    "from sklearn.naive_bayes import MultinomialNB\n",
    "\n",
    "# fit a Naive_Bayes_model to the data\n",
    "NaiveBayes_Custom_Senti = MultinomialNB()\n",
    "print NaiveBayes_Custom_Senti\n",
    "NaiveBayes_Custom_Senti.fit(X4_train, y4_train)\n",
    "\n",
    "# make predictions\n",
    "clf2_expected = y4_test\n",
    "clf2_predicted = NaiveBayes_Custom_Senti.predict(X4_test)\n",
    "\n",
    "print NaiveBayes_Custom_Senti.score(X4_test, y4_test)\n",
    "\n",
    "# summarize the fit of the Naivebayes\n",
    "print(\"accuracy: \" + str(metrics.accuracy_score(clf2_expected, clf2_predicted)))\n",
    "print(metrics.classification_report(clf2_expected, clf2_predicted))"
   ]
  },
  {
   "cell_type": "markdown",
   "metadata": {},
   "source": [
    "###  15. Logistic Regression"
   ]
  },
  {
   "cell_type": "code",
   "execution_count": 65,
   "metadata": {
    "collapsed": false
   },
   "outputs": [
    {
     "name": "stdout",
     "output_type": "stream",
     "text": [
      "LogisticRegression(C=1.0, class_weight=None, dual=False, fit_intercept=True,\n",
      "          intercept_scaling=1, max_iter=100, multi_class='ovr', n_jobs=1,\n",
      "          penalty='l2', random_state=50, solver='liblinear', tol=0.0001,\n",
      "          verbose=0, warm_start=False)\n",
      "0.656050955414\n",
      "accuracy: 0.656050955414\n",
      "             precision    recall  f1-score   support\n",
      "\n",
      "   Negative       0.25      0.22      0.23        23\n",
      "    Neutral       0.20      0.04      0.06        27\n",
      "   Positive       0.73      0.91      0.81       107\n",
      "\n",
      "avg / total       0.57      0.66      0.60       157\n",
      "\n"
     ]
    }
   ],
   "source": [
    "# Logistic Regression\n",
    "from sklearn.linear_model import LogisticRegression\n",
    "\n",
    "# fit a logistic regression model to the data\n",
    "logit_Custom_Senti = LogisticRegression(random_state = 50)\n",
    "print logit_Custom_Senti\n",
    "logit_Custom_Senti.fit(X4_train, y4_train)\n",
    "print logit_Custom_Senti.score(X4_test, y4_test)\n",
    "\n",
    "# make predictions\n",
    "clf3_expected = y4_test\n",
    "clf3_predicted = logit_Custom_Senti.predict(X4_test)\n",
    "\n",
    "# summarize the fit of the logit_pre_model\n",
    "print(\"accuracy: \" + str(metrics.accuracy_score(clf3_expected, clf3_predicted)))\n",
    "print(metrics.classification_report(clf3_expected, clf3_predicted))"
   ]
  },
  {
   "cell_type": "code",
   "execution_count": 66,
   "metadata": {
    "collapsed": false
   },
   "outputs": [
    {
     "data": {
      "text/html": [
       "<div>\n",
       "<table border=\"1\" class=\"dataframe\">\n",
       "  <thead>\n",
       "    <tr style=\"text-align: right;\">\n",
       "      <th></th>\n",
       "      <th>Model NO</th>\n",
       "      <th>Name</th>\n",
       "      <th>Processing Parameters</th>\n",
       "      <th>Model Accuracy</th>\n",
       "    </tr>\n",
       "  </thead>\n",
       "  <tbody>\n",
       "    <tr>\n",
       "      <th>4</th>\n",
       "      <td>Model 5</td>\n",
       "      <td>CleanText_CV_Naive Bayes</td>\n",
       "      <td>lowercase=True, stop_words=my_stopwords, binary=False, max_df=0.95, min_df=0.003, ngram_range = (1,2)</td>\n",
       "      <td>0.777070</td>\n",
       "    </tr>\n",
       "    <tr>\n",
       "      <th>7</th>\n",
       "      <td>Model 8</td>\n",
       "      <td>CleanText_TfIdf_Naive Bayes</td>\n",
       "      <td>lowercase=True, stop_words=my_stopwords, binary=False, max_df=0.95, min_df=0.003, ngram_range = (1,2)</td>\n",
       "      <td>0.770701</td>\n",
       "    </tr>\n",
       "    <tr>\n",
       "      <th>8</th>\n",
       "      <td>Model 9</td>\n",
       "      <td>CleanText_TfIdf_Logistic Regression</td>\n",
       "      <td>lowercase=True, stop_words=my_stopwords, binary=False, max_df=0.95, min_df=0.003, ngram_range = (1,2)</td>\n",
       "      <td>0.770701</td>\n",
       "    </tr>\n",
       "    <tr>\n",
       "      <th>5</th>\n",
       "      <td>Model 6</td>\n",
       "      <td>CleanText_CV_Logistic Regression</td>\n",
       "      <td>lowercase=True, stop_words=my_stopwords, binary=False, max_df=0.95, min_df=0.003, ngram_range = (1,2)</td>\n",
       "      <td>0.764331</td>\n",
       "    </tr>\n",
       "    <tr>\n",
       "      <th>1</th>\n",
       "      <td>Model 2</td>\n",
       "      <td>Prelim_Reviews_Naive Bayes</td>\n",
       "      <td>binary=False, lowercase = False, stop_words = \"english\"</td>\n",
       "      <td>0.738854</td>\n",
       "    </tr>\n",
       "    <tr>\n",
       "      <th>2</th>\n",
       "      <td>Model 3</td>\n",
       "      <td>Prelim_Reviews_Logistic Regression</td>\n",
       "      <td>binary=False, lowercase = False, stop_words = \"english\"</td>\n",
       "      <td>0.738854</td>\n",
       "    </tr>\n",
       "    <tr>\n",
       "      <th>10</th>\n",
       "      <td>Model 11</td>\n",
       "      <td>Stemtext_CV_Naive Bayes</td>\n",
       "      <td>lowercase=True, stop_words=my_stopwords, binary=False, max_df=0.95, min_df=0.003, ngram_range = (1,2)</td>\n",
       "      <td>0.687898</td>\n",
       "    </tr>\n",
       "    <tr>\n",
       "      <th>11</th>\n",
       "      <td>Model 12</td>\n",
       "      <td>Stemtext_CV_Logistic Regression</td>\n",
       "      <td>lowercase=True, stop_words=my_stopwords, binary=False, max_df=0.95, min_df=0.003, ngram_range = (1,2)</td>\n",
       "      <td>0.681529</td>\n",
       "    </tr>\n",
       "    <tr>\n",
       "      <th>0</th>\n",
       "      <td>Model 1</td>\n",
       "      <td>Prelim_Reviews_Decision Tree</td>\n",
       "      <td>binary=False, lowercase = False, stop_words = \"english\"</td>\n",
       "      <td>0.668790</td>\n",
       "    </tr>\n",
       "    <tr>\n",
       "      <th>3</th>\n",
       "      <td>Model 4</td>\n",
       "      <td>CleanText_CV_Decision Tree</td>\n",
       "      <td>lowercase=True, stop_words=my_stopwords, binary=False, max_df=0.95, min_df=0.003, ngram_range = (1,2)</td>\n",
       "      <td>0.656051</td>\n",
       "    </tr>\n",
       "    <tr>\n",
       "      <th>14</th>\n",
       "      <td>Model 15</td>\n",
       "      <td>Custom_Senti_CV_Logistic Regression</td>\n",
       "      <td>lowercase=True, stop_words=my_stopwords, binary=False, max_df=0.95, min_df=0.003, ngram_range = (1,2)</td>\n",
       "      <td>0.656051</td>\n",
       "    </tr>\n",
       "    <tr>\n",
       "      <th>13</th>\n",
       "      <td>Model 14</td>\n",
       "      <td>Custom_Senti_CV_Naive Bayes</td>\n",
       "      <td>lowercase=True, stop_words=my_stopwords, binary=False, max_df=0.95, min_df=0.003, ngram_range = (1,2)</td>\n",
       "      <td>0.649682</td>\n",
       "    </tr>\n",
       "    <tr>\n",
       "      <th>6</th>\n",
       "      <td>Model 7</td>\n",
       "      <td>CleanText_TfIdf_Decision Tree</td>\n",
       "      <td>lowercase=True, stop_words=my_stopwords, binary=False, max_df=0.95, min_df=0.003, ngram_range = (1,2)</td>\n",
       "      <td>0.617834</td>\n",
       "    </tr>\n",
       "    <tr>\n",
       "      <th>12</th>\n",
       "      <td>Model 13</td>\n",
       "      <td>Custom_Senti_CV_Decision Tree</td>\n",
       "      <td>lowercase=True, stop_words=my_stopwords, binary=False, max_df=0.95, min_df=0.003, ngram_range = (1,2)</td>\n",
       "      <td>0.592357</td>\n",
       "    </tr>\n",
       "    <tr>\n",
       "      <th>9</th>\n",
       "      <td>Model 10</td>\n",
       "      <td>Stemtext_CV_Decision Tree</td>\n",
       "      <td>lowercase=True, stop_words=my_stopwords, binary=False, max_df=0.95, min_df=0.003, ngram_range = (1,2)</td>\n",
       "      <td>0.541401</td>\n",
       "    </tr>\n",
       "  </tbody>\n",
       "</table>\n",
       "</div>"
      ],
      "text/plain": [
       "    Model NO                                 Name  \\\n",
       "4    Model 5             CleanText_CV_Naive Bayes   \n",
       "7    Model 8          CleanText_TfIdf_Naive Bayes   \n",
       "8    Model 9  CleanText_TfIdf_Logistic Regression   \n",
       "5    Model 6     CleanText_CV_Logistic Regression   \n",
       "1    Model 2           Prelim_Reviews_Naive Bayes   \n",
       "2    Model 3   Prelim_Reviews_Logistic Regression   \n",
       "10  Model 11              Stemtext_CV_Naive Bayes   \n",
       "11  Model 12      Stemtext_CV_Logistic Regression   \n",
       "0    Model 1         Prelim_Reviews_Decision Tree   \n",
       "3    Model 4           CleanText_CV_Decision Tree   \n",
       "14  Model 15  Custom_Senti_CV_Logistic Regression   \n",
       "13  Model 14          Custom_Senti_CV_Naive Bayes   \n",
       "6    Model 7        CleanText_TfIdf_Decision Tree   \n",
       "12  Model 13        Custom_Senti_CV_Decision Tree   \n",
       "9   Model 10            Stemtext_CV_Decision Tree   \n",
       "\n",
       "                                                                                    Processing Parameters  \\\n",
       "4   lowercase=True, stop_words=my_stopwords, binary=False, max_df=0.95, min_df=0.003, ngram_range = (1,2)   \n",
       "7   lowercase=True, stop_words=my_stopwords, binary=False, max_df=0.95, min_df=0.003, ngram_range = (1,2)   \n",
       "8   lowercase=True, stop_words=my_stopwords, binary=False, max_df=0.95, min_df=0.003, ngram_range = (1,2)   \n",
       "5   lowercase=True, stop_words=my_stopwords, binary=False, max_df=0.95, min_df=0.003, ngram_range = (1,2)   \n",
       "1                                                 binary=False, lowercase = False, stop_words = \"english\"   \n",
       "2                                                 binary=False, lowercase = False, stop_words = \"english\"   \n",
       "10  lowercase=True, stop_words=my_stopwords, binary=False, max_df=0.95, min_df=0.003, ngram_range = (1,2)   \n",
       "11  lowercase=True, stop_words=my_stopwords, binary=False, max_df=0.95, min_df=0.003, ngram_range = (1,2)   \n",
       "0                                                 binary=False, lowercase = False, stop_words = \"english\"   \n",
       "3   lowercase=True, stop_words=my_stopwords, binary=False, max_df=0.95, min_df=0.003, ngram_range = (1,2)   \n",
       "14  lowercase=True, stop_words=my_stopwords, binary=False, max_df=0.95, min_df=0.003, ngram_range = (1,2)   \n",
       "13  lowercase=True, stop_words=my_stopwords, binary=False, max_df=0.95, min_df=0.003, ngram_range = (1,2)   \n",
       "6   lowercase=True, stop_words=my_stopwords, binary=False, max_df=0.95, min_df=0.003, ngram_range = (1,2)   \n",
       "12  lowercase=True, stop_words=my_stopwords, binary=False, max_df=0.95, min_df=0.003, ngram_range = (1,2)   \n",
       "9   lowercase=True, stop_words=my_stopwords, binary=False, max_df=0.95, min_df=0.003, ngram_range = (1,2)   \n",
       "\n",
       "    Model Accuracy  \n",
       "4         0.777070  \n",
       "7         0.770701  \n",
       "8         0.770701  \n",
       "5         0.764331  \n",
       "1         0.738854  \n",
       "2         0.738854  \n",
       "10        0.687898  \n",
       "11        0.681529  \n",
       "0         0.668790  \n",
       "3         0.656051  \n",
       "14        0.656051  \n",
       "13        0.649682  \n",
       "6         0.617834  \n",
       "12        0.592357  \n",
       "9         0.541401  "
      ]
     },
     "execution_count": 66,
     "metadata": {},
     "output_type": "execute_result"
    }
   ],
   "source": [
    "df.loc[len(df)]=['Model 13','Custom_Senti_CV_Decision Tree',\n",
    "                 'lowercase=True, stop_words=my_stopwords, binary=False, max_df=0.95, min_df=0.003, ngram_range = (1,2)',\n",
    "                 DecisionTree_Custom_Senti.score(X4_test,y4_test)]\n",
    "df.loc[len(df)]=['Model 14','Custom_Senti_CV_Naive Bayes',\n",
    "                 'lowercase=True, stop_words=my_stopwords, binary=False, max_df=0.95, min_df=0.003, ngram_range = (1,2)',\n",
    "                 NaiveBayes_Custom_Senti.score(X4_test, y4_test)]\n",
    "df.loc[len(df)]=['Model 15','Custom_Senti_CV_Logistic Regression',\n",
    "                 'lowercase=True, stop_words=my_stopwords, binary=False, max_df=0.95, min_df=0.003, ngram_range = (1,2)',\n",
    "                 logit_Custom_Senti.score(X4_test, y4_test)]\n",
    "result = df.sort_values(by= 'Model Accuracy',ascending=False)\n",
    "result"
   ]
  },
  {
   "cell_type": "code",
   "execution_count": 67,
   "metadata": {
    "collapsed": false
   },
   "outputs": [
    {
     "name": "stdout",
     "output_type": "stream",
     "text": [
      "<type 'numpy.ndarray'>\n",
      "<type 'numpy.ndarray'>\n",
      "['Positive' 'Negative' 'Positive' 'Positive' 'Positive' 'Positive'\n",
      " 'Positive' 'Negative' 'Positive' 'Positive']\n"
     ]
    }
   ],
   "source": [
    "# train test split\n",
    "# data are X, labels are y\n",
    "from sklearn.cross_validation import train_test_split\n",
    "\n",
    "X5 = tfidf_dm.toarray()  #remember this is the output from the vectorizer\n",
    "print type(X5)\n",
    "\n",
    "\n",
    "y5 = reviewdf['last'].values #this is an array of labels\n",
    "print type(y5)\n",
    "\n",
    "print y5[0:10]"
   ]
  },
  {
   "cell_type": "code",
   "execution_count": 68,
   "metadata": {
    "collapsed": false
   },
   "outputs": [
    {
     "name": "stdout",
     "output_type": "stream",
     "text": [
      "(234L, 3150L)\n",
      "(157L, 3150L)\n",
      "(234L,)\n",
      "(157L,)\n"
     ]
    }
   ],
   "source": [
    "X5_train, X5_test, y5_train, y5_test = train_test_split(X5, y5, test_size=0.4, random_state=50) #random_state is set seed\n",
    "\n",
    "# function creates 4 output structures - order matters\n",
    "print X5_train.shape\n",
    "print X5_test.shape\n",
    "print y5_train.shape\n",
    "print y5_test.shape"
   ]
  },
  {
   "cell_type": "markdown",
   "metadata": {},
   "source": [
    "### 16. Decision Tree"
   ]
  },
  {
   "cell_type": "code",
   "execution_count": 69,
   "metadata": {
    "collapsed": false
   },
   "outputs": [
    {
     "name": "stdout",
     "output_type": "stream",
     "text": [
      "0.573248407643\n",
      "accuracy: 0.573248407643\n",
      "             precision    recall  f1-score   support\n",
      "\n",
      "   Negative       0.29      0.35      0.31        23\n",
      "    Neutral       0.19      0.15      0.17        27\n",
      "   Positive       0.72      0.73      0.73       107\n",
      "\n",
      "avg / total       0.57      0.57      0.57       157\n",
      "\n"
     ]
    }
   ],
   "source": [
    "# Decision Tree Classifier\n",
    "from sklearn import metrics\n",
    "from sklearn.tree import DecisionTreeClassifier\n",
    "\n",
    "# fit a CART_model to the data\n",
    "DecisionTree_Custom_Senti_TfIdf = DecisionTreeClassifier(random_state = 50)\n",
    "DecisionTree_Custom_Senti_TfIdf.fit(X5_train, y5_train)\n",
    "\n",
    "# make predictions\n",
    "clf1_expected = y5_test\n",
    "clf1_predicted = DecisionTree_Custom_Senti_TfIdf.predict(X5_test)\n",
    "\n",
    "\n",
    "print DecisionTree_Custom_Senti_TfIdf.score(X5_test,y5_test)\n",
    "\n",
    "# summarize the fit of the CART_Model\n",
    "print(\"accuracy: \" + str(metrics.accuracy_score(clf1_expected, clf1_predicted)))\n",
    "print(metrics.classification_report(clf1_expected, clf1_predicted))"
   ]
  },
  {
   "cell_type": "markdown",
   "metadata": {},
   "source": [
    "### 17. Naive Bayes"
   ]
  },
  {
   "cell_type": "code",
   "execution_count": 70,
   "metadata": {
    "collapsed": false
   },
   "outputs": [
    {
     "name": "stdout",
     "output_type": "stream",
     "text": [
      "MultinomialNB(alpha=1.0, class_prior=None, fit_prior=True)\n",
      "0.68152866242\n",
      "accuracy: 0.68152866242\n",
      "             precision    recall  f1-score   support\n",
      "\n",
      "   Negative       0.00      0.00      0.00        23\n",
      "    Neutral       0.00      0.00      0.00        27\n",
      "   Positive       0.68      1.00      0.81       107\n",
      "\n",
      "avg / total       0.46      0.68      0.55       157\n",
      "\n"
     ]
    }
   ],
   "source": [
    "# Multinomial Naive Bayes\n",
    "from sklearn.naive_bayes import MultinomialNB\n",
    "\n",
    "# fit a Naive_Bayes_model to the data\n",
    "NaiveBayes_Custom_Senti_TfIdf = MultinomialNB()\n",
    "print NaiveBayes_Custom_Senti_TfIdf\n",
    "NaiveBayes_Custom_Senti_TfIdf.fit(X5_train, y5_train)\n",
    "\n",
    "# make predictions\n",
    "clf2_expected = y5_test\n",
    "clf2_predicted = NaiveBayes_Custom_Senti_TfIdf.predict(X5_test)\n",
    "\n",
    "print NaiveBayes_Custom_Senti_TfIdf.score(X5_test, y5_test)\n",
    "\n",
    "# summarize the fit of the Naivebayes\n",
    "print(\"accuracy: \" + str(metrics.accuracy_score(clf2_expected, clf2_predicted)))\n",
    "print(metrics.classification_report(clf2_expected, clf2_predicted))"
   ]
  },
  {
   "cell_type": "markdown",
   "metadata": {},
   "source": [
    "###  18. Logistic Regression"
   ]
  },
  {
   "cell_type": "code",
   "execution_count": 71,
   "metadata": {
    "collapsed": false
   },
   "outputs": [
    {
     "name": "stdout",
     "output_type": "stream",
     "text": [
      "LogisticRegression(C=1.0, class_weight=None, dual=False, fit_intercept=True,\n",
      "          intercept_scaling=1, max_iter=100, multi_class='ovr', n_jobs=1,\n",
      "          penalty='l2', random_state=50, solver='liblinear', tol=0.0001,\n",
      "          verbose=0, warm_start=False)\n",
      "0.68152866242\n",
      "accuracy: 0.68152866242\n",
      "             precision    recall  f1-score   support\n",
      "\n",
      "   Negative       0.00      0.00      0.00        23\n",
      "    Neutral       0.00      0.00      0.00        27\n",
      "   Positive       0.68      1.00      0.81       107\n",
      "\n",
      "avg / total       0.46      0.68      0.55       157\n",
      "\n"
     ]
    }
   ],
   "source": [
    "# Logistic Regression\n",
    "from sklearn.linear_model import LogisticRegression\n",
    "\n",
    "# fit a logistic regression model to the data\n",
    "logit_Custom_Senti_TfIdf = LogisticRegression(random_state = 50)\n",
    "print logit_Custom_Senti_TfIdf\n",
    "logit_Custom_Senti_TfIdf.fit(X5_train, y5_train)\n",
    "print logit_Custom_Senti_TfIdf.score(X5_test, y5_test)\n",
    "\n",
    "# make predictions\n",
    "clf3_expected = y5_test\n",
    "clf3_predicted = logit_Custom_Senti_TfIdf.predict(X5_test)\n",
    "\n",
    "# summarize the fit of the logit_pre_model\n",
    "print(\"accuracy: \" + str(metrics.accuracy_score(clf3_expected, clf3_predicted)))\n",
    "print(metrics.classification_report(clf3_expected, clf3_predicted))"
   ]
  },
  {
   "cell_type": "code",
   "execution_count": 72,
   "metadata": {
    "collapsed": false
   },
   "outputs": [
    {
     "data": {
      "text/html": [
       "<div>\n",
       "<table border=\"1\" class=\"dataframe\">\n",
       "  <thead>\n",
       "    <tr style=\"text-align: right;\">\n",
       "      <th></th>\n",
       "      <th>Model NO</th>\n",
       "      <th>Name</th>\n",
       "      <th>Processing Parameters</th>\n",
       "      <th>Model Accuracy</th>\n",
       "    </tr>\n",
       "  </thead>\n",
       "  <tbody>\n",
       "    <tr>\n",
       "      <th>4</th>\n",
       "      <td>Model 5</td>\n",
       "      <td>CleanText_CV_Naive Bayes</td>\n",
       "      <td>lowercase=True, stop_words=my_stopwords, binary=False, max_df=0.95, min_df=0.003, ngram_range = (1,2)</td>\n",
       "      <td>0.777070</td>\n",
       "    </tr>\n",
       "    <tr>\n",
       "      <th>7</th>\n",
       "      <td>Model 8</td>\n",
       "      <td>CleanText_TfIdf_Naive Bayes</td>\n",
       "      <td>lowercase=True, stop_words=my_stopwords, binary=False, max_df=0.95, min_df=0.003, ngram_range = (1,2)</td>\n",
       "      <td>0.770701</td>\n",
       "    </tr>\n",
       "    <tr>\n",
       "      <th>8</th>\n",
       "      <td>Model 9</td>\n",
       "      <td>CleanText_TfIdf_Logistic Regression</td>\n",
       "      <td>lowercase=True, stop_words=my_stopwords, binary=False, max_df=0.95, min_df=0.003, ngram_range = (1,2)</td>\n",
       "      <td>0.770701</td>\n",
       "    </tr>\n",
       "    <tr>\n",
       "      <th>5</th>\n",
       "      <td>Model 6</td>\n",
       "      <td>CleanText_CV_Logistic Regression</td>\n",
       "      <td>lowercase=True, stop_words=my_stopwords, binary=False, max_df=0.95, min_df=0.003, ngram_range = (1,2)</td>\n",
       "      <td>0.764331</td>\n",
       "    </tr>\n",
       "    <tr>\n",
       "      <th>2</th>\n",
       "      <td>Model 3</td>\n",
       "      <td>Prelim_Reviews_Logistic Regression</td>\n",
       "      <td>binary=False, lowercase = False, stop_words = \"english\"</td>\n",
       "      <td>0.738854</td>\n",
       "    </tr>\n",
       "    <tr>\n",
       "      <th>1</th>\n",
       "      <td>Model 2</td>\n",
       "      <td>Prelim_Reviews_Naive Bayes</td>\n",
       "      <td>binary=False, lowercase = False, stop_words = \"english\"</td>\n",
       "      <td>0.738854</td>\n",
       "    </tr>\n",
       "    <tr>\n",
       "      <th>10</th>\n",
       "      <td>Model 11</td>\n",
       "      <td>Stemtext_CV_Naive Bayes</td>\n",
       "      <td>lowercase=True, stop_words=my_stopwords, binary=False, max_df=0.95, min_df=0.003, ngram_range = (1,2)</td>\n",
       "      <td>0.687898</td>\n",
       "    </tr>\n",
       "    <tr>\n",
       "      <th>17</th>\n",
       "      <td>Model 18</td>\n",
       "      <td>Custom_Senti_TfIdf_Logistic Regression</td>\n",
       "      <td>lowercase=True, stop_words=my_stopwords, binary=False, max_df=0.95, min_df=0.003, ngram_range = (1,2)</td>\n",
       "      <td>0.681529</td>\n",
       "    </tr>\n",
       "    <tr>\n",
       "      <th>16</th>\n",
       "      <td>Model 17</td>\n",
       "      <td>Custom_Senti_TfIdf_Naive Bayes</td>\n",
       "      <td>lowercase=True, stop_words=my_stopwords, binary=False, max_df=0.95, min_df=0.003, ngram_range = (1,2)</td>\n",
       "      <td>0.681529</td>\n",
       "    </tr>\n",
       "    <tr>\n",
       "      <th>11</th>\n",
       "      <td>Model 12</td>\n",
       "      <td>Stemtext_CV_Logistic Regression</td>\n",
       "      <td>lowercase=True, stop_words=my_stopwords, binary=False, max_df=0.95, min_df=0.003, ngram_range = (1,2)</td>\n",
       "      <td>0.681529</td>\n",
       "    </tr>\n",
       "    <tr>\n",
       "      <th>0</th>\n",
       "      <td>Model 1</td>\n",
       "      <td>Prelim_Reviews_Decision Tree</td>\n",
       "      <td>binary=False, lowercase = False, stop_words = \"english\"</td>\n",
       "      <td>0.668790</td>\n",
       "    </tr>\n",
       "    <tr>\n",
       "      <th>14</th>\n",
       "      <td>Model 15</td>\n",
       "      <td>Custom_Senti_CV_Logistic Regression</td>\n",
       "      <td>lowercase=True, stop_words=my_stopwords, binary=False, max_df=0.95, min_df=0.003, ngram_range = (1,2)</td>\n",
       "      <td>0.656051</td>\n",
       "    </tr>\n",
       "    <tr>\n",
       "      <th>3</th>\n",
       "      <td>Model 4</td>\n",
       "      <td>CleanText_CV_Decision Tree</td>\n",
       "      <td>lowercase=True, stop_words=my_stopwords, binary=False, max_df=0.95, min_df=0.003, ngram_range = (1,2)</td>\n",
       "      <td>0.656051</td>\n",
       "    </tr>\n",
       "    <tr>\n",
       "      <th>13</th>\n",
       "      <td>Model 14</td>\n",
       "      <td>Custom_Senti_CV_Naive Bayes</td>\n",
       "      <td>lowercase=True, stop_words=my_stopwords, binary=False, max_df=0.95, min_df=0.003, ngram_range = (1,2)</td>\n",
       "      <td>0.649682</td>\n",
       "    </tr>\n",
       "    <tr>\n",
       "      <th>6</th>\n",
       "      <td>Model 7</td>\n",
       "      <td>CleanText_TfIdf_Decision Tree</td>\n",
       "      <td>lowercase=True, stop_words=my_stopwords, binary=False, max_df=0.95, min_df=0.003, ngram_range = (1,2)</td>\n",
       "      <td>0.617834</td>\n",
       "    </tr>\n",
       "    <tr>\n",
       "      <th>12</th>\n",
       "      <td>Model 13</td>\n",
       "      <td>Custom_Senti_CV_Decision Tree</td>\n",
       "      <td>lowercase=True, stop_words=my_stopwords, binary=False, max_df=0.95, min_df=0.003, ngram_range = (1,2)</td>\n",
       "      <td>0.592357</td>\n",
       "    </tr>\n",
       "    <tr>\n",
       "      <th>15</th>\n",
       "      <td>Model 16</td>\n",
       "      <td>Custom_Senti_TfIdf_Decision Tree</td>\n",
       "      <td>lowercase=True, stop_words=my_stopwords, binary=False, max_df=0.95, min_df=0.003, ngram_range = (1,2)</td>\n",
       "      <td>0.573248</td>\n",
       "    </tr>\n",
       "    <tr>\n",
       "      <th>9</th>\n",
       "      <td>Model 10</td>\n",
       "      <td>Stemtext_CV_Decision Tree</td>\n",
       "      <td>lowercase=True, stop_words=my_stopwords, binary=False, max_df=0.95, min_df=0.003, ngram_range = (1,2)</td>\n",
       "      <td>0.541401</td>\n",
       "    </tr>\n",
       "  </tbody>\n",
       "</table>\n",
       "</div>"
      ],
      "text/plain": [
       "    Model NO                                    Name  \\\n",
       "4    Model 5                CleanText_CV_Naive Bayes   \n",
       "7    Model 8             CleanText_TfIdf_Naive Bayes   \n",
       "8    Model 9     CleanText_TfIdf_Logistic Regression   \n",
       "5    Model 6        CleanText_CV_Logistic Regression   \n",
       "2    Model 3      Prelim_Reviews_Logistic Regression   \n",
       "1    Model 2              Prelim_Reviews_Naive Bayes   \n",
       "10  Model 11                 Stemtext_CV_Naive Bayes   \n",
       "17  Model 18  Custom_Senti_TfIdf_Logistic Regression   \n",
       "16  Model 17          Custom_Senti_TfIdf_Naive Bayes   \n",
       "11  Model 12         Stemtext_CV_Logistic Regression   \n",
       "0    Model 1            Prelim_Reviews_Decision Tree   \n",
       "14  Model 15     Custom_Senti_CV_Logistic Regression   \n",
       "3    Model 4              CleanText_CV_Decision Tree   \n",
       "13  Model 14             Custom_Senti_CV_Naive Bayes   \n",
       "6    Model 7           CleanText_TfIdf_Decision Tree   \n",
       "12  Model 13           Custom_Senti_CV_Decision Tree   \n",
       "15  Model 16        Custom_Senti_TfIdf_Decision Tree   \n",
       "9   Model 10               Stemtext_CV_Decision Tree   \n",
       "\n",
       "                                                                                    Processing Parameters  \\\n",
       "4   lowercase=True, stop_words=my_stopwords, binary=False, max_df=0.95, min_df=0.003, ngram_range = (1,2)   \n",
       "7   lowercase=True, stop_words=my_stopwords, binary=False, max_df=0.95, min_df=0.003, ngram_range = (1,2)   \n",
       "8   lowercase=True, stop_words=my_stopwords, binary=False, max_df=0.95, min_df=0.003, ngram_range = (1,2)   \n",
       "5   lowercase=True, stop_words=my_stopwords, binary=False, max_df=0.95, min_df=0.003, ngram_range = (1,2)   \n",
       "2                                                 binary=False, lowercase = False, stop_words = \"english\"   \n",
       "1                                                 binary=False, lowercase = False, stop_words = \"english\"   \n",
       "10  lowercase=True, stop_words=my_stopwords, binary=False, max_df=0.95, min_df=0.003, ngram_range = (1,2)   \n",
       "17  lowercase=True, stop_words=my_stopwords, binary=False, max_df=0.95, min_df=0.003, ngram_range = (1,2)   \n",
       "16  lowercase=True, stop_words=my_stopwords, binary=False, max_df=0.95, min_df=0.003, ngram_range = (1,2)   \n",
       "11  lowercase=True, stop_words=my_stopwords, binary=False, max_df=0.95, min_df=0.003, ngram_range = (1,2)   \n",
       "0                                                 binary=False, lowercase = False, stop_words = \"english\"   \n",
       "14  lowercase=True, stop_words=my_stopwords, binary=False, max_df=0.95, min_df=0.003, ngram_range = (1,2)   \n",
       "3   lowercase=True, stop_words=my_stopwords, binary=False, max_df=0.95, min_df=0.003, ngram_range = (1,2)   \n",
       "13  lowercase=True, stop_words=my_stopwords, binary=False, max_df=0.95, min_df=0.003, ngram_range = (1,2)   \n",
       "6   lowercase=True, stop_words=my_stopwords, binary=False, max_df=0.95, min_df=0.003, ngram_range = (1,2)   \n",
       "12  lowercase=True, stop_words=my_stopwords, binary=False, max_df=0.95, min_df=0.003, ngram_range = (1,2)   \n",
       "15  lowercase=True, stop_words=my_stopwords, binary=False, max_df=0.95, min_df=0.003, ngram_range = (1,2)   \n",
       "9   lowercase=True, stop_words=my_stopwords, binary=False, max_df=0.95, min_df=0.003, ngram_range = (1,2)   \n",
       "\n",
       "    Model Accuracy  \n",
       "4         0.777070  \n",
       "7         0.770701  \n",
       "8         0.770701  \n",
       "5         0.764331  \n",
       "2         0.738854  \n",
       "1         0.738854  \n",
       "10        0.687898  \n",
       "17        0.681529  \n",
       "16        0.681529  \n",
       "11        0.681529  \n",
       "0         0.668790  \n",
       "14        0.656051  \n",
       "3         0.656051  \n",
       "13        0.649682  \n",
       "6         0.617834  \n",
       "12        0.592357  \n",
       "15        0.573248  \n",
       "9         0.541401  "
      ]
     },
     "execution_count": 72,
     "metadata": {},
     "output_type": "execute_result"
    }
   ],
   "source": [
    "df.loc[len(df)]=['Model 16','Custom_Senti_TfIdf_Decision Tree',\n",
    "                 'lowercase=True, stop_words=my_stopwords, binary=False, max_df=0.95, min_df=0.003, ngram_range = (1,2)',\n",
    "                 DecisionTree_Custom_Senti_TfIdf.score(X5_test,y5_test)]\n",
    "df.loc[len(df)]=['Model 17','Custom_Senti_TfIdf_Naive Bayes',\n",
    "                 'lowercase=True, stop_words=my_stopwords, binary=False, max_df=0.95, min_df=0.003, ngram_range = (1,2)',\n",
    "                 NaiveBayes_Custom_Senti_TfIdf.score(X5_test, y5_test)]\n",
    "df.loc[len(df)]=['Model 18','Custom_Senti_TfIdf_Logistic Regression',\n",
    "                 'lowercase=True, stop_words=my_stopwords, binary=False, max_df=0.95, min_df=0.003, ngram_range = (1,2)',\n",
    "                 logit_Custom_Senti_TfIdf.score(X5_test, y5_test)]\n",
    "result = df.sort_values(by= 'Model Accuracy',ascending=False)\n",
    "result"
   ]
  }
 ],
 "metadata": {
  "kernelspec": {
   "display_name": "Python 2",
   "language": "python",
   "name": "python2"
  },
  "language_info": {
   "codemirror_mode": {
    "name": "ipython",
    "version": 2
   },
   "file_extension": ".py",
   "mimetype": "text/x-python",
   "name": "python",
   "nbconvert_exporter": "python",
   "pygments_lexer": "ipython2",
   "version": "2.7.11"
  }
 },
 "nbformat": 4,
 "nbformat_minor": 0
}
